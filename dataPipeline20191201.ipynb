{
  "nbformat": 4,
  "nbformat_minor": 0,
  "metadata": {
    "colab": {
      "name": "dataPipeline20191201.ipynb",
      "provenance": [],
      "include_colab_link": true
    },
    "kernelspec": {
      "name": "python3",
      "display_name": "Python 3"
    }
  },
  "cells": [
    {
      "cell_type": "markdown",
      "metadata": {
        "id": "view-in-github",
        "colab_type": "text"
      },
      "source": [
        "<a href=\"https://colab.research.google.com/github/balawillgetyou/dy/blob/master/dataPipeline20191201.ipynb\" target=\"_parent\"><img src=\"https://colab.research.google.com/assets/colab-badge.svg\" alt=\"Open In Colab\"/></a>"
      ]
    },
    {
      "cell_type": "markdown",
      "metadata": {
        "id": "NXTNtcqAtv7t",
        "colab_type": "text"
      },
      "source": [
        "#Automated data pipeline:\n",
        "This notebook demonstrates an approach to grabbing multiple files of unstructured data from the web and extracting information them."
      ]
    },
    {
      "cell_type": "code",
      "metadata": {
        "id": "PsOvpBNyjbRG",
        "colab_type": "code",
        "colab": {}
      },
      "source": [
        "import requests\n",
        "import re\n",
        "import pandas as pd\n",
        "import dateutil.parser as dparser"
      ],
      "execution_count": 0,
      "outputs": []
    },
    {
      "cell_type": "code",
      "metadata": {
        "id": "332fs-jJSWB4",
        "colab_type": "code",
        "colab": {}
      },
      "source": [
        "#obtaining 50 reports on livestock sales from a public data source\n",
        "i = 0\n",
        "x = 140\n",
        "fileNames = []\n",
        "while i < 49:\n",
        "  target_url = 'https://www.ams.usda.gov/mnreports/rh_ls'+str(x)+'.txt'\n",
        "  response = requests.get(target_url)\n",
        "  if response:\n",
        "    fileName = response.text[0:9]+str('.txt')\n",
        "    fileName = fileName.replace('\\r', '')\n",
        "    fileNames.append(fileName)\n",
        "    fileContent = response.text\n",
        "    with open(fileName, \"w\") as file:  \n",
        "      file.write(fileContent) \n",
        "    i += 1\n",
        "    x += 1\n",
        "  else:\n",
        "    x += 1"
      ],
      "execution_count": 0,
      "outputs": []
    },
    {
      "cell_type": "code",
      "metadata": {
        "id": "E5yqKjdU1WUa",
        "colab_type": "code",
        "colab": {}
      },
      "source": [
        "#constructing a data table by extracting information from multiple unstructured text files \n",
        "\n",
        "cleaned_data = pd.DataFrame()\n",
        "column_labels = [\"category\",\"head_sold\"]\n",
        "searchCondition = str(\"(\\w+)\\s+(\\d+)\\s+head\")# this is how we get the number of livestock sold\n",
        "\n",
        "#if the files were in a directory in the local machine, something like this would have to be used: for file in glob.glob(os.path.join(path, '*.txt')):\n",
        "for file in fileNames:\n",
        "    try:\n",
        "      data = open(file).read()\n",
        "   \n",
        "      # find # of head sold\n",
        "      sales = re.findall(searchCondition, data.lower())\n",
        "\n",
        "      # name of market (always on fourth line)\n",
        "      market = data.split(sep=\"\\n\")[3]\n",
        "\n",
        "      # date reported\n",
        "      date = dparser.parse(data[9:70],fuzzy=True).date()\n",
        "\n",
        "      if len(sales) > 0:\n",
        "        \n",
        "        df_temp = pd.DataFrame.from_records(sales, columns=column_labels)\n",
        "        df_temp[\"market\"] = market\n",
        "        df_temp[\"date_reported\"] = date\n",
        "\n",
        "      # add data about markets with no sheep sales\n",
        "      else:\n",
        "        df_temp = pd.DataFrame(data={\"category\": [\"none\"], \"head_sold\": [0]})\n",
        "        df_temp[\"market\"] = market\n",
        "        df_temp[\"date_reported\"] = date\n",
        "    \n",
        "      # append data to our cleaned data\n",
        "      cleaned_data = cleaned_data.append(df_temp, ignore_index=True)\n",
        "    except:\n",
        "      pass"
      ],
      "execution_count": 0,
      "outputs": []
    },
    {
      "cell_type": "code",
      "metadata": {
        "id": "Vd1BmA-dstBi",
        "colab_type": "code",
        "colab": {
          "base_uri": "https://localhost:8080/",
          "height": 290
        },
        "outputId": "9db18df1-b472-40ec-f106-1156fd2ea131"
      },
      "source": [
        "print(cleaned_data.shape)\n",
        "print('-'*100)\n",
        "print(cleaned_data.describe())\n",
        "print('-'*100)\n",
        "print(cleaned_data.head(5))\n",
        "print('-'*100)"
      ],
      "execution_count": 68,
      "outputs": [
        {
          "output_type": "stream",
          "text": [
            "(253, 4)\n",
            "----------------------------------------------------------------------------------------------------\n",
            "       category head_sold                           market date_reported\n",
            "count       253       253                              253           253\n",
            "unique       26        94                               45            34\n",
            "top       large         1  Marshall, VA Feeder Cattle Sale    2019-11-25\n",
            "freq        107        64                               24            42\n",
            "----------------------------------------------------------------------------------------------------\n",
            "  category head_sold                                market date_reported\n",
            "0   cattle       912  Northern Virginia Livestock Auctions    2019-11-25\n",
            "1   steers       315  Northern Virginia Livestock Auctions    2019-11-25\n",
            "2   steers         4  Northern Virginia Livestock Auctions    2019-11-25\n",
            "3  heifers       442  Northern Virginia Livestock Auctions    2019-11-25\n",
            "4    bulls       151  Northern Virginia Livestock Auctions    2019-11-25\n",
            "----------------------------------------------------------------------------------------------------\n"
          ],
          "name": "stdout"
        }
      ]
    },
    {
      "cell_type": "markdown",
      "metadata": {
        "id": "dfzwiJkyuX7j",
        "colab_type": "text"
      },
      "source": [
        "Some ideas in this notebook were inspired by the work of Rachael Tatman on Kaggle. "
      ]
    }
  ]
}