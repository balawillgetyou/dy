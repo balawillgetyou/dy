{
  "nbformat": 4,
  "nbformat_minor": 0,
  "metadata": {
    "colab": {
      "name": "LSTMGloVeTextClassifier20190927.ipynb",
      "provenance": [],
      "collapsed_sections": [],
      "include_colab_link": true
    },
    "kernelspec": {
      "name": "python3",
      "display_name": "Python 3"
    },
    "accelerator": "GPU"
  },
  "cells": [
    {
      "cell_type": "markdown",
      "metadata": {
        "id": "view-in-github",
        "colab_type": "text"
      },
      "source": [
        "<a href=\"https://colab.research.google.com/github/balawillgetyou/dy/blob/master/LSTMGloVeTextClassifier20190927.ipynb\" target=\"_parent\"><img src=\"https://colab.research.google.com/assets/colab-badge.svg\" alt=\"Open In Colab\"/></a>"
      ]
    },
    {
      "cell_type": "code",
      "metadata": {
        "id": "ulsp7WKAVsFd",
        "colab_type": "code",
        "outputId": "6435df51-bc60-436e-d923-9aabb620c670",
        "colab": {
          "base_uri": "https://localhost:8080/",
          "height": 34
        }
      },
      "source": [
        "import codecs, os, numpy as np, pandas as pd\n",
        "pd.set_option('display.max_colwidth', -1) #to prevent cell display truncation\n",
        "\n",
        "from keras.preprocessing.text import Tokenizer\n",
        "from keras.preprocessing.sequence import pad_sequences\n",
        "from keras.layers import Dense, Input, LSTM, Embedding, Dropout, Activation\n",
        "from keras.layers import Bidirectional, GlobalMaxPool1D\n",
        "from keras.models import Model\n",
        "from keras import initializers, regularizers, constraints, optimizers, layers \n",
        "#initializers, regularizers, constraints are not explicitly called\n",
        "\n",
        "from sklearn.utils import shuffle\n",
        "from sklearn import preprocessing  \n",
        "from sklearn.model_selection import train_test_split\n",
        "\n",
        "from keras.callbacks import EarlyStopping, ModelCheckpoint#options for when to stop training \n",
        "#and to save only the best performing iteration \n",
        "\n",
        "import re#for text preprocessing (checking for non words)\n",
        "\n",
        "#metrics calculation\n",
        "from sklearn.preprocessing import LabelEncoder\n",
        "from sklearn.metrics import precision_recall_fscore_support as score"
      ],
      "execution_count": 1,
      "outputs": [
        {
          "output_type": "stream",
          "text": [
            "Using TensorFlow backend.\n"
          ],
          "name": "stderr"
        }
      ]
    },
    {
      "cell_type": "code",
      "metadata": {
        "id": "TtBcczTqAVWx",
        "colab_type": "code",
        "outputId": "0eaf709f-b5c9-4037-ff48-911ae37b1e70",
        "colab": {
          "base_uri": "https://localhost:8080/",
          "height": 34
        }
      },
      "source": [
        "import tensorflow as tf\n",
        "device_name = tf.test.gpu_device_name()\n",
        "if device_name != '/device:GPU:0':\n",
        "  raise SystemError('GPU device not found')\n",
        "print('Found GPU at: {}'.format(device_name))"
      ],
      "execution_count": 2,
      "outputs": [
        {
          "output_type": "stream",
          "text": [
            "Found GPU at: /device:GPU:0\n"
          ],
          "name": "stdout"
        }
      ]
    },
    {
      "cell_type": "code",
      "metadata": {
        "id": "_qoasS8m6xWK",
        "colab_type": "code",
        "outputId": "b211f7ac-d0a5-4db9-9b07-33e5ee842ec0",
        "colab": {
          "base_uri": "https://localhost:8080/",
          "height": 122
        }
      },
      "source": [
        "from google.colab import drive\n",
        "drive.mount('/content/gdrive')"
      ],
      "execution_count": 3,
      "outputs": [
        {
          "output_type": "stream",
          "text": [
            "Go to this URL in a browser: https://accounts.google.com/o/oauth2/auth?client_id=947318989803-6bn6qk8qdgf4n4g3pfee6491hc0brc4i.apps.googleusercontent.com&redirect_uri=urn%3Aietf%3Awg%3Aoauth%3A2.0%3Aoob&scope=email%20https%3A%2F%2Fwww.googleapis.com%2Fauth%2Fdocs.test%20https%3A%2F%2Fwww.googleapis.com%2Fauth%2Fdrive%20https%3A%2F%2Fwww.googleapis.com%2Fauth%2Fdrive.photos.readonly%20https%3A%2F%2Fwww.googleapis.com%2Fauth%2Fpeopleapi.readonly&response_type=code\n",
            "\n",
            "Enter your authorization code:\n",
            "··········\n",
            "Mounted at /content/gdrive\n"
          ],
          "name": "stdout"
        }
      ]
    },
    {
      "cell_type": "code",
      "metadata": {
        "id": "qH59K1vWV6HT",
        "colab_type": "code",
        "outputId": "febb39b6-0f92-4574-951a-c5256dc61260",
        "colab": {
          "base_uri": "https://localhost:8080/",
          "height": 34
        }
      },
      "source": [
        "temp_1 = open(\"/content/gdrive/My Drive/Colab Notebooks/WhoseLineIsItAnywayTRAIN.csv\", 'r', encoding='latin-1') \n",
        "WhoseLineData = pd.read_csv(temp_1)\n",
        "print(WhoseLineData.shape)\n",
        "#temp_1 = open(\"/content/gdrive/My Drive/Colab Notebooks/WhoseLineIsItAnywayTEST.csv\", 'r', encoding='latin-1') \n",
        "#WhoseLineDataTest = pd.read_csv(temp_1)\n",
        "#print(WhoseLineDataTest.shape)"
      ],
      "execution_count": 4,
      "outputs": [
        {
          "output_type": "stream",
          "text": [
            "(18977, 2)\n"
          ],
          "name": "stdout"
        }
      ]
    },
    {
      "cell_type": "code",
      "metadata": {
        "id": "Ub02N92H4xFa",
        "colab_type": "code",
        "colab": {}
      },
      "source": [
        "#knock out the many white spaces & non words \n",
        "WhoseLineData['text'].replace(r'\\s+', ' ', regex=True, inplace=True)\n",
        "#WhoseLineDataTest['text'].replace(r'\\s+', ' ', regex=True, inplace=True)\n",
        "\n",
        "WhoseLineData['text'] = WhoseLineData['text'].str.lower().str.replace(\"[^a-zA-Z]\", \" \")\n",
        "#WhoseLineDataTest['text'] = WhoseLineDataTest['text'].str.lower().str.replace(\"[^a-zA-Z]\", \" \")"
      ],
      "execution_count": 0,
      "outputs": []
    },
    {
      "cell_type": "code",
      "metadata": {
        "id": "rprccSRJ4-4I",
        "colab_type": "code",
        "outputId": "73c41769-dfd6-4602-bec9-f53a833d1a0e",
        "colab": {
          "base_uri": "https://localhost:8080/",
          "height": 71
        }
      },
      "source": [
        "#unique word count, needed to set the max_features\n",
        "uniqueWords = set()\n",
        "WhoseLineData['text'].str.split().apply(uniqueWords.update)\n",
        "print('# of unique words',len(uniqueWords))\n",
        "print('Sample of unique words',list(uniqueWords)[1070:1100])"
      ],
      "execution_count": 6,
      "outputs": [
        {
          "output_type": "stream",
          "text": [
            "# of unique words 65924\n",
            "Sample of unique words ['hatfield', 'pebbles', 'brazils', 'furthermore', 'apostle', 'teats', 'avow', 'siegfried', 'origane', 'snowy', 'suspender', 'deny', 'particularized', 'reszkes', 'roderick', 'junkum', 'fedosie', 'sage', 'perturb', 'erfurt', 'couldn', 'loom', 'squanderings', 'glad', 'flighty', 'villains', 'kindling', 'mistress', 'assassin', 'jesters']\n"
          ],
          "name": "stdout"
        }
      ]
    },
    {
      "cell_type": "code",
      "metadata": {
        "id": "2TkpJYhJ5G-U",
        "colab_type": "code",
        "colab": {}
      },
      "source": [
        "#to get an idea for the typical length of each text, to set the maxlen parameter later\n",
        "WhoseLineData['textLength'] = WhoseLineData['text'].str.split().str.len()"
      ],
      "execution_count": 0,
      "outputs": []
    },
    {
      "cell_type": "code",
      "metadata": {
        "id": "hFFIHLA65NeH",
        "colab_type": "code",
        "outputId": "2caf0c8d-796b-4d05-8a25-cce1bee85d17",
        "colab": {
          "base_uri": "https://localhost:8080/",
          "height": 297
        }
      },
      "source": [
        "WhoseLineData.describe()"
      ],
      "execution_count": 8,
      "outputs": [
        {
          "output_type": "execute_result",
          "data": {
            "text/html": [
              "<div>\n",
              "<style scoped>\n",
              "    .dataframe tbody tr th:only-of-type {\n",
              "        vertical-align: middle;\n",
              "    }\n",
              "\n",
              "    .dataframe tbody tr th {\n",
              "        vertical-align: top;\n",
              "    }\n",
              "\n",
              "    .dataframe thead th {\n",
              "        text-align: right;\n",
              "    }\n",
              "</style>\n",
              "<table border=\"1\" class=\"dataframe\">\n",
              "  <thead>\n",
              "    <tr style=\"text-align: right;\">\n",
              "      <th></th>\n",
              "      <th>author</th>\n",
              "      <th>textLength</th>\n",
              "    </tr>\n",
              "  </thead>\n",
              "  <tbody>\n",
              "    <tr>\n",
              "      <th>count</th>\n",
              "      <td>18977.000000</td>\n",
              "      <td>18977.000000</td>\n",
              "    </tr>\n",
              "    <tr>\n",
              "      <th>mean</th>\n",
              "      <td>3.667176</td>\n",
              "      <td>400.118617</td>\n",
              "    </tr>\n",
              "    <tr>\n",
              "      <th>std</th>\n",
              "      <td>2.678708</td>\n",
              "      <td>312.926616</td>\n",
              "    </tr>\n",
              "    <tr>\n",
              "      <th>min</th>\n",
              "      <td>0.000000</td>\n",
              "      <td>23.000000</td>\n",
              "    </tr>\n",
              "    <tr>\n",
              "      <th>25%</th>\n",
              "      <td>2.000000</td>\n",
              "      <td>251.000000</td>\n",
              "    </tr>\n",
              "    <tr>\n",
              "      <th>50%</th>\n",
              "      <td>4.000000</td>\n",
              "      <td>339.000000</td>\n",
              "    </tr>\n",
              "    <tr>\n",
              "      <th>75%</th>\n",
              "      <td>5.000000</td>\n",
              "      <td>465.000000</td>\n",
              "    </tr>\n",
              "    <tr>\n",
              "      <th>max</th>\n",
              "      <td>9.000000</td>\n",
              "      <td>5908.000000</td>\n",
              "    </tr>\n",
              "  </tbody>\n",
              "</table>\n",
              "</div>"
            ],
            "text/plain": [
              "             author    textLength\n",
              "count  18977.000000  18977.000000\n",
              "mean   3.667176      400.118617  \n",
              "std    2.678708      312.926616  \n",
              "min    0.000000      23.000000   \n",
              "25%    2.000000      251.000000  \n",
              "50%    4.000000      339.000000  \n",
              "75%    5.000000      465.000000  \n",
              "max    9.000000      5908.000000 "
            ]
          },
          "metadata": {
            "tags": []
          },
          "execution_count": 8
        }
      ]
    },
    {
      "cell_type": "code",
      "metadata": {
        "id": "VBjZRORx5Q8y",
        "colab_type": "code",
        "outputId": "c184a0f3-3831-492a-a171-35fcff591780",
        "colab": {
          "base_uri": "https://localhost:8080/",
          "height": 34
        }
      },
      "source": [
        "#this is needed to define the number of nodes in the final layer of the neural network\n",
        "WhoseLineData['author'].unique()"
      ],
      "execution_count": 9,
      "outputs": [
        {
          "output_type": "execute_result",
          "data": {
            "text/plain": [
              "array([2, 0, 5, 4, 8, 3, 9, 6, 1, 7])"
            ]
          },
          "metadata": {
            "tags": []
          },
          "execution_count": 9
        }
      ]
    },
    {
      "cell_type": "code",
      "metadata": {
        "id": "rbkqq_485XSL",
        "colab_type": "code",
        "outputId": "8ae65530-667f-4b12-ffd2-db7d19d4d1d3",
        "colab": {
          "base_uri": "https://localhost:8080/",
          "height": 136
        }
      },
      "source": [
        "#finding the shortest text, displaying the row + splitting & unique words count (set)\n",
        "print('Row with the shortest text is:', WhoseLineData['textLength'].idxmin())\n",
        "print('Shortest text:', '\\n',WhoseLineData['text'][135])\n",
        "print('List of words:', '\\n', WhoseLineData['text'][135].split())\n",
        "print('#of words:', len(WhoseLineData['text'][135].split()))\n",
        "print('#of unique words:', len(set(WhoseLineData['text'][135].split())))"
      ],
      "execution_count": 10,
      "outputs": [
        {
          "output_type": "stream",
          "text": [
            "Row with the shortest text is: 135\n",
            "Shortest text: \n",
            " but what if my heart had failed me  or i had shrunk from making up my mind      no  tomorrow all shall be ended  \n",
            "List of words: \n",
            " ['but', 'what', 'if', 'my', 'heart', 'had', 'failed', 'me', 'or', 'i', 'had', 'shrunk', 'from', 'making', 'up', 'my', 'mind', 'no', 'tomorrow', 'all', 'shall', 'be', 'ended']\n",
            "#of words: 23\n",
            "#of unique words: 21\n"
          ],
          "name": "stdout"
        }
      ]
    },
    {
      "cell_type": "code",
      "metadata": {
        "id": "yvK8FX1Q5dAw",
        "colab_type": "code",
        "outputId": "f0899f87-f140-46b9-ecb3-ddb1050b17d7",
        "colab": {
          "base_uri": "https://localhost:8080/",
          "height": 105
        }
      },
      "source": [
        "#finding the longest text, splitting & unique words count (set), and display some of the\n",
        "#unique words. Note the presence of special characters despite running regex above\n",
        "print('Row with the longest text is:', WhoseLineData['textLength'].idxmax())\n",
        "print('#of unique words:', len(set(WhoseLineData['text'][16960].split())))\n",
        "print('Sample of unique words:', '\\n', list(set(WhoseLineData['text'][16960].split()))[0:50])"
      ],
      "execution_count": 11,
      "outputs": [
        {
          "output_type": "stream",
          "text": [
            "Row with the longest text is: 16960\n",
            "#of unique words: 1110\n",
            "Sample of unique words: \n",
            " ['been', 'souls', 'comes', 'daughter', 'back', 'steep', 'shadow', 'damned', 'sat', 'orders', 'visible', 'seen', 'break', 'palaces', 'turn', 'loving', 'wooing', 'particle', 'told', 'elderly', 'an', 'second', 'night', 'coined', 'smitten', 'answer', 'none', 'orchard', 'belly', 'lose', 'to', 'condoled', 'women', 'this', 'read', 'shop', 'steamers', 'often', 'walk', 'bird', 'thinking', 'fortunate', 'rubbing', 'target', 'pour', 'sorrow', 'ava', 'orchards', 'lies', 'explain']\n"
          ],
          "name": "stdout"
        }
      ]
    },
    {
      "cell_type": "code",
      "metadata": {
        "id": "8gDXXOll5kp3",
        "colab_type": "code",
        "colab": {}
      },
      "source": [
        "EMBEDDING_FILE='/content/gdrive/My Drive/Colab Notebooks/glove.6B.50d.txt'#word emdedding file\n",
        "embed_size = 50 # word vector/ embedding size\n",
        "max_features = 20000 # number unique words to use (i.e num rows in embedding vector)\n",
        "maxlen = 250 # max number of words used, from each row of text"
      ],
      "execution_count": 0,
      "outputs": []
    },
    {
      "cell_type": "code",
      "metadata": {
        "id": "zXDnPhmz5n-C",
        "colab_type": "code",
        "outputId": "9f44e4a7-0c99-4121-c366-25448d06a491",
        "colab": {
          "base_uri": "https://localhost:8080/",
          "height": 241
        }
      },
      "source": [
        "#splitting train and test data\n",
        "train, test = train_test_split(WhoseLineData, test_size=0.15)\n",
        "train = train.reset_index(drop=True)\n",
        "test = test.reset_index(drop=True)\n",
        "\n",
        "#for final submission\n",
        "#train = WhoseLineData\n",
        "#test = WhoseLineDataTest\n",
        "\n",
        "list_sentences_train = train[\"text\"]\n",
        "list_sentences_test = test[\"text\"]\n",
        "\n",
        "#one hot encoding the labels\n",
        "y = train['author']\n",
        "y=y.values.reshape(-1,1)\n",
        "enc = preprocessing.OneHotEncoder(categorical_features = [0])\n",
        "y1 = enc.fit_transform(y).toarray()\n",
        "\n",
        "y = test['author']\n",
        "y=y.values.reshape(-1,1)\n",
        "y_test = enc.fit_transform(y).toarray()#reuse the same encoder that transformed training data"
      ],
      "execution_count": 13,
      "outputs": [
        {
          "output_type": "stream",
          "text": [
            "/usr/local/lib/python3.6/dist-packages/sklearn/preprocessing/_encoders.py:415: FutureWarning: The handling of integer data will change in version 0.22. Currently, the categories are determined based on the range [0, max(values)], while in the future they will be determined based on the unique values.\n",
            "If you want the future behaviour and silence this warning, you can specify \"categories='auto'\".\n",
            "In case you used a LabelEncoder before this OneHotEncoder to convert the categories to integers, then you can now use the OneHotEncoder directly.\n",
            "  warnings.warn(msg, FutureWarning)\n",
            "/usr/local/lib/python3.6/dist-packages/sklearn/preprocessing/_encoders.py:451: DeprecationWarning: The 'categorical_features' keyword is deprecated in version 0.20 and will be removed in 0.22. You can use the ColumnTransformer instead.\n",
            "  \"use the ColumnTransformer instead.\", DeprecationWarning)\n",
            "/usr/local/lib/python3.6/dist-packages/sklearn/preprocessing/_encoders.py:415: FutureWarning: The handling of integer data will change in version 0.22. Currently, the categories are determined based on the range [0, max(values)], while in the future they will be determined based on the unique values.\n",
            "If you want the future behaviour and silence this warning, you can specify \"categories='auto'\".\n",
            "In case you used a LabelEncoder before this OneHotEncoder to convert the categories to integers, then you can now use the OneHotEncoder directly.\n",
            "  warnings.warn(msg, FutureWarning)\n",
            "/usr/local/lib/python3.6/dist-packages/sklearn/preprocessing/_encoders.py:451: DeprecationWarning: The 'categorical_features' keyword is deprecated in version 0.20 and will be removed in 0.22. You can use the ColumnTransformer instead.\n",
            "  \"use the ColumnTransformer instead.\", DeprecationWarning)\n"
          ],
          "name": "stderr"
        }
      ]
    },
    {
      "cell_type": "code",
      "metadata": {
        "id": "yCBb99Al5u-T",
        "colab_type": "code",
        "outputId": "9d85824f-57c7-4283-c2f7-9b36243d7fe7",
        "colab": {
          "base_uri": "https://localhost:8080/",
          "height": 34
        }
      },
      "source": [
        "len(list_sentences_test)#confirming test data size"
      ],
      "execution_count": 14,
      "outputs": [
        {
          "output_type": "execute_result",
          "data": {
            "text/plain": [
              "2847"
            ]
          },
          "metadata": {
            "tags": []
          },
          "execution_count": 14
        }
      ]
    },
    {
      "cell_type": "code",
      "metadata": {
        "id": "7BdBy4XW7BUE",
        "colab_type": "code",
        "colab": {}
      },
      "source": [
        "#convert texts to lists of word indices + padding lists so they are all of equal length\n",
        "tokenizer = Tokenizer(num_words=max_features)\n",
        "tokenizer.fit_on_texts(list(list_sentences_train))\n",
        "list_tokenized_train = tokenizer.texts_to_sequences(list_sentences_train)\n",
        "list_tokenized_test = tokenizer.texts_to_sequences(list_sentences_test)\n",
        "X_t = pad_sequences(list_tokenized_train, maxlen=maxlen)\n",
        "X_te = pad_sequences(list_tokenized_test, maxlen=maxlen)"
      ],
      "execution_count": 0,
      "outputs": []
    },
    {
      "cell_type": "code",
      "metadata": {
        "id": "3yJO3q6d52rA",
        "colab_type": "code",
        "colab": {}
      },
      "source": [
        "#loading word embedding\n",
        "def get_coefs(word,*arr): return word, np.asarray(arr, dtype='float32')\n",
        "embeddings_index = dict(get_coefs(*o.strip().split()) for o in open(EMBEDDING_FILE))"
      ],
      "execution_count": 0,
      "outputs": []
    },
    {
      "cell_type": "code",
      "metadata": {
        "id": "ZJUv-cMX6Sqn",
        "colab_type": "code",
        "outputId": "721cc03f-9668-458b-b8e4-ee292eb0a486",
        "colab": {
          "base_uri": "https://localhost:8080/",
          "height": 88
        }
      },
      "source": [
        "#this and the next cell convert word indices to word embeddings, where available. use random initialization for others.\n",
        "all_embs = np.stack(embeddings_index.values())\n",
        "emb_mean,emb_std = all_embs.mean(), all_embs.std()\n",
        "emb_mean,emb_std"
      ],
      "execution_count": 17,
      "outputs": [
        {
          "output_type": "stream",
          "text": [
            "/usr/local/lib/python3.6/dist-packages/ipykernel_launcher.py:1: FutureWarning: arrays to stack must be passed as a \"sequence\" type such as list or tuple. Support for non-sequence iterables such as generators is deprecated as of NumPy 1.16 and will raise an error in the future.\n",
            "  \"\"\"Entry point for launching an IPython kernel.\n"
          ],
          "name": "stderr"
        },
        {
          "output_type": "execute_result",
          "data": {
            "text/plain": [
              "(0.020940498, 0.6441043)"
            ]
          },
          "metadata": {
            "tags": []
          },
          "execution_count": 17
        }
      ]
    },
    {
      "cell_type": "code",
      "metadata": {
        "id": "hZ-zHKZUHxt6",
        "colab_type": "code",
        "colab": {}
      },
      "source": [
        "word_index = tokenizer.word_index\n",
        "nb_words = min(max_features, len(word_index)+1)\n",
        "embedding_matrix = np.random.normal(emb_mean, emb_std, (nb_words, embed_size))\n",
        "for word, i in word_index.items():\n",
        "    if i >= max_features: continue\n",
        "    embedding_vector = embeddings_index.get(word)\n",
        "    if embedding_vector is not None: embedding_matrix[i] = embedding_vector"
      ],
      "execution_count": 0,
      "outputs": []
    },
    {
      "cell_type": "code",
      "metadata": {
        "id": "ad7smbcB6YGw",
        "colab_type": "code",
        "colab": {}
      },
      "source": [
        "#definining a bi-directional LSTM\n",
        "inp = Input(shape=(maxlen,))\n",
        "x = Embedding(max_features, embed_size, weights=[embedding_matrix])(inp)\n",
        "x = Bidirectional(LSTM(50, return_sequences=True, dropout=0.05, recurrent_dropout=0.05))(x)\n",
        "x = Bidirectional(LSTM(50, return_sequences=True, dropout=0.05, recurrent_dropout=0.05))(x)\n",
        "x = GlobalMaxPool1D()(x)\n",
        "x = Dense(50, activation=\"relu\")(x)\n",
        "x = Dropout(0.1)(x)\n",
        "x = Dense(10, activation=\"sigmoid\")(x)\n",
        "model = Model(inputs=inp, outputs=x)\n",
        "model.compile(loss='categorical_crossentropy', optimizer='adam', metrics=['accuracy'])"
      ],
      "execution_count": 0,
      "outputs": []
    },
    {
      "cell_type": "code",
      "metadata": {
        "id": "dbRpc5ShSiQE",
        "colab_type": "code",
        "colab": {}
      },
      "source": [
        "#training for more epochs seemed to help. the callback helps prevents over doing it. probably a good idea to add \n",
        "#checkpoint as well to save the best performing iteration. checkpoint = [ModelCheckpoint(filepath='models.hdf5')]\n",
        " \n",
        "callbacks = [EarlyStopping(monitor='val_loss', patience=2)]"
      ],
      "execution_count": 0,
      "outputs": []
    },
    {
      "cell_type": "code",
      "metadata": {
        "id": "g_0djPSH7YOI",
        "colab_type": "code",
        "outputId": "695555ae-59e5-43cf-ce49-78c6f558cee1",
        "colab": {
          "base_uri": "https://localhost:8080/",
          "height": 1000
        }
      },
      "source": [
        "model.fit(X_t, y1, batch_size=1000, epochs=30, callbacks=callbacks, validation_split=0.1)"
      ],
      "execution_count": 32,
      "outputs": [
        {
          "output_type": "stream",
          "text": [
            "Train on 14517 samples, validate on 1613 samples\n",
            "Epoch 1/30\n",
            "14517/14517 [==============================] - 47s 3ms/step - loss: 2.2397 - acc: 0.1601 - val_loss: 2.1598 - val_acc: 0.1878\n",
            "Epoch 2/30\n",
            "14517/14517 [==============================] - 42s 3ms/step - loss: 2.1297 - acc: 0.1938 - val_loss: 2.0613 - val_acc: 0.1897\n",
            "Epoch 3/30\n",
            "14517/14517 [==============================] - 42s 3ms/step - loss: 2.0417 - acc: 0.2272 - val_loss: 1.9398 - val_acc: 0.2771\n",
            "Epoch 4/30\n",
            "14517/14517 [==============================] - 42s 3ms/step - loss: 1.9324 - acc: 0.2576 - val_loss: 1.8307 - val_acc: 0.3007\n",
            "Epoch 5/30\n",
            "14517/14517 [==============================] - 42s 3ms/step - loss: 1.8246 - acc: 0.2949 - val_loss: 1.7283 - val_acc: 0.3236\n",
            "Epoch 6/30\n",
            "14517/14517 [==============================] - 41s 3ms/step - loss: 1.7110 - acc: 0.3455 - val_loss: 1.5486 - val_acc: 0.3962\n",
            "Epoch 7/30\n",
            "14517/14517 [==============================] - 42s 3ms/step - loss: 1.6016 - acc: 0.3755 - val_loss: 1.4603 - val_acc: 0.4272\n",
            "Epoch 8/30\n",
            "14517/14517 [==============================] - 42s 3ms/step - loss: 1.4940 - acc: 0.4062 - val_loss: 1.3411 - val_acc: 0.4799\n",
            "Epoch 9/30\n",
            "14517/14517 [==============================] - 41s 3ms/step - loss: 1.3943 - acc: 0.4518 - val_loss: 1.2451 - val_acc: 0.5226\n",
            "Epoch 10/30\n",
            "14517/14517 [==============================] - 42s 3ms/step - loss: 1.2932 - acc: 0.4973 - val_loss: 1.1532 - val_acc: 0.5753\n",
            "Epoch 11/30\n",
            "14517/14517 [==============================] - 42s 3ms/step - loss: 1.1999 - acc: 0.5244 - val_loss: 1.1211 - val_acc: 0.5511\n",
            "Epoch 12/30\n",
            "14517/14517 [==============================] - 42s 3ms/step - loss: 1.1298 - acc: 0.5569 - val_loss: 1.0398 - val_acc: 0.6063\n",
            "Epoch 13/30\n",
            "14517/14517 [==============================] - 42s 3ms/step - loss: 1.0470 - acc: 0.5908 - val_loss: 0.9405 - val_acc: 0.6578\n",
            "Epoch 14/30\n",
            "14517/14517 [==============================] - 41s 3ms/step - loss: 0.9843 - acc: 0.6185 - val_loss: 0.8796 - val_acc: 0.6844\n",
            "Epoch 15/30\n",
            "14517/14517 [==============================] - 42s 3ms/step - loss: 0.9188 - acc: 0.6523 - val_loss: 0.8574 - val_acc: 0.6813\n",
            "Epoch 16/30\n",
            "14517/14517 [==============================] - 42s 3ms/step - loss: 0.8418 - acc: 0.6880 - val_loss: 0.7819 - val_acc: 0.7111\n",
            "Epoch 17/30\n",
            "14517/14517 [==============================] - 42s 3ms/step - loss: 0.7649 - acc: 0.7225 - val_loss: 0.7089 - val_acc: 0.7390\n",
            "Epoch 18/30\n",
            "14517/14517 [==============================] - 42s 3ms/step - loss: 0.6997 - acc: 0.7466 - val_loss: 0.6659 - val_acc: 0.7588\n",
            "Epoch 19/30\n",
            "14517/14517 [==============================] - 42s 3ms/step - loss: 0.6204 - acc: 0.7796 - val_loss: 0.6138 - val_acc: 0.7867\n",
            "Epoch 20/30\n",
            "14517/14517 [==============================] - 41s 3ms/step - loss: 0.5733 - acc: 0.8022 - val_loss: 0.5714 - val_acc: 0.8035\n",
            "Epoch 21/30\n",
            "14517/14517 [==============================] - 42s 3ms/step - loss: 0.5130 - acc: 0.8210 - val_loss: 0.5539 - val_acc: 0.8128\n",
            "Epoch 22/30\n",
            "14517/14517 [==============================] - 42s 3ms/step - loss: 0.4693 - acc: 0.8397 - val_loss: 0.5353 - val_acc: 0.8128\n",
            "Epoch 23/30\n",
            "14517/14517 [==============================] - 42s 3ms/step - loss: 0.4196 - acc: 0.8567 - val_loss: 0.5016 - val_acc: 0.8227\n",
            "Epoch 24/30\n",
            "14517/14517 [==============================] - 42s 3ms/step - loss: 0.3792 - acc: 0.8700 - val_loss: 0.4715 - val_acc: 0.8450\n",
            "Epoch 25/30\n",
            "14517/14517 [==============================] - 43s 3ms/step - loss: 0.3338 - acc: 0.8885 - val_loss: 0.4570 - val_acc: 0.8493\n",
            "Epoch 26/30\n",
            "14517/14517 [==============================] - 42s 3ms/step - loss: 0.3006 - acc: 0.9002 - val_loss: 0.4513 - val_acc: 0.8586\n",
            "Epoch 27/30\n",
            "14517/14517 [==============================] - 42s 3ms/step - loss: 0.2708 - acc: 0.9105 - val_loss: 0.4343 - val_acc: 0.8580\n",
            "Epoch 28/30\n",
            "14517/14517 [==============================] - 42s 3ms/step - loss: 0.2355 - acc: 0.9237 - val_loss: 0.4232 - val_acc: 0.8655\n",
            "Epoch 29/30\n",
            "14517/14517 [==============================] - 42s 3ms/step - loss: 0.2072 - acc: 0.9327 - val_loss: 0.4104 - val_acc: 0.8735\n",
            "Epoch 30/30\n",
            "14517/14517 [==============================] - 42s 3ms/step - loss: 0.1829 - acc: 0.9421 - val_loss: 0.4103 - val_acc: 0.8741\n"
          ],
          "name": "stdout"
        },
        {
          "output_type": "execute_result",
          "data": {
            "text/plain": [
              "<keras.callbacks.History at 0x7fafea81b160>"
            ]
          },
          "metadata": {
            "tags": []
          },
          "execution_count": 32
        }
      ]
    },
    {
      "cell_type": "code",
      "metadata": {
        "id": "Mb_t5dZy7t1J",
        "colab_type": "code",
        "outputId": "0d529930-278e-4fa1-e473-9d29da280ecc",
        "colab": {
          "base_uri": "https://localhost:8080/",
          "height": 34
        }
      },
      "source": [
        "y_pred = model.predict([X_te], batch_size=1000, verbose=1)"
      ],
      "execution_count": 33,
      "outputs": [
        {
          "output_type": "stream",
          "text": [
            "2847/2847 [==============================] - 4s 1ms/step\n"
          ],
          "name": "stdout"
        }
      ]
    },
    {
      "cell_type": "code",
      "metadata": {
        "id": "eZVyKDwGmhBH",
        "colab_type": "code",
        "outputId": "649dce9d-cd83-491a-8399-b31d8aaa6b42",
        "colab": {
          "base_uri": "https://localhost:8080/",
          "height": 238
        }
      },
      "source": [
        "y_test = np.argmax(y_test, axis=1)\n",
        "y_pred = np.argmax(y_pred, axis=1)\n",
        "precision, recall, fscore, support = score(y_test, y_pred, labels = [0,1,2,3,4,5,6,7,8,9])\n",
        "results1 = pd.concat((pd.Series([0,1,2,3,4,5,6,7,8,9]), pd.Series(precision), pd.Series(recall), pd.Series(fscore), pd.Series(support)), axis=1, join = 'outer')\n",
        "results1.columns=('label','precision', 'recall', 'fscore', 'support')\n",
        "print('Results','\\n','*'*50,'\\n',round(results1,2))"
      ],
      "execution_count": 34,
      "outputs": [
        {
          "output_type": "stream",
          "text": [
            "Results \n",
            " ************************************************** \n",
            "    label  precision  recall  fscore  support\n",
            "0  0      0.94       0.91    0.93    598    \n",
            "1  1      0.78       0.80    0.79    99     \n",
            "2  2      0.93       0.93    0.93    395    \n",
            "3  3      0.96       0.96    0.96    196    \n",
            "4  4      0.92       0.93    0.92    492    \n",
            "5  5      0.83       0.89    0.86    482    \n",
            "6  6      0.87       0.86    0.87    118    \n",
            "7  7      0.78       0.73    0.75    162    \n",
            "8  8      0.92       0.73    0.81    151    \n",
            "9  9      0.75       0.86    0.80    154    \n"
          ],
          "name": "stdout"
        }
      ]
    }
  ]
}