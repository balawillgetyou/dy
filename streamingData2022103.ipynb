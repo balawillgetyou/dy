{
  "nbformat": 4,
  "nbformat_minor": 0,
  "metadata": {
    "colab": {
      "provenance": [],
      "collapsed_sections": [],
      "authorship_tag": "ABX9TyOp0Ts0R9/dhKrwxpEV3mPO",
      "include_colab_link": true
    },
    "kernelspec": {
      "name": "python3",
      "display_name": "Python 3"
    },
    "language_info": {
      "name": "python"
    }
  },
  "cells": [
    {
      "cell_type": "markdown",
      "metadata": {
        "id": "view-in-github",
        "colab_type": "text"
      },
      "source": [
        "<a href=\"https://colab.research.google.com/github/balawillgetyou/dy/blob/master/streamingData2022103.ipynb\" target=\"_parent\"><img src=\"https://colab.research.google.com/assets/colab-badge.svg\" alt=\"Open In Colab\"/></a>"
      ]
    },
    {
      "cell_type": "markdown",
      "source": [
        "#Online machine learning for streaming data:  \n",
        "The traditional machine learning approach is to train a model on a batch of data and then deploy it for inference. But streaming data, say from IoT devices, can change or drift over time. Such a drift could affect the distribution of independent features, P(X), without affecting their relationship to the dependent feature, y. Or, the joint probability P(X,y) could change.  \n",
        "  \n",
        "One way to deal with such data drift is to retrain the model either periodically or when the changes exceed some threshold. \n",
        "  \n",
        "The other way to deal with this is Online Machine Learning, which just learns one record at a time. We explore this further in this notebook.  \n",
        "\n",
        "\n",
        "\n",
        "The River package [link text](https://github.com/online-ml/river/) is one of several ways to deal with "
      ],
      "metadata": {
        "id": "oJDWh6w8i7gS"
      }
    },
    {
      "cell_type": "code",
      "execution_count": 2,
      "metadata": {
        "colab": {
          "base_uri": "https://localhost:8080/"
        },
        "id": "iTX6k0uaU1iu",
        "outputId": "dfe38026-05b4-41b9-a7ad-b8a9066afba2"
      },
      "outputs": [
        {
          "output_type": "stream",
          "name": "stdout",
          "text": [
            "Looking in indexes: https://pypi.org/simple, https://us-python.pkg.dev/colab-wheels/public/simple/\n",
            "Collecting river\n",
            "  Downloading river-0.10.1-cp37-cp37m-manylinux_2_5_x86_64.manylinux1_x86_64.manylinux_2_17_x86_64.manylinux2014_x86_64.whl (2.0 MB)\n",
            "\u001b[K     |████████████████████████████████| 2.0 MB 2.1 MB/s \n",
            "\u001b[?25hRequirement already satisfied: numpy>=1.20.0 in /usr/local/lib/python3.7/dist-packages (from river) (1.21.6)\n",
            "Requirement already satisfied: scipy>=1.4.1 in /usr/local/lib/python3.7/dist-packages (from river) (1.7.3)\n",
            "Requirement already satisfied: pandas>=1.0.1 in /usr/local/lib/python3.7/dist-packages (from river) (1.3.5)\n",
            "Requirement already satisfied: pytz>=2017.3 in /usr/local/lib/python3.7/dist-packages (from pandas>=1.0.1->river) (2022.2.1)\n",
            "Requirement already satisfied: python-dateutil>=2.7.3 in /usr/local/lib/python3.7/dist-packages (from pandas>=1.0.1->river) (2.8.2)\n",
            "Requirement already satisfied: six>=1.5 in /usr/local/lib/python3.7/dist-packages (from python-dateutil>=2.7.3->pandas>=1.0.1->river) (1.15.0)\n",
            "Installing collected packages: river\n",
            "Successfully installed river-0.10.1\n"
          ]
        }
      ],
      "source": [
        "!pip install river"
      ]
    },
    {
      "cell_type": "markdown",
      "source": [
        "##Drift example   \n",
        "This is an example with manufactured univariate data made to appear like a drift has ocurred and using the River package to detect drift."
      ],
      "metadata": {
        "id": "_2K-dpQtq81E"
      }
    },
    {
      "cell_type": "code",
      "source": [
        "import numpy as np\n",
        "import matplotlib.pyplot as plt\n",
        "from matplotlib import gridspec\n",
        "\n",
        "# Generate data for 3 distributions\n",
        "random_state = np.random.RandomState(seed=42)\n",
        "dist_a = random_state.normal(0.8, 0.05, 1000)\n",
        "dist_b = random_state.normal(0.4, 0.02, 1000)\n",
        "dist_c = random_state.normal(0.6, 0.1, 1000)\n",
        "\n",
        "# Concatenate data to simulate a data stream with 2 drifts\n",
        "stream = np.concatenate((dist_a, dist_b, dist_c))\n",
        "\n",
        "# Auxiliary function to plot the data\n",
        "def plot_data(dist_a, dist_b, dist_c, drifts=None):\n",
        "    fig = plt.figure(figsize=(7,3), tight_layout=True)\n",
        "    gs = gridspec.GridSpec(1, 2, width_ratios=[3, 1])\n",
        "    ax1, ax2 = plt.subplot(gs[0]), plt.subplot(gs[1])\n",
        "    ax1.grid()\n",
        "    ax1.plot(stream, label='Stream')\n",
        "    ax2.grid(axis='y')\n",
        "    ax2.hist(dist_a, label=r'$dist_a$')\n",
        "    ax2.hist(dist_b, label=r'$dist_b$')\n",
        "    ax2.hist(dist_c, label=r'$dist_c$')\n",
        "    if drifts is not None:\n",
        "        for drift_detected in drifts:\n",
        "            ax1.axvline(drift_detected, color='red')\n",
        "    plt.show()\n",
        "\n",
        "plot_data(dist_a, dist_b, dist_c)\n"
      ],
      "metadata": {
        "colab": {
          "base_uri": "https://localhost:8080/",
          "height": 225
        },
        "id": "wFyNdvkRrEVQ",
        "outputId": "53f0d212-fdea-4aa4-8745-71217b5cb37b"
      },
      "execution_count": null,
      "outputs": [
        {
          "output_type": "display_data",
          "data": {
            "text/plain": [
              "<Figure size 504x216 with 2 Axes>"
            ],
            "image/png": "[encoded data removed]"
          },
          "metadata": {
            "needs_background": "light"
          }
        }
      ]
    },
    {
      "cell_type": "code",
      "source": [
        "from river import drift\n",
        "\n",
        "drift_detector = drift.ADWIN()\n",
        "drifts = []\n",
        "\n",
        "for i, val in enumerate(stream):\n",
        "    drift_detector.update(val)   # Data is processed one sample at a time\n",
        "    if drift_detector.change_detected:\n",
        "        # The drift detector indicates after each sample if there is a drift in the data\n",
        "        print(f'Change detected at index {i}')\n",
        "        drifts.append(i)\n",
        "\n",
        "plot_data(dist_a, dist_b, dist_c, drifts)\n"
      ],
      "metadata": {
        "colab": {
          "base_uri": "https://localhost:8080/",
          "height": 370
        },
        "id": "i5R4Vw8YrFx-",
        "outputId": "58107bfb-4756-46f5-f1c3-37fcab671b3c"
      },
      "execution_count": null,
      "outputs": [
        {
          "output_type": "stream",
          "name": "stdout",
          "text": [
            "Change detected at index 1055\n",
            "Change detected at index 1087\n",
            "Change detected at index 1151\n",
            "Change detected at index 1183\n",
            "Change detected at index 2111\n",
            "Change detected at index 2143\n",
            "Change detected at index 2207\n",
            "Change detected at index 2335\n"
          ]
        },
        {
          "output_type": "display_data",
          "data": {
            "text/plain": [
              "<Figure size 504x216 with 2 Axes>"
            ],
            "image/png": "[encoded data removed]"
          },
          "metadata": {
            "needs_background": "light"
          }
        }
      ]
    },
    {
      "cell_type": "markdown",
      "source": [
        "#Online learning - regression   \n",
        "We demonstrate how to learn one record at a time \"online\".  "
      ],
      "metadata": {
        "id": "91iGTVrDykuA"
      }
    },
    {
      "cell_type": "code",
      "source": [
        "from river import datasets\n",
        "\n",
        "dataset = datasets.TrumpApproval()\n",
        "dataset"
      ],
      "metadata": {
        "colab": {
          "base_uri": "https://localhost:8080/"
        },
        "id": "YKRjte1SzKyd",
        "outputId": "3c3c2ded-f7fe-465f-811d-626c070dd0c3"
      },
      "execution_count": 3,
      "outputs": [
        {
          "output_type": "execute_result",
          "data": {
            "text/plain": [
              "Donald Trump approval ratings.\n",
              "\n",
              "This dataset was obtained by reshaping the data used by FiveThirtyEight for analyzing Donald\n",
              "Trump's approval ratings. It contains 5 features, which are approval ratings collected by\n",
              "5 polling agencies. The target is the approval rating from FiveThirtyEight's model. The goal of\n",
              "this task is to see if we can reproduce FiveThirtyEight's model.\n",
              "\n",
              "    Name  TrumpApproval                                                              \n",
              "    Task  Regression                                                                 \n",
              " Samples  1,001                                                                      \n",
              "Features  6                                                                          \n",
              "  Sparse  False                                                                      \n",
              "    Path  /usr/local/lib/python3.7/dist-packages/river/datasets/trump_approval.csv.gz"
            ]
          },
          "metadata": {},
          "execution_count": 3
        }
      ]
    },
    {
      "cell_type": "code",
      "source": [
        "#looking at a sample record\n",
        "x, y = next(iter(dataset))\n",
        "x"
      ],
      "metadata": {
        "colab": {
          "base_uri": "https://localhost:8080/"
        },
        "id": "3Fdf2AoB4zR6",
        "outputId": "3801218e-63a5-4133-a325-a106cacd4adb"
      },
      "execution_count": 11,
      "outputs": [
        {
          "output_type": "execute_result",
          "data": {
            "text/plain": [
              "{'ordinal_date': 736389,\n",
              " 'gallup': 43.843213,\n",
              " 'ipsos': 46.19925042857143,\n",
              " 'morning_consult': 48.318749,\n",
              " 'rasmussen': 44.104692,\n",
              " 'you_gov': 43.636914000000004}"
            ]
          },
          "metadata": {},
          "execution_count": 11
        }
      ]
    },
    {
      "cell_type": "code",
      "source": [
        "from river import metrics\n",
        "\n",
        "model = neighbors.KNNRegressor()#using a simple regressor\n",
        "\n",
        "metric = metrics.MAE()\n",
        "\n",
        "i = 0#to print performance metric at specific intervals\n",
        "\n",
        "for x, y in dataset:\n",
        "    y_pred = model.predict_one(x)#online models first make a prediction\n",
        "    model.learn_one(x, y)#then, the ground truth is revealed and the learner learns from this single record\n",
        "    metric.update(y, y_pred)#a metric is calculated to measure progress\n",
        "    i += 1\n",
        "    if i == 200:\n",
        "      print(metric)\n",
        "      i = 0"
      ],
      "metadata": {
        "colab": {
          "base_uri": "https://localhost:8080/"
        },
        "id": "Kt8xRry-5AlF",
        "outputId": "58103995-63cc-46e3-8d00-d671aa12af84"
      },
      "execution_count": 17,
      "outputs": [
        {
          "output_type": "stream",
          "name": "stdout",
          "text": [
            "MAE: 0.569927\n",
            "MAE: 0.429117\n",
            "MAE: 0.369737\n",
            "MAE: 0.337881\n",
            "MAE: 0.310519\n"
          ]
        },
        {
          "output_type": "execute_result",
          "data": {
            "text/plain": [
              "MAE: 0.310324"
            ]
          },
          "metadata": {},
          "execution_count": 17
        }
      ]
    },
    {
      "cell_type": "markdown",
      "source": [
        "#Result:  \n",
        "Cummulative learning is seen, in the improving MAE, as data is \"streamed\". Even if the data drifts, the change in the joint probability, P(X,y) is accounted for, as the model continues to learn with each record."
      ],
      "metadata": {
        "id": "bDG2wP8q8pKI"
      }
    },
    {
      "cell_type": "markdown",
      "source": [
        "##Reference:  \n",
        "https://riverml.xyz/dev/introduction/installation/"
      ],
      "metadata": {
        "id": "6DMxPsyw9FDj"
      }
    }
  ]
}