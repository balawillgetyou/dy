{
  "nbformat": 4,
  "nbformat_minor": 0,
  "metadata": {
    "colab": {
      "provenance": [],
      "collapsed_sections": [],
      "authorship_tag": "ABX9TyNJXx++kWSJPNqMJiisEf6M",
      "include_colab_link": true
    },
    "kernelspec": {
      "name": "python3",
      "display_name": "Python 3"
    },
    "language_info": {
      "name": "python"
    },
    "gpuClass": "standard",
    "accelerator": "GPU",
    "widgets": {
      "application/vnd.jupyter.widget-state+json": {
        "a6959d0a397141c29d53da20357ce79f": {
          "model_module": "@jupyter-widgets/controls",
          "model_name": "HBoxModel",
          "model_module_version": "1.5.0",
          "state": {
            "_dom_classes": [],
            "_model_module": "@jupyter-widgets/controls",
            "_model_module_version": "1.5.0",
            "_model_name": "HBoxModel",
            "_view_count": null,
            "_view_module": "@jupyter-widgets/controls",
            "_view_module_version": "1.5.0",
            "_view_name": "HBoxView",
            "box_style": "",
            "children": [
              "IPY_MODEL_4f9f4322329d40db945430b838fee10f",
              "IPY_MODEL_bcfa4e17022f43ca9002cf158a90e4ad",
              "IPY_MODEL_24929e61d0144b16a8d3b8f77c3eacad"
            ],
            "layout": "IPY_MODEL_4148ee2769b346ab845e1ffba0d706f2"
          }
        },
        "4f9f4322329d40db945430b838fee10f": {
          "model_module": "@jupyter-widgets/controls",
          "model_name": "HTMLModel",
          "model_module_version": "1.5.0",
          "state": {
            "_dom_classes": [],
            "_model_module": "@jupyter-widgets/controls",
            "_model_module_version": "1.5.0",
            "_model_name": "HTMLModel",
            "_view_count": null,
            "_view_module": "@jupyter-widgets/controls",
            "_view_module_version": "1.5.0",
            "_view_name": "HTMLView",
            "description": "",
            "description_tooltip": null,
            "layout": "IPY_MODEL_d91efe1900164d958b0405df52622dc3",
            "placeholder": "​",
            "style": "IPY_MODEL_825c1a4391eb4c1f96da22c87fd1828b",
            "value": "100%"
          }
        },
        "bcfa4e17022f43ca9002cf158a90e4ad": {
          "model_module": "@jupyter-widgets/controls",
          "model_name": "FloatProgressModel",
          "model_module_version": "1.5.0",
          "state": {
            "_dom_classes": [],
            "_model_module": "@jupyter-widgets/controls",
            "_model_module_version": "1.5.0",
            "_model_name": "FloatProgressModel",
            "_view_count": null,
            "_view_module": "@jupyter-widgets/controls",
            "_view_module_version": "1.5.0",
            "_view_name": "ProgressView",
            "bar_style": "success",
            "description": "",
            "description_tooltip": null,
            "layout": "IPY_MODEL_41455082efd14aaba144face01bd18b0",
            "max": 5,
            "min": 0,
            "orientation": "horizontal",
            "style": "IPY_MODEL_d4121e6d601447afbd80894d110d7e8c",
            "value": 5
          }
        },
        "24929e61d0144b16a8d3b8f77c3eacad": {
          "model_module": "@jupyter-widgets/controls",
          "model_name": "HTMLModel",
          "model_module_version": "1.5.0",
          "state": {
            "_dom_classes": [],
            "_model_module": "@jupyter-widgets/controls",
            "_model_module_version": "1.5.0",
            "_model_name": "HTMLModel",
            "_view_count": null,
            "_view_module": "@jupyter-widgets/controls",
            "_view_module_version": "1.5.0",
            "_view_name": "HTMLView",
            "description": "",
            "description_tooltip": null,
            "layout": "IPY_MODEL_eaeb77f2cbc04c908b71d320cd89def7",
            "placeholder": "​",
            "style": "IPY_MODEL_c0a87deca126416dacb0a2bf668a5d48",
            "value": " 5/5 [00:11&lt;00:00,  2.46s/ba]"
          }
        },
        "4148ee2769b346ab845e1ffba0d706f2": {
          "model_module": "@jupyter-widgets/base",
          "model_name": "LayoutModel",
          "model_module_version": "1.2.0",
          "state": {
            "_model_module": "@jupyter-widgets/base",
            "_model_module_version": "1.2.0",
            "_model_name": "LayoutModel",
            "_view_count": null,
            "_view_module": "@jupyter-widgets/base",
            "_view_module_version": "1.2.0",
            "_view_name": "LayoutView",
            "align_content": null,
            "align_items": null,
            "align_self": null,
            "border": null,
            "bottom": null,
            "display": null,
            "flex": null,
            "flex_flow": null,
            "grid_area": null,
            "grid_auto_columns": null,
            "grid_auto_flow": null,
            "grid_auto_rows": null,
            "grid_column": null,
            "grid_gap": null,
            "grid_row": null,
            "grid_template_areas": null,
            "grid_template_columns": null,
            "grid_template_rows": null,
            "height": null,
            "justify_content": null,
            "justify_items": null,
            "left": null,
            "margin": null,
            "max_height": null,
            "max_width": null,
            "min_height": null,
            "min_width": null,
            "object_fit": null,
            "object_position": null,
            "order": null,
            "overflow": null,
            "overflow_x": null,
            "overflow_y": null,
            "padding": null,
            "right": null,
            "top": null,
            "visibility": null,
            "width": null
          }
        },
        "d91efe1900164d958b0405df52622dc3": {
          "model_module": "@jupyter-widgets/base",
          "model_name": "LayoutModel",
          "model_module_version": "1.2.0",
          "state": {
            "_model_module": "@jupyter-widgets/base",
            "_model_module_version": "1.2.0",
            "_model_name": "LayoutModel",
            "_view_count": null,
            "_view_module": "@jupyter-widgets/base",
            "_view_module_version": "1.2.0",
            "_view_name": "LayoutView",
            "align_content": null,
            "align_items": null,
            "align_self": null,
            "border": null,
            "bottom": null,
            "display": null,
            "flex": null,
            "flex_flow": null,
            "grid_area": null,
            "grid_auto_columns": null,
            "grid_auto_flow": null,
            "grid_auto_rows": null,
            "grid_column": null,
            "grid_gap": null,
            "grid_row": null,
            "grid_template_areas": null,
            "grid_template_columns": null,
            "grid_template_rows": null,
            "height": null,
            "justify_content": null,
            "justify_items": null,
            "left": null,
            "margin": null,
            "max_height": null,
            "max_width": null,
            "min_height": null,
            "min_width": null,
            "object_fit": null,
            "object_position": null,
            "order": null,
            "overflow": null,
            "overflow_x": null,
            "overflow_y": null,
            "padding": null,
            "right": null,
            "top": null,
            "visibility": null,
            "width": null
          }
        },
        "825c1a4391eb4c1f96da22c87fd1828b": {
          "model_module": "@jupyter-widgets/controls",
          "model_name": "DescriptionStyleModel",
          "model_module_version": "1.5.0",
          "state": {
            "_model_module": "@jupyter-widgets/controls",
            "_model_module_version": "1.5.0",
            "_model_name": "DescriptionStyleModel",
            "_view_count": null,
            "_view_module": "@jupyter-widgets/base",
            "_view_module_version": "1.2.0",
            "_view_name": "StyleView",
            "description_width": ""
          }
        },
        "41455082efd14aaba144face01bd18b0": {
          "model_module": "@jupyter-widgets/base",
          "model_name": "LayoutModel",
          "model_module_version": "1.2.0",
          "state": {
            "_model_module": "@jupyter-widgets/base",
            "_model_module_version": "1.2.0",
            "_model_name": "LayoutModel",
            "_view_count": null,
            "_view_module": "@jupyter-widgets/base",
            "_view_module_version": "1.2.0",
            "_view_name": "LayoutView",
            "align_content": null,
            "align_items": null,
            "align_self": null,
            "border": null,
            "bottom": null,
            "display": null,
            "flex": null,
            "flex_flow": null,
            "grid_area": null,
            "grid_auto_columns": null,
            "grid_auto_flow": null,
            "grid_auto_rows": null,
            "grid_column": null,
            "grid_gap": null,
            "grid_row": null,
            "grid_template_areas": null,
            "grid_template_columns": null,
            "grid_template_rows": null,
            "height": null,
            "justify_content": null,
            "justify_items": null,
            "left": null,
            "margin": null,
            "max_height": null,
            "max_width": null,
            "min_height": null,
            "min_width": null,
            "object_fit": null,
            "object_position": null,
            "order": null,
            "overflow": null,
            "overflow_x": null,
            "overflow_y": null,
            "padding": null,
            "right": null,
            "top": null,
            "visibility": null,
            "width": null
          }
        },
        "d4121e6d601447afbd80894d110d7e8c": {
          "model_module": "@jupyter-widgets/controls",
          "model_name": "ProgressStyleModel",
          "model_module_version": "1.5.0",
          "state": {
            "_model_module": "@jupyter-widgets/controls",
            "_model_module_version": "1.5.0",
            "_model_name": "ProgressStyleModel",
            "_view_count": null,
            "_view_module": "@jupyter-widgets/base",
            "_view_module_version": "1.2.0",
            "_view_name": "StyleView",
            "bar_color": null,
            "description_width": ""
          }
        },
        "eaeb77f2cbc04c908b71d320cd89def7": {
          "model_module": "@jupyter-widgets/base",
          "model_name": "LayoutModel",
          "model_module_version": "1.2.0",
          "state": {
            "_model_module": "@jupyter-widgets/base",
            "_model_module_version": "1.2.0",
            "_model_name": "LayoutModel",
            "_view_count": null,
            "_view_module": "@jupyter-widgets/base",
            "_view_module_version": "1.2.0",
            "_view_name": "LayoutView",
            "align_content": null,
            "align_items": null,
            "align_self": null,
            "border": null,
            "bottom": null,
            "display": null,
            "flex": null,
            "flex_flow": null,
            "grid_area": null,
            "grid_auto_columns": null,
            "grid_auto_flow": null,
            "grid_auto_rows": null,
            "grid_column": null,
            "grid_gap": null,
            "grid_row": null,
            "grid_template_areas": null,
            "grid_template_columns": null,
            "grid_template_rows": null,
            "height": null,
            "justify_content": null,
            "justify_items": null,
            "left": null,
            "margin": null,
            "max_height": null,
            "max_width": null,
            "min_height": null,
            "min_width": null,
            "object_fit": null,
            "object_position": null,
            "order": null,
            "overflow": null,
            "overflow_x": null,
            "overflow_y": null,
            "padding": null,
            "right": null,
            "top": null,
            "visibility": null,
            "width": null
          }
        },
        "c0a87deca126416dacb0a2bf668a5d48": {
          "model_module": "@jupyter-widgets/controls",
          "model_name": "DescriptionStyleModel",
          "model_module_version": "1.5.0",
          "state": {
            "_model_module": "@jupyter-widgets/controls",
            "_model_module_version": "1.5.0",
            "_model_name": "DescriptionStyleModel",
            "_view_count": null,
            "_view_module": "@jupyter-widgets/base",
            "_view_module_version": "1.2.0",
            "_view_name": "StyleView",
            "description_width": ""
          }
        },
        "0410884fed86496ba2f916c76a1ff382": {
          "model_module": "@jupyter-widgets/controls",
          "model_name": "HBoxModel",
          "model_module_version": "1.5.0",
          "state": {
            "_dom_classes": [],
            "_model_module": "@jupyter-widgets/controls",
            "_model_module_version": "1.5.0",
            "_model_name": "HBoxModel",
            "_view_count": null,
            "_view_module": "@jupyter-widgets/controls",
            "_view_module_version": "1.5.0",
            "_view_name": "HBoxView",
            "box_style": "",
            "children": [
              "IPY_MODEL_87d4c21baefe4e7b9562151c9140463b",
              "IPY_MODEL_b8c4f152e80d461cb0f9e95d79a0eaec",
              "IPY_MODEL_ca36f2a864be4facb8b609dd6c459b02"
            ],
            "layout": "IPY_MODEL_06c57fb6552e4ec88b9c0146b34e0a21"
          }
        },
        "87d4c21baefe4e7b9562151c9140463b": {
          "model_module": "@jupyter-widgets/controls",
          "model_name": "HTMLModel",
          "model_module_version": "1.5.0",
          "state": {
            "_dom_classes": [],
            "_model_module": "@jupyter-widgets/controls",
            "_model_module_version": "1.5.0",
            "_model_name": "HTMLModel",
            "_view_count": null,
            "_view_module": "@jupyter-widgets/controls",
            "_view_module_version": "1.5.0",
            "_view_name": "HTMLView",
            "description": "",
            "description_tooltip": null,
            "layout": "IPY_MODEL_0de3012c596b42c8b5c7a750e644ba38",
            "placeholder": "​",
            "style": "IPY_MODEL_4de4a875c0314a9aa384b0693816ab0a",
            "value": "Casting the dataset: 100%"
          }
        },
        "b8c4f152e80d461cb0f9e95d79a0eaec": {
          "model_module": "@jupyter-widgets/controls",
          "model_name": "FloatProgressModel",
          "model_module_version": "1.5.0",
          "state": {
            "_dom_classes": [],
            "_model_module": "@jupyter-widgets/controls",
            "_model_module_version": "1.5.0",
            "_model_name": "FloatProgressModel",
            "_view_count": null,
            "_view_module": "@jupyter-widgets/controls",
            "_view_module_version": "1.5.0",
            "_view_name": "ProgressView",
            "bar_style": "success",
            "description": "",
            "description_tooltip": null,
            "layout": "IPY_MODEL_3c80fb8d5cc34c76bb592ad00c38e216",
            "max": 1,
            "min": 0,
            "orientation": "horizontal",
            "style": "IPY_MODEL_f8a3bc8cd1d648c38d8b0d5b67929469",
            "value": 1
          }
        },
        "ca36f2a864be4facb8b609dd6c459b02": {
          "model_module": "@jupyter-widgets/controls",
          "model_name": "HTMLModel",
          "model_module_version": "1.5.0",
          "state": {
            "_dom_classes": [],
            "_model_module": "@jupyter-widgets/controls",
            "_model_module_version": "1.5.0",
            "_model_name": "HTMLModel",
            "_view_count": null,
            "_view_module": "@jupyter-widgets/controls",
            "_view_module_version": "1.5.0",
            "_view_name": "HTMLView",
            "description": "",
            "description_tooltip": null,
            "layout": "IPY_MODEL_b447c8e6b5a94a58abcd4da32bfe93dc",
            "placeholder": "​",
            "style": "IPY_MODEL_b700f827766c4ae6a4a0fce259e018d1",
            "value": " 1/1 [00:03&lt;00:00,  3.22s/ba]"
          }
        },
        "06c57fb6552e4ec88b9c0146b34e0a21": {
          "model_module": "@jupyter-widgets/base",
          "model_name": "LayoutModel",
          "model_module_version": "1.2.0",
          "state": {
            "_model_module": "@jupyter-widgets/base",
            "_model_module_version": "1.2.0",
            "_model_name": "LayoutModel",
            "_view_count": null,
            "_view_module": "@jupyter-widgets/base",
            "_view_module_version": "1.2.0",
            "_view_name": "LayoutView",
            "align_content": null,
            "align_items": null,
            "align_self": null,
            "border": null,
            "bottom": null,
            "display": null,
            "flex": null,
            "flex_flow": null,
            "grid_area": null,
            "grid_auto_columns": null,
            "grid_auto_flow": null,
            "grid_auto_rows": null,
            "grid_column": null,
            "grid_gap": null,
            "grid_row": null,
            "grid_template_areas": null,
            "grid_template_columns": null,
            "grid_template_rows": null,
            "height": null,
            "justify_content": null,
            "justify_items": null,
            "left": null,
            "margin": null,
            "max_height": null,
            "max_width": null,
            "min_height": null,
            "min_width": null,
            "object_fit": null,
            "object_position": null,
            "order": null,
            "overflow": null,
            "overflow_x": null,
            "overflow_y": null,
            "padding": null,
            "right": null,
            "top": null,
            "visibility": null,
            "width": null
          }
        },
        "0de3012c596b42c8b5c7a750e644ba38": {
          "model_module": "@jupyter-widgets/base",
          "model_name": "LayoutModel",
          "model_module_version": "1.2.0",
          "state": {
            "_model_module": "@jupyter-widgets/base",
            "_model_module_version": "1.2.0",
            "_model_name": "LayoutModel",
            "_view_count": null,
            "_view_module": "@jupyter-widgets/base",
            "_view_module_version": "1.2.0",
            "_view_name": "LayoutView",
            "align_content": null,
            "align_items": null,
            "align_self": null,
            "border": null,
            "bottom": null,
            "display": null,
            "flex": null,
            "flex_flow": null,
            "grid_area": null,
            "grid_auto_columns": null,
            "grid_auto_flow": null,
            "grid_auto_rows": null,
            "grid_column": null,
            "grid_gap": null,
            "grid_row": null,
            "grid_template_areas": null,
            "grid_template_columns": null,
            "grid_template_rows": null,
            "height": null,
            "justify_content": null,
            "justify_items": null,
            "left": null,
            "margin": null,
            "max_height": null,
            "max_width": null,
            "min_height": null,
            "min_width": null,
            "object_fit": null,
            "object_position": null,
            "order": null,
            "overflow": null,
            "overflow_x": null,
            "overflow_y": null,
            "padding": null,
            "right": null,
            "top": null,
            "visibility": null,
            "width": null
          }
        },
        "4de4a875c0314a9aa384b0693816ab0a": {
          "model_module": "@jupyter-widgets/controls",
          "model_name": "DescriptionStyleModel",
          "model_module_version": "1.5.0",
          "state": {
            "_model_module": "@jupyter-widgets/controls",
            "_model_module_version": "1.5.0",
            "_model_name": "DescriptionStyleModel",
            "_view_count": null,
            "_view_module": "@jupyter-widgets/base",
            "_view_module_version": "1.2.0",
            "_view_name": "StyleView",
            "description_width": ""
          }
        },
        "3c80fb8d5cc34c76bb592ad00c38e216": {
          "model_module": "@jupyter-widgets/base",
          "model_name": "LayoutModel",
          "model_module_version": "1.2.0",
          "state": {
            "_model_module": "@jupyter-widgets/base",
            "_model_module_version": "1.2.0",
            "_model_name": "LayoutModel",
            "_view_count": null,
            "_view_module": "@jupyter-widgets/base",
            "_view_module_version": "1.2.0",
            "_view_name": "LayoutView",
            "align_content": null,
            "align_items": null,
            "align_self": null,
            "border": null,
            "bottom": null,
            "display": null,
            "flex": null,
            "flex_flow": null,
            "grid_area": null,
            "grid_auto_columns": null,
            "grid_auto_flow": null,
            "grid_auto_rows": null,
            "grid_column": null,
            "grid_gap": null,
            "grid_row": null,
            "grid_template_areas": null,
            "grid_template_columns": null,
            "grid_template_rows": null,
            "height": null,
            "justify_content": null,
            "justify_items": null,
            "left": null,
            "margin": null,
            "max_height": null,
            "max_width": null,
            "min_height": null,
            "min_width": null,
            "object_fit": null,
            "object_position": null,
            "order": null,
            "overflow": null,
            "overflow_x": null,
            "overflow_y": null,
            "padding": null,
            "right": null,
            "top": null,
            "visibility": null,
            "width": null
          }
        },
        "f8a3bc8cd1d648c38d8b0d5b67929469": {
          "model_module": "@jupyter-widgets/controls",
          "model_name": "ProgressStyleModel",
          "model_module_version": "1.5.0",
          "state": {
            "_model_module": "@jupyter-widgets/controls",
            "_model_module_version": "1.5.0",
            "_model_name": "ProgressStyleModel",
            "_view_count": null,
            "_view_module": "@jupyter-widgets/base",
            "_view_module_version": "1.2.0",
            "_view_name": "StyleView",
            "bar_color": null,
            "description_width": ""
          }
        },
        "b447c8e6b5a94a58abcd4da32bfe93dc": {
          "model_module": "@jupyter-widgets/base",
          "model_name": "LayoutModel",
          "model_module_version": "1.2.0",
          "state": {
            "_model_module": "@jupyter-widgets/base",
            "_model_module_version": "1.2.0",
            "_model_name": "LayoutModel",
            "_view_count": null,
            "_view_module": "@jupyter-widgets/base",
            "_view_module_version": "1.2.0",
            "_view_name": "LayoutView",
            "align_content": null,
            "align_items": null,
            "align_self": null,
            "border": null,
            "bottom": null,
            "display": null,
            "flex": null,
            "flex_flow": null,
            "grid_area": null,
            "grid_auto_columns": null,
            "grid_auto_flow": null,
            "grid_auto_rows": null,
            "grid_column": null,
            "grid_gap": null,
            "grid_row": null,
            "grid_template_areas": null,
            "grid_template_columns": null,
            "grid_template_rows": null,
            "height": null,
            "justify_content": null,
            "justify_items": null,
            "left": null,
            "margin": null,
            "max_height": null,
            "max_width": null,
            "min_height": null,
            "min_width": null,
            "object_fit": null,
            "object_position": null,
            "order": null,
            "overflow": null,
            "overflow_x": null,
            "overflow_y": null,
            "padding": null,
            "right": null,
            "top": null,
            "visibility": null,
            "width": null
          }
        },
        "b700f827766c4ae6a4a0fce259e018d1": {
          "model_module": "@jupyter-widgets/controls",
          "model_name": "DescriptionStyleModel",
          "model_module_version": "1.5.0",
          "state": {
            "_model_module": "@jupyter-widgets/controls",
            "_model_module_version": "1.5.0",
            "_model_name": "DescriptionStyleModel",
            "_view_count": null,
            "_view_module": "@jupyter-widgets/base",
            "_view_module_version": "1.2.0",
            "_view_name": "StyleView",
            "description_width": ""
          }
        }
      }
    }
  },
  "cells": [
    {
      "cell_type": "markdown",
      "metadata": {
        "id": "view-in-github",
        "colab_type": "text"
      },
      "source": [
        "<a href=\"https://colab.research.google.com/github/balawillgetyou/dy/blob/master/BERTHuggingFaceTextClassifier20220909.ipynb\" target=\"_parent\"><img src=\"https://colab.research.google.com/assets/colab-badge.svg\" alt=\"Open In Colab\"/></a>"
      ]
    },
    {
      "cell_type": "code",
      "source": [
        "!pip install transformers"
      ],
      "metadata": {
        "id": "ZhwjQ-_4i4Tw"
      },
      "execution_count": null,
      "outputs": []
    },
    {
      "cell_type": "code",
      "source": [
        "!pip install datasets"
      ],
      "metadata": {
        "id": "QSsA5RatjG4c"
      },
      "execution_count": null,
      "outputs": []
    },
    {
      "cell_type": "code",
      "source": [
        "!pip install transformers[sentencepiece]\n",
        "#!pip install sentencepiece"
      ],
      "metadata": {
        "id": "EwpxLi2trAxi"
      },
      "execution_count": null,
      "outputs": []
    },
    {
      "cell_type": "code",
      "source": [
        "import os\n",
        "from fastai.imports import * #this imports important libraries like pandas and numpy, which can be directly imported as well\n",
        "\n",
        "#this is a pyTorch implementation. Overly verbose comments are suppressed. DataLoader is an iterator to produce minibatches needed for training. But HF's DataCollatorWithPadding was used instead\n",
        "import warnings,logging,torch\n",
        "torch.cuda.empty_cache()\n",
        "from torch.utils.data import DataLoader\n",
        "warnings.simplefilter('ignore')\n",
        "logging.disable(logging.WARNING)\n",
        "\n",
        "#Hugging Face (HF) transformers\n",
        "import transformers\n",
        "from transformers import TrainingArguments,Trainer,AutoModelForSequenceClassification,AutoTokenizer,DataCollatorWithPadding\n",
        "\n",
        "#Hugging Face utilities perform important functions, like casting the author labels from integers to categorical type using ClassLabel\n",
        "import datasets\n",
        "from datasets import load_dataset, Dataset, DatasetDict, ClassLabel\n",
        "\n",
        "#for easy metrics generation\n",
        "from sklearn.metrics import precision_recall_fscore_support as score"
      ],
      "metadata": {
        "id": "za2u3ZoLgp0h"
      },
      "execution_count": 4,
      "outputs": []
    },
    {
      "cell_type": "code",
      "execution_count": 5,
      "metadata": {
        "colab": {
          "base_uri": "https://localhost:8080/"
        },
        "id": "CRH0oaMvgOTd",
        "outputId": "af3504c9-ad68-488e-8da9-fada2098621d"
      },
      "outputs": [
        {
          "output_type": "stream",
          "name": "stdout",
          "text": [
            "Drive already mounted at /content/gdrive; to attempt to forcibly remount, call drive.mount(\"/content/gdrive\", force_remount=True).\n"
          ]
        }
      ],
      "source": [
        "from google.colab import drive\n",
        "drive.mount('/content/gdrive')"
      ]
    },
    {
      "cell_type": "code",
      "source": [
        "temp_1 = open(\"/content/gdrive/My Drive/Colab_Notebooks_Bala/WhoseLineIsItAnywayTRAIN.csv\", 'r', encoding='latin-1') \n",
        "WhoseLineData = pd.read_csv(temp_1)\n",
        "print(WhoseLineData.shape)\n",
        "WhoseLineData.head(3)"
      ],
      "metadata": {
        "colab": {
          "base_uri": "https://localhost:8080/",
          "height": 362
        },
        "id": "eipIVjTtgkHA",
        "outputId": "a75d4dc4-45ad-4caf-9dcb-83acfe167d6f"
      },
      "execution_count": 6,
      "outputs": [
        {
          "output_type": "stream",
          "name": "stdout",
          "text": [
            "(18977, 2)\n"
          ]
        },
        {
          "output_type": "execute_result",
          "data": {
            "text/plain": [
              "                                                                                                                                                                                                                                                                                                                                                                                                                                                                                                                                                                                                                      text  \\\n",
              "0  They have been pronounced by an\\n\\n\\n\\n\\nexpert to be of a rare variety and of considerable value., You can see\\n\\n\\n\\n\\nfor yourselves that they are very handsome.\"  She opened a flat box as\\n\\n\\n\\n\\nshe spoke, and showed me six of the finest pearls that I had ever seen.\\n\\n\\n\\n\\n\\n\\n\\n\\n\\n\\n\\n\\n\\n\\n\\n\\n\\n\\n\\n\"Your statement is most interesting,\" said Sherlock Holmes.  \"Has\\n\\n\\n\\n\\nanything else occurred to you?\"\\n\\n\\n\\n\\n\\n\\n\\n\\n\\n\\n\\n\\n\\n\\n\\n\\n\\n\\n\\n\"Yes, and no later than to-day., That is why I have come to you., This\\n\\n\\n\\n\\nmorning I received this letter, which you will perhaps rea...   \n",
              "1  His partner sailed along in\\n\\n\\n\\n\\nfront of him, as though she noticed nothing., The medical student really did\\n\\n\\n\\n\\ndance on his head, and excited frantic enthusiasm, stamping, and shrieks of\\n\\n\\n\\n\\ndelight., In short, the absence of constraint was very marked., Ivan Ilyitch,\\n\\n\\n\\n\\nwhom the wine was beginning to affect, began by smiling, but by degrees a\\n\\n\\n\\n\\nbitter doubt began to steal into his heart; of course he liked free and\\n\\n\\n\\n\\neasy manners and unconventionality., He desired, he had even inwardly prayed\\n\\n\\n\\n\\nfor free and easy manners, when they had all held b...   \n",
              "2  The cushions were a good deal higher\\n\\n\\n\\n      than the balls, and as the balls had a fashion of always stopping under\\n\\n\\n\\n      the cushions, we accomplished very little in the way of caroms., The\\n\\n\\n\\n      cushions were hard and unelastic, and the cues were so crooked that in\\n\\n\\n\\n      making a shot you had to allow for the curve or you would infallibly put\\n\\n\\n\\n      the Ã¢â¬ÅEnglishÃ¢â¬ï¿½ on the wrong side of the ball., Dan was to mark while the\\n\\n\\n\\n      doctor and I played., At the end of an hour neither of us had made a count,\\n\\n\\n\\n      and so Dan was tired o...   \n",
              "\n",
              "   author  \n",
              "0       2  \n",
              "1       0  \n",
              "2       5  "
            ],
            "text/html": [
              "\n",
              "  <div id=\"df-7025e96e-d3e3-4e42-9d9d-565488708889\">\n",
              "    <div class=\"colab-df-container\">\n",
              "      <div>\n",
              "<style scoped>\n",
              "    .dataframe tbody tr th:only-of-type {\n",
              "        vertical-align: middle;\n",
              "    }\n",
              "\n",
              "    .dataframe tbody tr th {\n",
              "        vertical-align: top;\n",
              "    }\n",
              "\n",
              "    .dataframe thead th {\n",
              "        text-align: right;\n",
              "    }\n",
              "</style>\n",
              "<table border=\"1\" class=\"dataframe\">\n",
              "  <thead>\n",
              "    <tr style=\"text-align: right;\">\n",
              "      <th></th>\n",
              "      <th>text</th>\n",
              "      <th>author</th>\n",
              "    </tr>\n",
              "  </thead>\n",
              "  <tbody>\n",
              "    <tr>\n",
              "      <th>0</th>\n",
              "      <td>They have been pronounced by an\\n\\n\\n\\n\\nexpert to be of a rare variety and of considerable value., You can see\\n\\n\\n\\n\\nfor yourselves that they are very handsome.\"  She opened a flat box as\\n\\n\\n\\n\\nshe spoke, and showed me six of the finest pearls that I had ever seen.\\n\\n\\n\\n\\n\\n\\n\\n\\n\\n\\n\\n\\n\\n\\n\\n\\n\\n\\n\\n\"Your statement is most interesting,\" said Sherlock Holmes.  \"Has\\n\\n\\n\\n\\nanything else occurred to you?\"\\n\\n\\n\\n\\n\\n\\n\\n\\n\\n\\n\\n\\n\\n\\n\\n\\n\\n\\n\\n\"Yes, and no later than to-day., That is why I have come to you., This\\n\\n\\n\\n\\nmorning I received this letter, which you will perhaps rea...</td>\n",
              "      <td>2</td>\n",
              "    </tr>\n",
              "    <tr>\n",
              "      <th>1</th>\n",
              "      <td>His partner sailed along in\\n\\n\\n\\n\\nfront of him, as though she noticed nothing., The medical student really did\\n\\n\\n\\n\\ndance on his head, and excited frantic enthusiasm, stamping, and shrieks of\\n\\n\\n\\n\\ndelight., In short, the absence of constraint was very marked., Ivan Ilyitch,\\n\\n\\n\\n\\nwhom the wine was beginning to affect, began by smiling, but by degrees a\\n\\n\\n\\n\\nbitter doubt began to steal into his heart; of course he liked free and\\n\\n\\n\\n\\neasy manners and unconventionality., He desired, he had even inwardly prayed\\n\\n\\n\\n\\nfor free and easy manners, when they had all held b...</td>\n",
              "      <td>0</td>\n",
              "    </tr>\n",
              "    <tr>\n",
              "      <th>2</th>\n",
              "      <td>The cushions were a good deal higher\\n\\n\\n\\n      than the balls, and as the balls had a fashion of always stopping under\\n\\n\\n\\n      the cushions, we accomplished very little in the way of caroms., The\\n\\n\\n\\n      cushions were hard and unelastic, and the cues were so crooked that in\\n\\n\\n\\n      making a shot you had to allow for the curve or you would infallibly put\\n\\n\\n\\n      the Ã¢â¬ÅEnglishÃ¢â¬ï¿½ on the wrong side of the ball., Dan was to mark while the\\n\\n\\n\\n      doctor and I played., At the end of an hour neither of us had made a count,\\n\\n\\n\\n      and so Dan was tired o...</td>\n",
              "      <td>5</td>\n",
              "    </tr>\n",
              "  </tbody>\n",
              "</table>\n",
              "</div>\n",
              "      <button class=\"colab-df-convert\" onclick=\"convertToInteractive('df-7025e96e-d3e3-4e42-9d9d-565488708889')\"\n",
              "              title=\"Convert this dataframe to an interactive table.\"\n",
              "              style=\"display:none;\">\n",
              "        \n",
              "  <svg xmlns=\"http://www.w3.org/2000/svg\" height=\"24px\"viewBox=\"0 0 24 24\"\n",
              "       width=\"24px\">\n",
              "    <path d=\"M0 0h24v24H0V0z\" fill=\"none\"/>\n",
              "    <path d=\"M18.56 5.44l.94 2.06.94-2.06 2.06-.94-2.06-.94-.94-2.06-.94 2.06-2.06.94zm-11 1L8.5 8.5l.94-2.06 2.06-.94-2.06-.94L8.5 2.5l-.94 2.06-2.06.94zm10 10l.94 2.06.94-2.06 2.06-.94-2.06-.94-.94-2.06-.94 2.06-2.06.94z\"/><path d=\"M17.41 7.96l-1.37-1.37c-.4-.4-.92-.59-1.43-.59-.52 0-1.04.2-1.43.59L10.3 9.45l-7.72 7.72c-.78.78-.78 2.05 0 2.83L4 21.41c.39.39.9.59 1.41.59.51 0 1.02-.2 1.41-.59l7.78-7.78 2.81-2.81c.8-.78.8-2.07 0-2.86zM5.41 20L4 18.59l7.72-7.72 1.47 1.35L5.41 20z\"/>\n",
              "  </svg>\n",
              "      </button>\n",
              "      \n",
              "  <style>\n",
              "    .colab-df-container {\n",
              "      display:flex;\n",
              "      flex-wrap:wrap;\n",
              "      gap: 12px;\n",
              "    }\n",
              "\n",
              "    .colab-df-convert {\n",
              "      background-color: #E8F0FE;\n",
              "      border: none;\n",
              "      border-radius: 50%;\n",
              "      cursor: pointer;\n",
              "      display: none;\n",
              "      fill: #1967D2;\n",
              "      height: 32px;\n",
              "      padding: 0 0 0 0;\n",
              "      width: 32px;\n",
              "    }\n",
              "\n",
              "    .colab-df-convert:hover {\n",
              "      background-color: #E2EBFA;\n",
              "      box-shadow: 0px 1px 2px rgba(60, 64, 67, 0.3), 0px 1px 3px 1px rgba(60, 64, 67, 0.15);\n",
              "      fill: #174EA6;\n",
              "    }\n",
              "\n",
              "    [theme=dark] .colab-df-convert {\n",
              "      background-color: #3B4455;\n",
              "      fill: #D2E3FC;\n",
              "    }\n",
              "\n",
              "    [theme=dark] .colab-df-convert:hover {\n",
              "      background-color: #434B5C;\n",
              "      box-shadow: 0px 1px 3px 1px rgba(0, 0, 0, 0.15);\n",
              "      filter: drop-shadow(0px 1px 2px rgba(0, 0, 0, 0.3));\n",
              "      fill: #FFFFFF;\n",
              "    }\n",
              "  </style>\n",
              "\n",
              "      <script>\n",
              "        const buttonEl =\n",
              "          document.querySelector('#df-7025e96e-d3e3-4e42-9d9d-565488708889 button.colab-df-convert');\n",
              "        buttonEl.style.display =\n",
              "          google.colab.kernel.accessAllowed ? 'block' : 'none';\n",
              "\n",
              "        async function convertToInteractive(key) {\n",
              "          const element = document.querySelector('#df-7025e96e-d3e3-4e42-9d9d-565488708889');\n",
              "          const dataTable =\n",
              "            await google.colab.kernel.invokeFunction('convertToInteractive',\n",
              "                                                     [key], {});\n",
              "          if (!dataTable) return;\n",
              "\n",
              "          const docLinkHtml = 'Like what you see? Visit the ' +\n",
              "            '<a target=\"_blank\" href=https://colab.research.google.com/notebooks/data_table.ipynb>data table notebook</a>'\n",
              "            + ' to learn more about interactive tables.';\n",
              "          element.innerHTML = '';\n",
              "          dataTable['output_type'] = 'display_data';\n",
              "          await google.colab.output.renderOutput(dataTable, element);\n",
              "          const docLink = document.createElement('div');\n",
              "          docLink.innerHTML = docLinkHtml;\n",
              "          element.appendChild(docLink);\n",
              "        }\n",
              "      </script>\n",
              "    </div>\n",
              "  </div>\n",
              "  "
            ]
          },
          "metadata": {},
          "execution_count": 6
        }
      ]
    },
    {
      "cell_type": "code",
      "source": [
        "WhoseLineData.author.value_counts()"
      ],
      "metadata": {
        "colab": {
          "base_uri": "https://localhost:8080/"
        },
        "id": "NhTbp6ZvhIAD",
        "outputId": "86a947ef-380c-490e-9074-a93ced180220"
      },
      "execution_count": 7,
      "outputs": [
        {
          "output_type": "execute_result",
          "data": {
            "text/plain": [
              "0    3859\n",
              "5    3517\n",
              "4    3184\n",
              "2    2621\n",
              "3    1314\n",
              "9    1142\n",
              "7    1054\n",
              "8     910\n",
              "6     755\n",
              "1     621\n",
              "Name: author, dtype: int64"
            ]
          },
          "metadata": {},
          "execution_count": 7
        }
      ]
    },
    {
      "cell_type": "code",
      "source": [
        "#trimming the dataset\n",
        "df = pd.DataFrame(WhoseLineData.groupby('author').apply(lambda x: x.sample(500)))\n",
        "print(df.shape)\n",
        "df.author.value_counts()"
      ],
      "metadata": {
        "colab": {
          "base_uri": "https://localhost:8080/"
        },
        "id": "1a7LMVnYKOid",
        "outputId": "18e0f35d-b80a-464b-a995-76a3af33dcb2"
      },
      "execution_count": 9,
      "outputs": [
        {
          "output_type": "stream",
          "name": "stdout",
          "text": [
            "(5000, 2)\n"
          ]
        },
        {
          "output_type": "execute_result",
          "data": {
            "text/plain": [
              "0    500\n",
              "1    500\n",
              "2    500\n",
              "3    500\n",
              "4    500\n",
              "5    500\n",
              "6    500\n",
              "7    500\n",
              "8    500\n",
              "9    500\n",
              "Name: author, dtype: int64"
            ]
          },
          "metadata": {},
          "execution_count": 9
        }
      ]
    },
    {
      "cell_type": "code",
      "source": [
        "ds = Dataset.from_pandas(df).rename_column('author', 'label') #flipping from Pandas dataframe to HF dataset\n",
        "ds.features"
      ],
      "metadata": {
        "colab": {
          "base_uri": "https://localhost:8080/"
        },
        "id": "2i995hX6j5Ss",
        "outputId": "4e1360f9-5a64-476a-ebc4-4b9e0e749e68"
      },
      "execution_count": 10,
      "outputs": [
        {
          "output_type": "execute_result",
          "data": {
            "text/plain": [
              "{'text': Value(dtype='string', id=None),\n",
              " 'label': Value(dtype='int64', id=None),\n",
              " '__index_level_0__': Value(dtype='int64', id=None),\n",
              " '__index_level_1__': Value(dtype='int64', id=None)}"
            ]
          },
          "metadata": {},
          "execution_count": 10
        }
      ]
    },
    {
      "cell_type": "code",
      "source": [
        "#model_nm = 'microsoft/deberta-v3-small' #using this pre-trained model caused out of memory errors\n",
        "model_nm = 'distilbert-base-uncased'\n",
        "tokz = AutoTokenizer.from_pretrained(model_nm, padding=True, truncation=True, max_length=512)#padding and truncation are needed to deal with the varying lengths \n",
        "#of inputs. max_length is to match the tensor length of the pre-trained model\n",
        "\n",
        "def tok_func(x): return tokz(x[\"text\"], truncation=True)\n",
        "print(tok_func(ds[0]))\n",
        "tok_ds = ds.map(tok_func, batched=True)\n",
        "print(ds[0])\n",
        "print(tok_ds[0])#scroll to the right to see. input_ids is just the specific word's sequence in the model's vocab. \n",
        "#'attention_mask' is set to 1 if attention is to be paid to the particular word, else 0"
      ],
      "metadata": {
        "colab": {
          "base_uri": "https://localhost:8080/",
          "height": 123,
          "referenced_widgets": [
            "a6959d0a397141c29d53da20357ce79f",
            "4f9f4322329d40db945430b838fee10f",
            "bcfa4e17022f43ca9002cf158a90e4ad",
            "24929e61d0144b16a8d3b8f77c3eacad",
            "4148ee2769b346ab845e1ffba0d706f2",
            "d91efe1900164d958b0405df52622dc3",
            "825c1a4391eb4c1f96da22c87fd1828b",
            "41455082efd14aaba144face01bd18b0",
            "d4121e6d601447afbd80894d110d7e8c",
            "eaeb77f2cbc04c908b71d320cd89def7",
            "c0a87deca126416dacb0a2bf668a5d48"
          ]
        },
        "id": "QBcvJ68IjoaI",
        "outputId": "da740d62-360e-4462-9df6-a3861dfe196a"
      },
      "execution_count": 11,
      "outputs": [
        {
          "output_type": "stream",
          "name": "stdout",
          "text": [
            "{'input_ids': [101, 2009, 2001, 1037, 2367, 3043, 2043, 2002, 2777, 2007, 29409, 2030, 2007, 2280, 3507, 2493, 1010, 3183, 1010, 5262, 1010, 2002, 18966, 3116, 2012, 2151, 2051, 1012, 1010, 1998, 2664, 2043, 1037, 15967, 2158, 2040, 1010, 2005, 2070, 4242, 3114, 1010, 2001, 2108, 2579, 4873, 1999, 1037, 4121, 11333, 13871, 2239, 7944, 2011, 1037, 3082, 2852, 4710, 3586, 1010, 3402, 6626, 2012, 2032, 2004, 2002, 5225, 2627, 1024, 1037, 29645, 2050, 29655, 4430, 3240, 2045, 1010, 2446, 6045, 14621, 29645, 2050, 29655, 2072, 1094, 1092, 8670, 13668, 2075, 2012, 1996, 2327, 1997, 2010, 2376, 1998, 7302, 2012, 2032, 2050, 29645, 2050, 29655, 8988, 2063, 2402, 2158, 3030, 3402, 1998, 13514, 29461, 12274, 15534, 2135, 2012, 2010, 6045, 1012, 1010, 2009, 2001, 1037, 4206, 2461, 6045, 2013, 27946, 2050, 29645, 2050, 29655, 2050, 29645, 2015, 1010, 2021, 3294, 6247, 2041, 1010, 13174, 2007, 2287, 1010, 2035, 7950, 1998, 2022, 13102, 20097, 2098, 1010, 7987, 5714, 3238, 1998, 6260, 2006, 2028, 2217, 1999, 1037, 2087, 4895, 19763, 19968, 2100, 4827, 1012, 1010, 2025, 9467, 1010, 2174, 1010, 2021, 3243, 2178, 3110, 17793, 2000, 7404, 2018, 2058, 25310, 2032, 1012, 1037, 29645, 2050, 29655, 4886, 2354, 2009, 1010, 1037, 29645, 2050, 29655, 2072, 1094, 1092, 2002, 6250, 1999, 6724, 1010, 1037, 29645, 2050, 29655, 4886, 2245, 2061, 999, 2008, 2050, 29645, 2050, 29655, 2050, 29645, 2015, 1996, 5409, 1997, 2035, 999, 2339, 1010, 1037, 5236, 2518, 2066, 2023, 1010, 1996, 2087, 20610, 6987, 2453, 27594, 1996, 2878, 2933, 1012, 1010, 2748, 1010, 2026, 6045, 2003, 2205, 17725, 1012, 1012, 1012, 1012, 1010, 2009, 3504, 18691, 1998, 2008, 3084, 2009, 17725, 1012, 1012, 1012, 1012, 1010, 2007, 2026, 26346, 1045, 11276, 2000, 4929, 1037, 6178, 1010, 2151, 4066, 1997, 2214, 6090, 17955, 1010, 2021, 2025, 2023, 27707, 2518, 1012, 1010, 6343, 11651, 2107, 1037, 6045, 1010, 2009, 2052, 2022, 4384, 1037, 3542, 2125, 1010, 2009, 2052, 2022, 4622, 1012, 1012, 1012, 1012, 1010, 2054, 5609, 2003, 2008, 2111, 2052, 3342, 2009, 1010, 1998, 2008, 2052, 2507, 2068, 1037, 9789, 1012, 1010, 2005, 2023, 2449, 2028, 2323, 2022, 2004, 2210, 19194, 2004, 2825, 1012, 1012, 1012, 1012, 102], 'attention_mask': [1, 1, 1, 1, 1, 1, 1, 1, 1, 1, 1, 1, 1, 1, 1, 1, 1, 1, 1, 1, 1, 1, 1, 1, 1, 1, 1, 1, 1, 1, 1, 1, 1, 1, 1, 1, 1, 1, 1, 1, 1, 1, 1, 1, 1, 1, 1, 1, 1, 1, 1, 1, 1, 1, 1, 1, 1, 1, 1, 1, 1, 1, 1, 1, 1, 1, 1, 1, 1, 1, 1, 1, 1, 1, 1, 1, 1, 1, 1, 1, 1, 1, 1, 1, 1, 1, 1, 1, 1, 1, 1, 1, 1, 1, 1, 1, 1, 1, 1, 1, 1, 1, 1, 1, 1, 1, 1, 1, 1, 1, 1, 1, 1, 1, 1, 1, 1, 1, 1, 1, 1, 1, 1, 1, 1, 1, 1, 1, 1, 1, 1, 1, 1, 1, 1, 1, 1, 1, 1, 1, 1, 1, 1, 1, 1, 1, 1, 1, 1, 1, 1, 1, 1, 1, 1, 1, 1, 1, 1, 1, 1, 1, 1, 1, 1, 1, 1, 1, 1, 1, 1, 1, 1, 1, 1, 1, 1, 1, 1, 1, 1, 1, 1, 1, 1, 1, 1, 1, 1, 1, 1, 1, 1, 1, 1, 1, 1, 1, 1, 1, 1, 1, 1, 1, 1, 1, 1, 1, 1, 1, 1, 1, 1, 1, 1, 1, 1, 1, 1, 1, 1, 1, 1, 1, 1, 1, 1, 1, 1, 1, 1, 1, 1, 1, 1, 1, 1, 1, 1, 1, 1, 1, 1, 1, 1, 1, 1, 1, 1, 1, 1, 1, 1, 1, 1, 1, 1, 1, 1, 1, 1, 1, 1, 1, 1, 1, 1, 1, 1, 1, 1, 1, 1, 1, 1, 1, 1, 1, 1, 1, 1, 1, 1, 1, 1, 1, 1, 1, 1, 1, 1, 1, 1, 1, 1, 1, 1, 1, 1, 1, 1, 1, 1, 1, 1, 1, 1, 1, 1, 1, 1, 1, 1, 1, 1, 1, 1, 1, 1, 1, 1, 1, 1, 1, 1, 1, 1, 1, 1, 1, 1, 1, 1, 1, 1, 1, 1, 1, 1, 1, 1, 1, 1, 1, 1, 1, 1, 1, 1, 1, 1, 1, 1, 1]}\n"
          ]
        },
        {
          "output_type": "display_data",
          "data": {
            "text/plain": [
              "  0%|          | 0/5 [00:00<?, ?ba/s]"
            ],
            "application/vnd.jupyter.widget-view+json": {
              "version_major": 2,
              "version_minor": 0,
              "model_id": "a6959d0a397141c29d53da20357ce79f"
            }
          },
          "metadata": {}
        },
        {
          "output_type": "stream",
          "name": "stdout",
          "text": [
            "{'text': 'It was a different matter when he met with acquaintances or\\n\\n\\n\\n\\n      with former fellow students, whom, indeed, he disliked meeting at any\\n\\n\\n\\n\\n      time., And yet when a drunken man who, for some unknown reason, was being\\n\\n\\n\\n\\n      taken somewhere in a huge waggon dragged by a heavy dray horse, suddenly\\n\\n\\n\\n\\n      shouted at him as he drove past: Ã¢â\\x82¬Å\\x93Hey there, German hatterÃ¢â\\x82¬ï¿½ bawling at the\\n\\n\\n\\n\\n      top of his voice and pointing at himÃ¢â\\x82¬â\\x80\\x9dthe young man stopped suddenly\\n\\n\\n\\n\\n      and clutched tremulously at his hat., It was a tall round hat from\\n\\n\\n\\n\\n      ZimmermanÃ¢â\\x82¬â\\x84¢s, but completely worn out, rusty with age, all torn and\\n\\n\\n\\n\\n      bespattered, brimless and bent on one side in a most unseemly fashion., Not\\n\\n\\n\\n\\n      shame, however, but quite another feeling akin to terror had overtaken\\n\\n\\n\\n\\n      him.\\n\\n\\n\\n\\n    \\n\\n\\n\\n\\n    \\n\\n\\n\\n\\n      Ã¢â\\x82¬Å\\x93I knew it,Ã¢â\\x82¬ï¿½ he muttered in confusion, Ã¢â\\x82¬Å\\x93I thought so! ThatÃ¢â\\x82¬â\\x84¢s the worst of\\n\\n\\n\\n\\n      all! Why, a stupid thing like this, the most trivial detail might spoil\\n\\n\\n\\n\\n      the whole plan., Yes, my hat is too noticeable...., It looks absurd and that\\n\\n\\n\\n\\n      makes it noticeable...., With my rags I ought to wear a cap, any sort of\\n\\n\\n\\n\\n      old pancake, but not this grotesque thing., Nobody wears such a hat, it\\n\\n\\n\\n\\n      would be noticed a mile off, it would be remembered...., What matters is\\n\\n\\n\\n\\n      that people would remember it, and that would give them a clue., For this\\n\\n\\n\\n\\n      business one should be as little conspicuous as possible....', 'label': 0, '__index_level_0__': 0, '__index_level_1__': 11902}\n",
            "{'text': 'It was a different matter when he met with acquaintances or\\n\\n\\n\\n\\n      with former fellow students, whom, indeed, he disliked meeting at any\\n\\n\\n\\n\\n      time., And yet when a drunken man who, for some unknown reason, was being\\n\\n\\n\\n\\n      taken somewhere in a huge waggon dragged by a heavy dray horse, suddenly\\n\\n\\n\\n\\n      shouted at him as he drove past: Ã¢â\\x82¬Å\\x93Hey there, German hatterÃ¢â\\x82¬ï¿½ bawling at the\\n\\n\\n\\n\\n      top of his voice and pointing at himÃ¢â\\x82¬â\\x80\\x9dthe young man stopped suddenly\\n\\n\\n\\n\\n      and clutched tremulously at his hat., It was a tall round hat from\\n\\n\\n\\n\\n      ZimmermanÃ¢â\\x82¬â\\x84¢s, but completely worn out, rusty with age, all torn and\\n\\n\\n\\n\\n      bespattered, brimless and bent on one side in a most unseemly fashion., Not\\n\\n\\n\\n\\n      shame, however, but quite another feeling akin to terror had overtaken\\n\\n\\n\\n\\n      him.\\n\\n\\n\\n\\n    \\n\\n\\n\\n\\n    \\n\\n\\n\\n\\n      Ã¢â\\x82¬Å\\x93I knew it,Ã¢â\\x82¬ï¿½ he muttered in confusion, Ã¢â\\x82¬Å\\x93I thought so! ThatÃ¢â\\x82¬â\\x84¢s the worst of\\n\\n\\n\\n\\n      all! Why, a stupid thing like this, the most trivial detail might spoil\\n\\n\\n\\n\\n      the whole plan., Yes, my hat is too noticeable...., It looks absurd and that\\n\\n\\n\\n\\n      makes it noticeable...., With my rags I ought to wear a cap, any sort of\\n\\n\\n\\n\\n      old pancake, but not this grotesque thing., Nobody wears such a hat, it\\n\\n\\n\\n\\n      would be noticed a mile off, it would be remembered...., What matters is\\n\\n\\n\\n\\n      that people would remember it, and that would give them a clue., For this\\n\\n\\n\\n\\n      business one should be as little conspicuous as possible....', 'label': 0, '__index_level_0__': 0, '__index_level_1__': 11902, 'input_ids': [101, 2009, 2001, 1037, 2367, 3043, 2043, 2002, 2777, 2007, 29409, 2030, 2007, 2280, 3507, 2493, 1010, 3183, 1010, 5262, 1010, 2002, 18966, 3116, 2012, 2151, 2051, 1012, 1010, 1998, 2664, 2043, 1037, 15967, 2158, 2040, 1010, 2005, 2070, 4242, 3114, 1010, 2001, 2108, 2579, 4873, 1999, 1037, 4121, 11333, 13871, 2239, 7944, 2011, 1037, 3082, 2852, 4710, 3586, 1010, 3402, 6626, 2012, 2032, 2004, 2002, 5225, 2627, 1024, 1037, 29645, 2050, 29655, 4430, 3240, 2045, 1010, 2446, 6045, 14621, 29645, 2050, 29655, 2072, 1094, 1092, 8670, 13668, 2075, 2012, 1996, 2327, 1997, 2010, 2376, 1998, 7302, 2012, 2032, 2050, 29645, 2050, 29655, 8988, 2063, 2402, 2158, 3030, 3402, 1998, 13514, 29461, 12274, 15534, 2135, 2012, 2010, 6045, 1012, 1010, 2009, 2001, 1037, 4206, 2461, 6045, 2013, 27946, 2050, 29645, 2050, 29655, 2050, 29645, 2015, 1010, 2021, 3294, 6247, 2041, 1010, 13174, 2007, 2287, 1010, 2035, 7950, 1998, 2022, 13102, 20097, 2098, 1010, 7987, 5714, 3238, 1998, 6260, 2006, 2028, 2217, 1999, 1037, 2087, 4895, 19763, 19968, 2100, 4827, 1012, 1010, 2025, 9467, 1010, 2174, 1010, 2021, 3243, 2178, 3110, 17793, 2000, 7404, 2018, 2058, 25310, 2032, 1012, 1037, 29645, 2050, 29655, 4886, 2354, 2009, 1010, 1037, 29645, 2050, 29655, 2072, 1094, 1092, 2002, 6250, 1999, 6724, 1010, 1037, 29645, 2050, 29655, 4886, 2245, 2061, 999, 2008, 2050, 29645, 2050, 29655, 2050, 29645, 2015, 1996, 5409, 1997, 2035, 999, 2339, 1010, 1037, 5236, 2518, 2066, 2023, 1010, 1996, 2087, 20610, 6987, 2453, 27594, 1996, 2878, 2933, 1012, 1010, 2748, 1010, 2026, 6045, 2003, 2205, 17725, 1012, 1012, 1012, 1012, 1010, 2009, 3504, 18691, 1998, 2008, 3084, 2009, 17725, 1012, 1012, 1012, 1012, 1010, 2007, 2026, 26346, 1045, 11276, 2000, 4929, 1037, 6178, 1010, 2151, 4066, 1997, 2214, 6090, 17955, 1010, 2021, 2025, 2023, 27707, 2518, 1012, 1010, 6343, 11651, 2107, 1037, 6045, 1010, 2009, 2052, 2022, 4384, 1037, 3542, 2125, 1010, 2009, 2052, 2022, 4622, 1012, 1012, 1012, 1012, 1010, 2054, 5609, 2003, 2008, 2111, 2052, 3342, 2009, 1010, 1998, 2008, 2052, 2507, 2068, 1037, 9789, 1012, 1010, 2005, 2023, 2449, 2028, 2323, 2022, 2004, 2210, 19194, 2004, 2825, 1012, 1012, 1012, 1012, 102], 'attention_mask': [1, 1, 1, 1, 1, 1, 1, 1, 1, 1, 1, 1, 1, 1, 1, 1, 1, 1, 1, 1, 1, 1, 1, 1, 1, 1, 1, 1, 1, 1, 1, 1, 1, 1, 1, 1, 1, 1, 1, 1, 1, 1, 1, 1, 1, 1, 1, 1, 1, 1, 1, 1, 1, 1, 1, 1, 1, 1, 1, 1, 1, 1, 1, 1, 1, 1, 1, 1, 1, 1, 1, 1, 1, 1, 1, 1, 1, 1, 1, 1, 1, 1, 1, 1, 1, 1, 1, 1, 1, 1, 1, 1, 1, 1, 1, 1, 1, 1, 1, 1, 1, 1, 1, 1, 1, 1, 1, 1, 1, 1, 1, 1, 1, 1, 1, 1, 1, 1, 1, 1, 1, 1, 1, 1, 1, 1, 1, 1, 1, 1, 1, 1, 1, 1, 1, 1, 1, 1, 1, 1, 1, 1, 1, 1, 1, 1, 1, 1, 1, 1, 1, 1, 1, 1, 1, 1, 1, 1, 1, 1, 1, 1, 1, 1, 1, 1, 1, 1, 1, 1, 1, 1, 1, 1, 1, 1, 1, 1, 1, 1, 1, 1, 1, 1, 1, 1, 1, 1, 1, 1, 1, 1, 1, 1, 1, 1, 1, 1, 1, 1, 1, 1, 1, 1, 1, 1, 1, 1, 1, 1, 1, 1, 1, 1, 1, 1, 1, 1, 1, 1, 1, 1, 1, 1, 1, 1, 1, 1, 1, 1, 1, 1, 1, 1, 1, 1, 1, 1, 1, 1, 1, 1, 1, 1, 1, 1, 1, 1, 1, 1, 1, 1, 1, 1, 1, 1, 1, 1, 1, 1, 1, 1, 1, 1, 1, 1, 1, 1, 1, 1, 1, 1, 1, 1, 1, 1, 1, 1, 1, 1, 1, 1, 1, 1, 1, 1, 1, 1, 1, 1, 1, 1, 1, 1, 1, 1, 1, 1, 1, 1, 1, 1, 1, 1, 1, 1, 1, 1, 1, 1, 1, 1, 1, 1, 1, 1, 1, 1, 1, 1, 1, 1, 1, 1, 1, 1, 1, 1, 1, 1, 1, 1, 1, 1, 1, 1, 1, 1, 1, 1, 1, 1, 1, 1, 1, 1, 1, 1, 1, 1, 1, 1, 1, 1]}\n"
          ]
        }
      ]
    },
    {
      "cell_type": "code",
      "source": [
        "tok_ds = tok_ds.cast_column(\"label\", ClassLabel(names=[0,1,2,3,4,5,6,7,8,9]))#column data type casting\n",
        "train_test = tok_ds.train_test_split(test_size=0.1, stratify_by_column = 'label')#using HF's train_test split. Internally, this seems to be using sklearn's implementation :(\n",
        "\n",
        "dds = DatasetDict({\"train\":train_test['train'],\"test\": train_test['test']})#converting to a HF specific data object/ dictionary"
      ],
      "metadata": {
        "colab": {
          "base_uri": "https://localhost:8080/",
          "height": 49,
          "referenced_widgets": [
            "0410884fed86496ba2f916c76a1ff382",
            "87d4c21baefe4e7b9562151c9140463b",
            "b8c4f152e80d461cb0f9e95d79a0eaec",
            "ca36f2a864be4facb8b609dd6c459b02",
            "06c57fb6552e4ec88b9c0146b34e0a21",
            "0de3012c596b42c8b5c7a750e644ba38",
            "4de4a875c0314a9aa384b0693816ab0a",
            "3c80fb8d5cc34c76bb592ad00c38e216",
            "f8a3bc8cd1d648c38d8b0d5b67929469",
            "b447c8e6b5a94a58abcd4da32bfe93dc",
            "b700f827766c4ae6a4a0fce259e018d1"
          ]
        },
        "id": "7mR6SWtl3rem",
        "outputId": "81dd88ca-6a21-4391-adc8-c46af7c3271c"
      },
      "execution_count": 12,
      "outputs": [
        {
          "output_type": "display_data",
          "data": {
            "text/plain": [
              "Casting the dataset:   0%|          | 0/1 [00:00<?, ?ba/s]"
            ],
            "application/vnd.jupyter.widget-view+json": {
              "version_major": 2,
              "version_minor": 0,
              "model_id": "0410884fed86496ba2f916c76a1ff382"
            }
          },
          "metadata": {}
        }
      ]
    },
    {
      "cell_type": "code",
      "source": [
        "dds"
      ],
      "metadata": {
        "colab": {
          "base_uri": "https://localhost:8080/"
        },
        "id": "XkV6Ssuo5B5N",
        "outputId": "8ccd77b1-2ca0-4d8f-a568-ffad9fab9274"
      },
      "execution_count": 13,
      "outputs": [
        {
          "output_type": "execute_result",
          "data": {
            "text/plain": [
              "DatasetDict({\n",
              "    train: Dataset({\n",
              "        features: ['text', 'label', '__index_level_0__', '__index_level_1__', 'input_ids', 'attention_mask'],\n",
              "        num_rows: 4500\n",
              "    })\n",
              "    test: Dataset({\n",
              "        features: ['text', 'label', '__index_level_0__', '__index_level_1__', 'input_ids', 'attention_mask'],\n",
              "        num_rows: 500\n",
              "    })\n",
              "})"
            ]
          },
          "metadata": {},
          "execution_count": 13
        }
      ]
    },
    {
      "cell_type": "code",
      "source": [
        "data_collator = DataCollatorWithPadding(tokenizer=tokz)#creates mini batches\n",
        "model = AutoModelForSequenceClassification.from_pretrained(model_nm, num_labels=10)#10 different authors and hence classes\n",
        "lr,bs = 2e-5,16 #some hyper parameters used\n",
        "wd,epochs = 0.01,4\n",
        "training_args = TrainingArguments(\n",
        "    output_dir=\"./results\",\n",
        "    learning_rate=lr,\n",
        "    per_device_train_batch_size=bs,\n",
        "    per_device_eval_batch_size=2*bs,\n",
        "    num_train_epochs=epochs,\n",
        "    weight_decay=wd,\n",
        ")\n",
        "\n",
        "trainer = Trainer(\n",
        "    model=model,\n",
        "    args=training_args,\n",
        "    train_dataset=dds[\"train\"],\n",
        "    eval_dataset=dds[\"test\"],\n",
        "    tokenizer=tokz,\n",
        "    data_collator=data_collator,\n",
        ")\n",
        "\n",
        "trainer.train()"
      ],
      "metadata": {
        "colab": {
          "base_uri": "https://localhost:8080/",
          "height": 174
        },
        "id": "8SeUb4GfH7kx",
        "outputId": "35e67176-da2a-44d2-abab-f25080469161"
      },
      "execution_count": 14,
      "outputs": [
        {
          "output_type": "display_data",
          "data": {
            "text/plain": [
              "<IPython.core.display.HTML object>"
            ],
            "text/html": [
              "\n",
              "    <div>\n",
              "      \n",
              "      <progress value='1128' max='1128' style='width:300px; height:20px; vertical-align: middle;'></progress>\n",
              "      [1128/1128 14:49, Epoch 4/4]\n",
              "    </div>\n",
              "    <table border=\"1\" class=\"dataframe\">\n",
              "  <thead>\n",
              " <tr style=\"text-align: left;\">\n",
              "      <th>Step</th>\n",
              "      <th>Training Loss</th>\n",
              "    </tr>\n",
              "  </thead>\n",
              "  <tbody>\n",
              "    <tr>\n",
              "      <td>500</td>\n",
              "      <td>0.802300</td>\n",
              "    </tr>\n",
              "    <tr>\n",
              "      <td>1000</td>\n",
              "      <td>0.141600</td>\n",
              "    </tr>\n",
              "  </tbody>\n",
              "</table><p>"
            ]
          },
          "metadata": {}
        },
        {
          "output_type": "execute_result",
          "data": {
            "text/plain": [
              "TrainOutput(global_step=1128, training_loss=0.4265394481361335, metrics={'train_runtime': 892.1203, 'train_samples_per_second': 20.177, 'train_steps_per_second': 1.264, 'total_flos': 2384753356800000.0, 'train_loss': 0.4265394481361335, 'epoch': 4.0})"
            ]
          },
          "metadata": {},
          "execution_count": 14
        }
      ]
    },
    {
      "cell_type": "code",
      "source": [
        "trainer.evaluate()"
      ],
      "metadata": {
        "colab": {
          "base_uri": "https://localhost:8080/",
          "height": 127
        },
        "id": "G7tmdxN4W8bX",
        "outputId": "2b762a0b-f8d5-4bb5-c918-6fd02abb286d"
      },
      "execution_count": 15,
      "outputs": [
        {
          "output_type": "display_data",
          "data": {
            "text/plain": [
              "<IPython.core.display.HTML object>"
            ],
            "text/html": [
              "\n",
              "    <div>\n",
              "      \n",
              "      <progress value='16' max='16' style='width:300px; height:20px; vertical-align: middle;'></progress>\n",
              "      [16/16 00:08]\n",
              "    </div>\n",
              "    "
            ]
          },
          "metadata": {}
        },
        {
          "output_type": "execute_result",
          "data": {
            "text/plain": [
              "{'eval_loss': 0.14235332608222961,\n",
              " 'eval_runtime': 8.7539,\n",
              " 'eval_samples_per_second': 57.117,\n",
              " 'eval_steps_per_second': 1.828,\n",
              " 'epoch': 4.0}"
            ]
          },
          "metadata": {},
          "execution_count": 15
        }
      ]
    },
    {
      "cell_type": "code",
      "source": [
        "preds = trainer.predict(dds[\"test\"]).predictions.astype(float)#prediction on the test set itself. could be done differently with a separate validation set as well\n",
        "preds = np.clip(preds, 0, 1)\n",
        "predictions = np.argmax(preds, axis = 1)\n",
        "targets = dds[\"test\"]['label']"
      ],
      "metadata": {
        "colab": {
          "base_uri": "https://localhost:8080/",
          "height": 17
        },
        "id": "DL4MIzdKYfS9",
        "outputId": "199964bf-afc2-479d-e416-7bf0f5a238de"
      },
      "execution_count": 16,
      "outputs": [
        {
          "output_type": "display_data",
          "data": {
            "text/plain": [
              "<IPython.core.display.HTML object>"
            ],
            "text/html": []
          },
          "metadata": {}
        }
      ]
    },
    {
      "cell_type": "code",
      "source": [
        "precision, recall, fscore, support = score(targets, predictions, labels = [0,1,2,3,4,5,6,7,8,9])\n",
        "results1 = pd.concat((pd.Series([0,1,2,3,4,5,6,7,8,9]), pd.Series(precision), pd.Series(recall), pd.Series(fscore), pd.Series(support)), axis=1, join = 'outer')\n",
        "results1.columns=('label','precision', 'recall', 'fscore', 'support')\n",
        "print('Results','\\n','*'*50,'\\n',round(results1,2))"
      ],
      "metadata": {
        "colab": {
          "base_uri": "https://localhost:8080/"
        },
        "id": "-dTiezIDaEy0",
        "outputId": "c32a2627-3366-4d94-be64-12c8661fa787"
      },
      "execution_count": 18,
      "outputs": [
        {
          "output_type": "stream",
          "name": "stdout",
          "text": [
            "Results \n",
            " ************************************************** \n",
            "    label  precision  recall  fscore  support\n",
            "0      0       0.82    1.00    0.90       50\n",
            "1      1       0.89    0.98    0.93       50\n",
            "2      2       0.94    0.98    0.96       50\n",
            "3      3       0.96    1.00    0.98       50\n",
            "4      4       0.84    0.84    0.84       50\n",
            "5      5       0.95    0.74    0.83       50\n",
            "6      6       0.96    1.00    0.98       50\n",
            "7      7       0.98    0.80    0.88       50\n",
            "8      8       1.00    0.98    0.99       50\n",
            "9      9       0.98    0.96    0.97       50\n"
          ]
        }
      ]
    }
  ]
}