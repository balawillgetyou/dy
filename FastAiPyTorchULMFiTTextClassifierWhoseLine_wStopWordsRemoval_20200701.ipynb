{
  "nbformat": 4,
  "nbformat_minor": 0,
  "metadata": {
    "colab": {
      "name": "FastAiPyTorchULMFiTTextClassifierWhoseLine_wStopWordsRemoval_20200701.ipynb",
      "provenance": [],
      "authorship_tag": "ABX9TyO37IdgtHcziK3P5UcoliDp",
      "include_colab_link": true
    },
    "kernelspec": {
      "name": "python3",
      "display_name": "Python 3"
    },
    "accelerator": "GPU"
  },
  "cells": [
    {
      "cell_type": "markdown",
      "metadata": {
        "id": "view-in-github",
        "colab_type": "text"
      },
      "source": [
        "<a href=\"https://colab.research.google.com/github/balawillgetyou/dy/blob/master/FastAiPyTorchULMFiTTextClassifierWhoseLine_wStopWordsRemoval_20200701.ipynb\" target=\"_parent\"><img src=\"https://colab.research.google.com/assets/colab-badge.svg\" alt=\"Open In Colab\"/></a>"
      ]
    },
    {
      "cell_type": "code",
      "metadata": {
        "id": "of_B9p7jzQ4D",
        "colab_type": "code",
        "colab": {}
      },
      "source": [
        "#!pip install torch_nightly -f https://download.pytorch.org/whl/nightly/cu92/torch_nightly.html\n",
        "#!pip install fastai"
      ],
      "execution_count": 42,
      "outputs": []
    },
    {
      "cell_type": "code",
      "metadata": {
        "id": "gwtNVPfJzYAF",
        "colab_type": "code",
        "colab": {
          "base_uri": "https://localhost:8080/",
          "height": 54
        },
        "outputId": "b5124ebd-632e-4324-dc57-fb88231047bc"
      },
      "source": [
        "# import libraries\n",
        "import codecs, os, numpy as np, pandas as pd\n",
        "pd.set_option('display.max_colwidth', None) #to prevent cell display truncation\n",
        "\n",
        "import re#for text preprocessing (checking for non words)\n",
        "\n",
        "#metrics calculation\n",
        "from sklearn.model_selection import train_test_split\n",
        "from sklearn.metrics import precision_recall_fscore_support as score\n",
        "\n",
        "#fastai\n",
        "import fastai\n",
        "from fastai import *\n",
        "from fastai.text import * \n",
        "from functools import partial\n",
        "\n",
        "#stop words\n",
        "import nltk\n",
        "nltk.download('stopwords')\n",
        "from nltk.corpus import stopwords \n",
        "stop_words = stopwords.words('english')"
      ],
      "execution_count": 43,
      "outputs": [
        {
          "output_type": "stream",
          "text": [
            "[nltk_data] Downloading package stopwords to /root/nltk_data...\n",
            "[nltk_data]   Package stopwords is already up-to-date!\n"
          ],
          "name": "stdout"
        }
      ]
    },
    {
      "cell_type": "code",
      "metadata": {
        "id": "qyq9A3kL-aOC",
        "colab_type": "code",
        "colab": {
          "base_uri": "https://localhost:8080/",
          "height": 35
        },
        "outputId": "3f0ced89-38b0-4942-e032-ccb9a0f45f4e"
      },
      "source": [
        "from google.colab import drive\n",
        "drive.mount('/content/gdrive')"
      ],
      "execution_count": 44,
      "outputs": [
        {
          "output_type": "stream",
          "text": [
            "Drive already mounted at /content/gdrive; to attempt to forcibly remount, call drive.mount(\"/content/gdrive\", force_remount=True).\n"
          ],
          "name": "stdout"
        }
      ]
    },
    {
      "cell_type": "code",
      "metadata": {
        "id": "kxL4RsIYzbqw",
        "colab_type": "code",
        "colab": {
          "base_uri": "https://localhost:8080/",
          "height": 90
        },
        "outputId": "66fd7e36-f8a8-4795-81ff-ad20d468846f"
      },
      "source": [
        "temp = open(\"/content/gdrive/My Drive/Colab_Notebooks_Bala/WhoseLineIsItAnywayTRAIN.csv\", 'r', encoding='latin-1')\n",
        "WhoseLineData = pd.read_csv(temp)\n",
        "print('File shape', WhoseLineData.shape, '\\n')\n",
        "print(WhoseLineData.columns, '\\n')"
      ],
      "execution_count": 45,
      "outputs": [
        {
          "output_type": "stream",
          "text": [
            "File shape (18977, 2) \n",
            "\n",
            "Index(['text', 'author'], dtype='object') \n",
            "\n"
          ],
          "name": "stdout"
        }
      ]
    },
    {
      "cell_type": "code",
      "metadata": {
        "id": "LgbB-57jWHpg",
        "colab_type": "code",
        "colab": {
          "base_uri": "https://localhost:8080/",
          "height": 217
        },
        "outputId": "c0b52705-e53d-46f1-a539-f75e138dbf68"
      },
      "source": [
        "#Ran out of RAM for predictions. Hence dropping out records from some of the more frequent classes. \n",
        "WhoseLineData.author.value_counts()"
      ],
      "execution_count": 46,
      "outputs": [
        {
          "output_type": "execute_result",
          "data": {
            "text/plain": [
              "0    3859\n",
              "5    3517\n",
              "4    3184\n",
              "2    2621\n",
              "3    1314\n",
              "9    1142\n",
              "7    1054\n",
              "8     910\n",
              "6     755\n",
              "1     621\n",
              "Name: author, dtype: int64"
            ]
          },
          "metadata": {
            "tags": []
          },
          "execution_count": 46
        }
      ]
    },
    {
      "cell_type": "code",
      "metadata": {
        "id": "TkYOql5NVePg",
        "colab_type": "code",
        "colab": {
          "base_uri": "https://localhost:8080/",
          "height": 217
        },
        "outputId": "df1e321e-fee1-4891-f88b-9b9f98b2062b"
      },
      "source": [
        "df_low=WhoseLineData[WhoseLineData.author.isin([1,6,8,7,9,3])]\n",
        "df_high=WhoseLineData[~WhoseLineData.author.isin([1,6,8,7,9,3])]\n",
        "g = df_high.groupby('author')\n",
        "df_high_trimmed = pd.DataFrame(g.apply(lambda x: x.sample(2000)))\n",
        "df = pd.concat([df_low,df_high_trimmed])\n",
        "df = df.reset_index(drop=True)\n",
        "df = pd.DataFrame({'label':df.author, 'text':df.text})\n",
        "df.label.value_counts()"
      ],
      "execution_count": 47,
      "outputs": [
        {
          "output_type": "execute_result",
          "data": {
            "text/plain": [
              "5    2000\n",
              "4    2000\n",
              "2    2000\n",
              "0    2000\n",
              "3    1314\n",
              "9    1142\n",
              "7    1054\n",
              "8     910\n",
              "6     755\n",
              "1     621\n",
              "Name: label, dtype: int64"
            ]
          },
          "metadata": {
            "tags": []
          },
          "execution_count": 47
        }
      ]
    },
    {
      "cell_type": "code",
      "metadata": {
        "id": "eGzk1q5Yz3Bi",
        "colab_type": "code",
        "colab": {
          "base_uri": "https://localhost:8080/",
          "height": 363
        },
        "outputId": "9b7fb392-12c4-494a-b159-be56b49d0501"
      },
      "source": [
        "#Data Preprocessing\n",
        "#knock out the many white spaces & non words \n",
        "df['text'].replace(r'\\s+', ' ', regex=True, inplace=True)\n",
        "df['text'] = df['text'].str.lower().str.replace(\"[^a-zA-Z]\", \" \")\n",
        "\n",
        "#unique word count\n",
        "uniqueWords = set()\n",
        "df['text'].str.split().apply(uniqueWords.update)\n",
        "print('# of unique words',len(uniqueWords))\n",
        "print('Sample of unique words',list(uniqueWords)[1070:1100])\n",
        "\n",
        "#number of authors/ classes for the classifier\n",
        "print(\"Authors in dataset\", sorted(df['label'].unique()))\n",
        "\n",
        "#to get an idea for the typical length of each text\n",
        "df['textLength'] = df['text'].str.split().str.len()\n",
        "\n",
        "#size of writings/ document\n",
        "display(df.describe())\n",
        "\n",
        "# tokenization \n",
        "tokenized_doc = df['text'].apply(lambda x: x.split())\n",
        "\n",
        "# remove stop-words \n",
        "tokenized_doc = tokenized_doc.apply(lambda x: [item for item in x if item not in stop_words])\n",
        "\n",
        "# de-tokenization \n",
        "detokenized_doc = [] \n",
        "for i in range(len(df)): \n",
        "    t = ' '.join(tokenized_doc[i]) \n",
        "    detokenized_doc.append(t) \n",
        "\n",
        "df['text'] = detokenized_doc"
      ],
      "execution_count": 48,
      "outputs": [
        {
          "output_type": "stream",
          "text": [
            "# of unique words 59693\n",
            "Sample of unique words ['abstaining', 'gostiny', 'unsuspecting', 'caused', 'contempt', 'lordliness', 'wafted', 'hypochondria', 'humbler', 'obduracy', 'polluting', 'owning', 'incentive', 'foretopsail', 'twining', 'british', 'rover', 'she', 'cockatoo', 'droshky', 'sparest', 'prematurely', 'fares', 'bacteriologics', 'davy', 'replying', 'wellnigh', 'wore', 'macher', 'porti']\n",
            "Authors in dataset [0, 1, 2, 3, 4, 5, 6, 7, 8, 9]\n"
          ],
          "name": "stdout"
        },
        {
          "output_type": "display_data",
          "data": {
            "text/html": [
              "<div>\n",
              "<style scoped>\n",
              "    .dataframe tbody tr th:only-of-type {\n",
              "        vertical-align: middle;\n",
              "    }\n",
              "\n",
              "    .dataframe tbody tr th {\n",
              "        vertical-align: top;\n",
              "    }\n",
              "\n",
              "    .dataframe thead th {\n",
              "        text-align: right;\n",
              "    }\n",
              "</style>\n",
              "<table border=\"1\" class=\"dataframe\">\n",
              "  <thead>\n",
              "    <tr style=\"text-align: right;\">\n",
              "      <th></th>\n",
              "      <th>label</th>\n",
              "      <th>textLength</th>\n",
              "    </tr>\n",
              "  </thead>\n",
              "  <tbody>\n",
              "    <tr>\n",
              "      <th>count</th>\n",
              "      <td>13796.000000</td>\n",
              "      <td>13796.000000</td>\n",
              "    </tr>\n",
              "    <tr>\n",
              "      <th>mean</th>\n",
              "      <td>4.061250</td>\n",
              "      <td>417.211656</td>\n",
              "    </tr>\n",
              "    <tr>\n",
              "      <th>std</th>\n",
              "      <td>2.751878</td>\n",
              "      <td>323.539236</td>\n",
              "    </tr>\n",
              "    <tr>\n",
              "      <th>min</th>\n",
              "      <td>0.000000</td>\n",
              "      <td>23.000000</td>\n",
              "    </tr>\n",
              "    <tr>\n",
              "      <th>25%</th>\n",
              "      <td>2.000000</td>\n",
              "      <td>258.000000</td>\n",
              "    </tr>\n",
              "    <tr>\n",
              "      <th>50%</th>\n",
              "      <td>4.000000</td>\n",
              "      <td>354.000000</td>\n",
              "    </tr>\n",
              "    <tr>\n",
              "      <th>75%</th>\n",
              "      <td>6.000000</td>\n",
              "      <td>489.000000</td>\n",
              "    </tr>\n",
              "    <tr>\n",
              "      <th>max</th>\n",
              "      <td>9.000000</td>\n",
              "      <td>5908.000000</td>\n",
              "    </tr>\n",
              "  </tbody>\n",
              "</table>\n",
              "</div>"
            ],
            "text/plain": [
              "              label    textLength\n",
              "count  13796.000000  13796.000000\n",
              "mean       4.061250    417.211656\n",
              "std        2.751878    323.539236\n",
              "min        0.000000     23.000000\n",
              "25%        2.000000    258.000000\n",
              "50%        4.000000    354.000000\n",
              "75%        6.000000    489.000000\n",
              "max        9.000000   5908.000000"
            ]
          },
          "metadata": {
            "tags": []
          }
        }
      ]
    },
    {
      "cell_type": "code",
      "metadata": {
        "id": "AnQfYks10i3H",
        "colab_type": "code",
        "colab": {
          "base_uri": "https://localhost:8080/",
          "height": 35
        },
        "outputId": "24896d18-310b-4e89-905a-0362109a484d"
      },
      "source": [
        "# split data into training and validation set\n",
        "df_trn, df_val = train_test_split(df, stratify = df['label'], test_size = 0.15, random_state = 35)\n",
        "df_trn.shape, df_val.shape"
      ],
      "execution_count": 49,
      "outputs": [
        {
          "output_type": "execute_result",
          "data": {
            "text/plain": [
              "((11726, 3), (2070, 3))"
            ]
          },
          "metadata": {
            "tags": []
          },
          "execution_count": 49
        }
      ]
    },
    {
      "cell_type": "code",
      "metadata": {
        "id": "mT9DiLJk0yiH",
        "colab_type": "code",
        "colab": {
          "base_uri": "https://localhost:8080/",
          "height": 17
        },
        "outputId": "2d45b592-ee3c-47f0-8954-02c65f389956"
      },
      "source": [
        "#data preparation for the language and classifier models\n",
        "\n",
        "# Language model data\n",
        "data_lm = TextLMDataBunch.from_df(train_df = df_trn, valid_df = df_val, path = \"\")\n",
        "\n",
        "# Classifier model data\n",
        "data_clas = TextClasDataBunch.from_df(path = \"\", train_df = df_trn, valid_df = df_val, vocab=data_lm.train_ds.vocab, bs=32)"
      ],
      "execution_count": 50,
      "outputs": [
        {
          "output_type": "display_data",
          "data": {
            "text/html": [
              ""
            ],
            "text/plain": [
              "<IPython.core.display.HTML object>"
            ]
          },
          "metadata": {
            "tags": []
          }
        },
        {
          "output_type": "display_data",
          "data": {
            "text/html": [
              ""
            ],
            "text/plain": [
              "<IPython.core.display.HTML object>"
            ]
          },
          "metadata": {
            "tags": []
          }
        },
        {
          "output_type": "display_data",
          "data": {
            "text/html": [
              ""
            ],
            "text/plain": [
              "<IPython.core.display.HTML object>"
            ]
          },
          "metadata": {
            "tags": []
          }
        },
        {
          "output_type": "display_data",
          "data": {
            "text/html": [
              ""
            ],
            "text/plain": [
              "<IPython.core.display.HTML object>"
            ]
          },
          "metadata": {
            "tags": []
          }
        }
      ]
    },
    {
      "cell_type": "code",
      "metadata": {
        "id": "tKks-xE101tS",
        "colab_type": "code",
        "colab": {}
      },
      "source": [
        "#language model fine tuning on data from the target task, on which classification is to be performed\n",
        "#note that word distribution probability will be different between the wiki corpus and the target domain \n",
        "learn = language_model_learner(data_lm, AWD_LSTM, drop_mult=0.7)"
      ],
      "execution_count": 51,
      "outputs": []
    },
    {
      "cell_type": "code",
      "metadata": {
        "id": "JC7vcdpoMHIR",
        "colab_type": "code",
        "colab": {
          "base_uri": "https://localhost:8080/",
          "height": 112
        },
        "outputId": "c948dede-c3fa-4710-d632-accc98e1f001"
      },
      "source": [
        "learn.lr_find()"
      ],
      "execution_count": 52,
      "outputs": [
        {
          "output_type": "display_data",
          "data": {
            "text/html": [
              "\n",
              "    <div>\n",
              "        <style>\n",
              "            /* Turns off some styling */\n",
              "            progress {\n",
              "                /* gets rid of default border in Firefox and Opera. */\n",
              "                border: none;\n",
              "                /* Needs to be in here for Safari polyfill so background images work as expected. */\n",
              "                background-size: auto;\n",
              "            }\n",
              "            .progress-bar-interrupted, .progress-bar-interrupted::-webkit-progress-bar {\n",
              "                background: #F44336;\n",
              "            }\n",
              "        </style>\n",
              "      <progress value='0' class='' max='1' style='width:300px; height:20px; vertical-align: middle;'></progress>\n",
              "      0.00% [0/1 00:00<00:00]\n",
              "    </div>\n",
              "    \n",
              "<table border=\"1\" class=\"dataframe\">\n",
              "  <thead>\n",
              "    <tr style=\"text-align: left;\">\n",
              "      <th>epoch</th>\n",
              "      <th>train_loss</th>\n",
              "      <th>valid_loss</th>\n",
              "      <th>accuracy</th>\n",
              "      <th>time</th>\n",
              "    </tr>\n",
              "  </thead>\n",
              "  <tbody>\n",
              "  </tbody>\n",
              "</table><p>\n",
              "\n",
              "    <div>\n",
              "        <style>\n",
              "            /* Turns off some styling */\n",
              "            progress {\n",
              "                /* gets rid of default border in Firefox and Opera. */\n",
              "                border: none;\n",
              "                /* Needs to be in here for Safari polyfill so background images work as expected. */\n",
              "                background-size: auto;\n",
              "            }\n",
              "            .progress-bar-interrupted, .progress-bar-interrupted::-webkit-progress-bar {\n",
              "                background: #F44336;\n",
              "            }\n",
              "        </style>\n",
              "      <progress value='99' class='' max='509' style='width:300px; height:20px; vertical-align: middle;'></progress>\n",
              "      19.45% [99/509 00:32<02:15 17.9997]\n",
              "    </div>\n",
              "    "
            ],
            "text/plain": [
              "<IPython.core.display.HTML object>"
            ]
          },
          "metadata": {
            "tags": []
          }
        },
        {
          "output_type": "stream",
          "text": [
            "LR Finder is complete, type {learner_name}.recorder.plot() to see the graph.\n"
          ],
          "name": "stdout"
        }
      ]
    },
    {
      "cell_type": "code",
      "metadata": {
        "id": "6bTH7q1QLhtk",
        "colab_type": "code",
        "colab": {
          "base_uri": "https://localhost:8080/",
          "height": 279
        },
        "outputId": "a9acb460-3898-4a15-8a40-95bf070f7840"
      },
      "source": [
        "learn.recorder.plot_lr()"
      ],
      "execution_count": 53,
      "outputs": [
        {
          "output_type": "display_data",
          "data": {
            "image/png": "[encoded data removed]",
            "text/plain": [
              "<Figure size 432x288 with 1 Axes>"
            ]
          },
          "metadata": {
            "tags": [],
            "needs_background": "light"
          }
        }
      ]
    },
    {
      "cell_type": "code",
      "metadata": {
        "id": "-u-aYvcNLud5",
        "colab_type": "code",
        "colab": {
          "base_uri": "https://localhost:8080/",
          "height": 279
        },
        "outputId": "963fdf18-d92b-43c6-dc30-5e67ffab0620"
      },
      "source": [
        "learn.recorder.plot()"
      ],
      "execution_count": 54,
      "outputs": [
        {
          "output_type": "display_data",
          "data": {
            "image/png": "[encoded data removed]",
            "text/plain": [
              "<Figure size 432x288 with 1 Axes>"
            ]
          },
          "metadata": {
            "tags": [],
            "needs_background": "light"
          }
        }
      ]
    },
    {
      "cell_type": "code",
      "metadata": {
        "id": "uZNTDViw1hpY",
        "colab_type": "code",
        "colab": {
          "base_uri": "https://localhost:8080/",
          "height": 78
        },
        "outputId": "fb85479f-f1be-40fc-eae2-dc6d79723e3c"
      },
      "source": [
        "# train the learner object with learning rate = 1e-2\n",
        "learn.fit_one_cycle(1, 1e-2)#initial short increase in the learning rate to help the model to quickly converge \n",
        "#to a suitable region of the parameter space for the target task, followed by a long decay period which allows \n",
        "#for the further refining of the parameters"
      ],
      "execution_count": 55,
      "outputs": [
        {
          "output_type": "display_data",
          "data": {
            "text/html": [
              "<table border=\"1\" class=\"dataframe\">\n",
              "  <thead>\n",
              "    <tr style=\"text-align: left;\">\n",
              "      <th>epoch</th>\n",
              "      <th>train_loss</th>\n",
              "      <th>valid_loss</th>\n",
              "      <th>accuracy</th>\n",
              "      <th>time</th>\n",
              "    </tr>\n",
              "  </thead>\n",
              "  <tbody>\n",
              "    <tr>\n",
              "      <td>0</td>\n",
              "      <td>7.706026</td>\n",
              "      <td>7.455393</td>\n",
              "      <td>0.045052</td>\n",
              "      <td>02:54</td>\n",
              "    </tr>\n",
              "  </tbody>\n",
              "</table>"
            ],
            "text/plain": [
              "<IPython.core.display.HTML object>"
            ]
          },
          "metadata": {
            "tags": []
          }
        }
      ]
    },
    {
      "cell_type": "code",
      "metadata": {
        "id": "LA_FQpBE10c3",
        "colab_type": "code",
        "colab": {}
      },
      "source": [
        "learn.save_encoder('ft_enc_whoseLine_small')"
      ],
      "execution_count": 56,
      "outputs": []
    },
    {
      "cell_type": "code",
      "metadata": {
        "id": "z4j5VK5V11-I",
        "colab_type": "code",
        "colab": {
          "base_uri": "https://localhost:8080/",
          "height": 1000
        },
        "outputId": "7497297e-a96e-419a-bc59-2773aef4cc56"
      },
      "source": [
        "#classifier training, using the fine tuned language model from above\n",
        "#LSTM architecture selected. Transformers are also available in FastAi\n",
        "#drop_mult controls layers wise drop outs. Setting =1 leaves them at their defaults\n",
        "learn = text_classifier_learner(data_clas, drop_mult=0.7, arch=AWD_LSTM)\n",
        "#learn.load_encoder('ft_enc_whoseLine_small')"
      ],
      "execution_count": 57,
      "outputs": [
        {
          "output_type": "execute_result",
          "data": {
            "text/plain": [
              "RNNLearner(data=TextClasDataBunch;\n",
              "\n",
              "Train: LabelList (11726 items)\n",
              "x: TextList\n",
              "xxbos leopard giant form towering others caused sudden hush fall assemblage brothers said deep voice stranger come among us beast curious form great magician able change shapes men beasts stranger come us another kind sky warn us danger threatens us offer us way escape danger says friend proved counselors magic powers listen say message brought sky let speak came great roar great company assembled beasts ruggedo nome sprang upon flat rock beside gugu king another roar gentle time showed astonished beasts sight curious form lion face surrounded mane pure white hair eagle wings attached shoulders monkey body long nearly touched ground powerful arms legs addition wings end long strong tail golden ball never beast beheld curious creature sight stranger said great magician filled present awe wonder kiki stayed half hidden shelf rock scarcely noticed boy realized old nome helpless without magic power also realized ruggedo best talker willing nome take lead beasts forest gugu began ruggedo nome comrade friends magicians home sky look land oz see everything going also hear people us saying heard ozma rules land oz say people beasts forest gugu lazy use us,xxbos dron zakh rych meek flustered voices heard calling caps began come heads riot following orders declared karp moment several voices began speaking together old men decided many giving orders arguing mutiny brigands traitors cried rost v xxunk voice gripping karp collar bind bind shouted though one bind lavr shka alp tych lavr shka however ran karp seized arms behind shall call men beyond hill called alp tych turned peasants ordered two name come bind karp men obediently came crowd began taking belts elder demanded rost v loud voice pale frowning face dron stepped crowd elder bind lavr shka shouted rost v order could possibly meet opposition fact two peasants began binding dron took belt handed aid listen said rost v peasants houses let one voices heard done harm foolishness nonsense said order voices heard bickering one another say said alp tych coming wrong lads stupidity kov alp tych came answers crowd began disperse village two bound men led master house two drunken peasants followed aye look said one karp one talk masters like thinking fool added real fool two hours later carts standing courtyard boguch rovo house peasants briskly carrying proprietor goods packing carts dron liberated princess mary wish cupboard confined standing yard directing men put carelessly said one peasants man round smiling face taking casket housemaid know cost money chuck like shove cord get rubbed like way things,xxbos hares already half changed summer coats fox cubs beginning scatter young wolves bigger dogs best time year chase hounds ardent young sportsman rost v merely reached hard winter condition jaded meeting huntsmen decided give three days rest sixteenth september go distant expedition starting oak grove undisturbed litter wolf cubs day hounds remained home frosty air sharp toward evening sky became overcast began thaw fifteenth young rost v dressing gown looked window saw unsurpassable morning hunting sky melting sinking earth without wind motion air dripping microscopic particles drizzling mist bare twigs garden hung transparent drops fell freshly fallen leaves earth kitchen garden looked wet black glistened like poppy seed short distance merged dull moist veil mist nicholas went wet muddy porch smell decaying leaves dog lka black spotted broad haunched bitch prominent black eyes got seeing master stretched hind legs lay like hare suddenly jumped licked right nose mustache,xxbos visiting gracious socrates yes thought gracious especially day come helping argument shall tell strange thing paid attention several times quite forgot present companion meaning anything happened surely can not discovered fairer love certainly city athens socrates yes much fairer companion mean citizen foreigner socrates foreigner companion country socrates abdera companion stranger really opinion fairer love son cleinias socrates wiser always fairer sweet friend companion really met socrates wise one socrates say rather wisest living men willing accord title protagoras companion protagoras athens socrates yes two days companion come interview socrates yes heard said many things companion engagement suppose sit tell passed attendant shall give place socrates sure shall grateful listening companion thank telling us socrates thank twice listen last night rather early morning hippocrates son apollodorus brother xxunk gave tremendous thump staff door one opened came rushing bawled socrates awake asleep knew voice said hippocrates bring news good news said nothing good delightful said news come hither unearthly hour drew nearer said protagoras come yes replied came two days ago heard arrival yes gods said yesterday evening time felt truckle bed sat feet said yesterday quite late evening return xxunk whither gone pursuit runaway slave satyrus meant told matter come way return done supper retire rest brother said protagoras come going thought night far spent moment sleep left fatigue got came hither direct knew courageous madness man said matter protagoras robbed anything replied laughing yes indeed socrates wisdom keeps surely said give money make friends make wise would heaven replied case might take friends pleased come order may speak behalf young also never seen heard visited athens child men praise socrates reputed accomplished speakers reason go shall find home,xxbos laura knows business cotton claim used hawkeye war selby name colonel got wife family respectable people selby well right said harry business woman looked seen selby understand talked tell jealousy doubt sharpened young gentleman observation laura could treated lofty condescension queen sheba royal visit great republic resented huffy ran errands brought gossip bragged intimacy lovely creature among fellows newspaper row laura life rushing full stream intrigue fashionable dissipation conspicuous balls fastest set suspected present doubtful suppers began late ended early\n",
              "y: CategoryList\n",
              "3,4,4,7,5\n",
              "Path: .;\n",
              "\n",
              "Valid: LabelList (2070 items)\n",
              "x: TextList\n",
              "xxbos may seem old fashioned may nevertheless great influence promoting system assisting enquiry others hear latest word physical metaphysical philosophy also intermediate class plato falls short truths modern science though wholly unacquainted first class belongs xxunk theory creation whether things world explained result natural laws whether must admit tendencies marks design also question much disputed late years even phenomena result natural forces must admit many things heaven earth well expressed image mind design rate language plato language natural theology time description world wholly dispense notion first second co operative causes originally appears timaeus likewise survived day great peace maker theology science plato also approaches near doctrine primary secondary qualities matter another popular notion found timaeus feebleness human intellect god knows original qualities things man hope attain probability speak almost words human intelligence manner uncertainty knowledge nature reason latter assured us experiment contrasted certainty ideal mathematical knowledge ancient philosopher never experimented timaeus plato seems thought would impiety making attempt example tried experiments colours would forget difference human divine natures indefiniteness probably reason singles especially incapable tested experiment compare saying anaxagoras xxunk xxunk since snow made water water black snow ought black greatest divination ancients supremacy assigned mathematics realms nature foundation mechanics even physiology partakes figure number plato wrong attributing human frame omission observe little could explained thus may remark passing fanciful ancient philosophies also nearly verified fact,xxbos seems sometimes though whole world would go crazy level headed man around bring em senses dummies wood wax em may rule whispered policeman one dummy lived king polar bears king polar bears lived among icebergs far north country old monstrous big wise friendly knew body thickly covered long white hair glistened like silver rays midnight sun claws strong sharp might walk safely smooth ice grasp tear fishes seals upon fed seals afraid drew near tried avoid gulls white gray loved left remnants feasts devour often subjects polar bears came advice ill trouble wisely kept away hunting grounds lest might interfere sport arouse anger wolves sometimes came far north icebergs whispered among king polar bears either magician protection powerful fairy earthly thing seemed able harm never failed secure plenty food grew bigger stronger day day year year yet time came monarch north met man wisdom failed came cave among icebergs one day saw boat moving strip water uncovered shifting summer ice boat men great bear never seen creatures therefore advanced toward boat sniffing strange scent aroused curiosity wondering whether might take friends foes food carrion king came near water edge man stood boat queer instrument made loud bang polar bear felt shock brain became numb thoughts deserted great limbs shook gave way beneath body fell heavily upon hard ice remembered time awoke smarting pain every inch huge bulk men cut away hide glorious white hair carried distant ship circled thousands friends gulls wondering benefactor really dead proper eat saw raise head groan tremble knew still lived one said comrades wolves right king great magician even men can not kill suffers lack covering let us repay kindness us giving many feathers spare idea pleased gulls,xxbos expression eyes strangely keeping somewhat womanish figure gave something far serious could guessed first sight soon porfiry petrovitch heard visitor little matter business begged sit sofa sat end waiting explain business careful serious attention oppressive embarrassing especially stranger especially discussing opinion far little importance exceptional solemnity brief coherent phrases raskolnikov explained business clearly exactly well satisfied even succeeded taking good look porfiry porfiry petrovitch take eyes razumihin sitting opposite table listened warmly impatiently looking one every moment rather excessive interest fool raskolnikov swore give information police porfiry replied businesslike air learnt incident murder beg inform lawyer charge case things belong desire redeem write point present moment raskolnikov tried utmost feign embarrassment quite funds even trifling sum beyond wanted see present declare things mine money matter answered porfiry petrovitch receiving explanation pecuniary position coldly prefer write straight say informed matter claiming property beg ordinary sheet paper raskolnikov interrupted eagerly interested financial side question oh ordinary suddenly porfiry petrovitch looked obvious irony screwing eyes winking perhaps raskolnikov fancy lasted moment certainly something sort raskolnikov could sworn winked goodness knows knows flashed mind like lightning forgive troubling trifles went little disconcerted things worth five roubles prize particularly sake came must confess alarmed heard much struck mentioned zossimov porfiry inquiring everyone pledges razumihin put obvious intention really unbearable raskolnikov could help glancing flash vindictive anger black eyes immediately recollected seem jeering brother said well feigned irritability dare say seem absurdly anxious trash think selfish grasping two things may anything trash eyes told silver watch though worth cent thing left us father may laugh mother turned suddenly porfiry knew turned hurriedly razumihin carefully making voice tremble watch lost would despair know women bit mean quite contrary shouted razumihin distressed right,xxbos serious man refuse submit idle whims giddy woman duties son making sacrifice realise agreed perhaps weary life nothing matters may xxunk matter shall resent refuse et enfin le ridicule say club xxunk say perhaps nothing come thing say beats everything really one say je suis un un xxunk un man pushed wall time sort capricious complacency something frivolous playful could seen midst plaintive exclamations evening drank much chapter iii sins others week passed position begun grow complicated may mention passing suffered great deal unhappy week scarcely left side affianced friend capacity intimate confidant weighed upon feeling shame though saw one week sat indoors alone even ashamed much confided vexed,xxbos telling remarkable turn given probable result case dexterity famous lawyer old lady right would obliged pay enormous sum adverse side ingenious attorney said pg listened respect attempted interrupt remarks cut short alone knew true facts although nekhludoff arrived late long wait caused failure one judges appear chapter vi presiding justice arrived early tall stout man long grayish side whiskers married like wife led dissolute life interfere morning question received note swiss governess lived house summer passing way south st petersburg wrote would town three six clock p wait hotel xxunk therefore anxious end day sitting six clock might meet red haired clara vasilievna entering private chamber locking door behind produced lower shelf book case two dumb bells made twenty motions upward forward sidewise downward three times lowered holding bells head nothing refreshes one cold water bath exercise thought feeling left hand fourth finger gold ring xxunk right arm go two movements exercises went every day court opened door rattled one attempting open judge quickly replaced dumb bells opened door beg pardon said one members court wearing gold eye glasses medium height high shoulders frowning countenance entered xxunk nikitich late said newcomer air displeasure pg yes said presiding judge donning robes always late shame said member sat angrily lighted cigarette member court punctilious man morning unpleasant encounter wife caused spending monthly allowance month asked sum money advance refused\n",
              "y: CategoryList\n",
              "7,3,0,0,4\n",
              "Path: .;\n",
              "\n",
              "Test: None, model=SequentialRNN(\n",
              "  (0): MultiBatchEncoder(\n",
              "    (module): AWD_LSTM(\n",
              "      (encoder): Embedding(38488, 400, padding_idx=1)\n",
              "      (encoder_dp): EmbeddingDropout(\n",
              "        (emb): Embedding(38488, 400, padding_idx=1)\n",
              "      )\n",
              "      (rnns): ModuleList(\n",
              "        (0): WeightDropout(\n",
              "          (module): LSTM(400, 1152, batch_first=True)\n",
              "        )\n",
              "        (1): WeightDropout(\n",
              "          (module): LSTM(1152, 1152, batch_first=True)\n",
              "        )\n",
              "        (2): WeightDropout(\n",
              "          (module): LSTM(1152, 400, batch_first=True)\n",
              "        )\n",
              "      )\n",
              "      (input_dp): RNNDropout()\n",
              "      (hidden_dps): ModuleList(\n",
              "        (0): RNNDropout()\n",
              "        (1): RNNDropout()\n",
              "        (2): RNNDropout()\n",
              "      )\n",
              "    )\n",
              "  )\n",
              "  (1): PoolingLinearClassifier(\n",
              "    (layers): Sequential(\n",
              "      (0): BatchNorm1d(1200, eps=1e-05, momentum=0.1, affine=True, track_running_stats=True)\n",
              "      (1): Dropout(p=0.27999999999999997, inplace=False)\n",
              "      (2): Linear(in_features=1200, out_features=50, bias=True)\n",
              "      (3): ReLU(inplace=True)\n",
              "      (4): BatchNorm1d(50, eps=1e-05, momentum=0.1, affine=True, track_running_stats=True)\n",
              "      (5): Dropout(p=0.1, inplace=False)\n",
              "      (6): Linear(in_features=50, out_features=10, bias=True)\n",
              "    )\n",
              "  )\n",
              "), opt_func=functools.partial(<class 'torch.optim.adam.Adam'>, betas=(0.9, 0.99)), loss_func=FlattenedLoss of CrossEntropyLoss(), metrics=[<function accuracy at 0x7f06cd36f9d8>], true_wd=True, bn_wd=True, wd=0.01, train_bn=True, path=PosixPath('.'), model_dir='models', callback_fns=[functools.partial(<class 'fastai.basic_train.Recorder'>, add_time=True, silent=False)], callbacks=[RNNTrainer\n",
              "learn: RNNLearner(data=TextClasDataBunch;\n",
              "\n",
              "Train: LabelList (11726 items)\n",
              "x: TextList\n",
              "xxbos leopard giant form towering others caused sudden hush fall assemblage brothers said deep voice stranger come among us beast curious form great magician able change shapes men beasts stranger come us another kind sky warn us danger threatens us offer us way escape danger says friend proved counselors magic powers listen say message brought sky let speak came great roar great company assembled beasts ruggedo nome sprang upon flat rock beside gugu king another roar gentle time showed astonished beasts sight curious form lion face surrounded mane pure white hair eagle wings attached shoulders monkey body long nearly touched ground powerful arms legs addition wings end long strong tail golden ball never beast beheld curious creature sight stranger said great magician filled present awe wonder kiki stayed half hidden shelf rock scarcely noticed boy realized old nome helpless without magic power also realized ruggedo best talker willing nome take lead beasts forest gugu began ruggedo nome comrade friends magicians home sky look land oz see everything going also hear people us saying heard ozma rules land oz say people beasts forest gugu lazy use us,xxbos dron zakh rych meek flustered voices heard calling caps began come heads riot following orders declared karp moment several voices began speaking together old men decided many giving orders arguing mutiny brigands traitors cried rost v xxunk voice gripping karp collar bind bind shouted though one bind lavr shka alp tych lavr shka however ran karp seized arms behind shall call men beyond hill called alp tych turned peasants ordered two name come bind karp men obediently came crowd began taking belts elder demanded rost v loud voice pale frowning face dron stepped crowd elder bind lavr shka shouted rost v order could possibly meet opposition fact two peasants began binding dron took belt handed aid listen said rost v peasants houses let one voices heard done harm foolishness nonsense said order voices heard bickering one another say said alp tych coming wrong lads stupidity kov alp tych came answers crowd began disperse village two bound men led master house two drunken peasants followed aye look said one karp one talk masters like thinking fool added real fool two hours later carts standing courtyard boguch rovo house peasants briskly carrying proprietor goods packing carts dron liberated princess mary wish cupboard confined standing yard directing men put carelessly said one peasants man round smiling face taking casket housemaid know cost money chuck like shove cord get rubbed like way things,xxbos hares already half changed summer coats fox cubs beginning scatter young wolves bigger dogs best time year chase hounds ardent young sportsman rost v merely reached hard winter condition jaded meeting huntsmen decided give three days rest sixteenth september go distant expedition starting oak grove undisturbed litter wolf cubs day hounds remained home frosty air sharp toward evening sky became overcast began thaw fifteenth young rost v dressing gown looked window saw unsurpassable morning hunting sky melting sinking earth without wind motion air dripping microscopic particles drizzling mist bare twigs garden hung transparent drops fell freshly fallen leaves earth kitchen garden looked wet black glistened like poppy seed short distance merged dull moist veil mist nicholas went wet muddy porch smell decaying leaves dog lka black spotted broad haunched bitch prominent black eyes got seeing master stretched hind legs lay like hare suddenly jumped licked right nose mustache,xxbos visiting gracious socrates yes thought gracious especially day come helping argument shall tell strange thing paid attention several times quite forgot present companion meaning anything happened surely can not discovered fairer love certainly city athens socrates yes much fairer companion mean citizen foreigner socrates foreigner companion country socrates abdera companion stranger really opinion fairer love son cleinias socrates wiser always fairer sweet friend companion really met socrates wise one socrates say rather wisest living men willing accord title protagoras companion protagoras athens socrates yes two days companion come interview socrates yes heard said many things companion engagement suppose sit tell passed attendant shall give place socrates sure shall grateful listening companion thank telling us socrates thank twice listen last night rather early morning hippocrates son apollodorus brother xxunk gave tremendous thump staff door one opened came rushing bawled socrates awake asleep knew voice said hippocrates bring news good news said nothing good delightful said news come hither unearthly hour drew nearer said protagoras come yes replied came two days ago heard arrival yes gods said yesterday evening time felt truckle bed sat feet said yesterday quite late evening return xxunk whither gone pursuit runaway slave satyrus meant told matter come way return done supper retire rest brother said protagoras come going thought night far spent moment sleep left fatigue got came hither direct knew courageous madness man said matter protagoras robbed anything replied laughing yes indeed socrates wisdom keeps surely said give money make friends make wise would heaven replied case might take friends pleased come order may speak behalf young also never seen heard visited athens child men praise socrates reputed accomplished speakers reason go shall find home,xxbos laura knows business cotton claim used hawkeye war selby name colonel got wife family respectable people selby well right said harry business woman looked seen selby understand talked tell jealousy doubt sharpened young gentleman observation laura could treated lofty condescension queen sheba royal visit great republic resented huffy ran errands brought gossip bragged intimacy lovely creature among fellows newspaper row laura life rushing full stream intrigue fashionable dissipation conspicuous balls fastest set suspected present doubtful suppers began late ended early\n",
              "y: CategoryList\n",
              "3,4,4,7,5\n",
              "Path: .;\n",
              "\n",
              "Valid: LabelList (2070 items)\n",
              "x: TextList\n",
              "xxbos may seem old fashioned may nevertheless great influence promoting system assisting enquiry others hear latest word physical metaphysical philosophy also intermediate class plato falls short truths modern science though wholly unacquainted first class belongs xxunk theory creation whether things world explained result natural laws whether must admit tendencies marks design also question much disputed late years even phenomena result natural forces must admit many things heaven earth well expressed image mind design rate language plato language natural theology time description world wholly dispense notion first second co operative causes originally appears timaeus likewise survived day great peace maker theology science plato also approaches near doctrine primary secondary qualities matter another popular notion found timaeus feebleness human intellect god knows original qualities things man hope attain probability speak almost words human intelligence manner uncertainty knowledge nature reason latter assured us experiment contrasted certainty ideal mathematical knowledge ancient philosopher never experimented timaeus plato seems thought would impiety making attempt example tried experiments colours would forget difference human divine natures indefiniteness probably reason singles especially incapable tested experiment compare saying anaxagoras xxunk xxunk since snow made water water black snow ought black greatest divination ancients supremacy assigned mathematics realms nature foundation mechanics even physiology partakes figure number plato wrong attributing human frame omission observe little could explained thus may remark passing fanciful ancient philosophies also nearly verified fact,xxbos seems sometimes though whole world would go crazy level headed man around bring em senses dummies wood wax em may rule whispered policeman one dummy lived king polar bears king polar bears lived among icebergs far north country old monstrous big wise friendly knew body thickly covered long white hair glistened like silver rays midnight sun claws strong sharp might walk safely smooth ice grasp tear fishes seals upon fed seals afraid drew near tried avoid gulls white gray loved left remnants feasts devour often subjects polar bears came advice ill trouble wisely kept away hunting grounds lest might interfere sport arouse anger wolves sometimes came far north icebergs whispered among king polar bears either magician protection powerful fairy earthly thing seemed able harm never failed secure plenty food grew bigger stronger day day year year yet time came monarch north met man wisdom failed came cave among icebergs one day saw boat moving strip water uncovered shifting summer ice boat men great bear never seen creatures therefore advanced toward boat sniffing strange scent aroused curiosity wondering whether might take friends foes food carrion king came near water edge man stood boat queer instrument made loud bang polar bear felt shock brain became numb thoughts deserted great limbs shook gave way beneath body fell heavily upon hard ice remembered time awoke smarting pain every inch huge bulk men cut away hide glorious white hair carried distant ship circled thousands friends gulls wondering benefactor really dead proper eat saw raise head groan tremble knew still lived one said comrades wolves right king great magician even men can not kill suffers lack covering let us repay kindness us giving many feathers spare idea pleased gulls,xxbos expression eyes strangely keeping somewhat womanish figure gave something far serious could guessed first sight soon porfiry petrovitch heard visitor little matter business begged sit sofa sat end waiting explain business careful serious attention oppressive embarrassing especially stranger especially discussing opinion far little importance exceptional solemnity brief coherent phrases raskolnikov explained business clearly exactly well satisfied even succeeded taking good look porfiry porfiry petrovitch take eyes razumihin sitting opposite table listened warmly impatiently looking one every moment rather excessive interest fool raskolnikov swore give information police porfiry replied businesslike air learnt incident murder beg inform lawyer charge case things belong desire redeem write point present moment raskolnikov tried utmost feign embarrassment quite funds even trifling sum beyond wanted see present declare things mine money matter answered porfiry petrovitch receiving explanation pecuniary position coldly prefer write straight say informed matter claiming property beg ordinary sheet paper raskolnikov interrupted eagerly interested financial side question oh ordinary suddenly porfiry petrovitch looked obvious irony screwing eyes winking perhaps raskolnikov fancy lasted moment certainly something sort raskolnikov could sworn winked goodness knows knows flashed mind like lightning forgive troubling trifles went little disconcerted things worth five roubles prize particularly sake came must confess alarmed heard much struck mentioned zossimov porfiry inquiring everyone pledges razumihin put obvious intention really unbearable raskolnikov could help glancing flash vindictive anger black eyes immediately recollected seem jeering brother said well feigned irritability dare say seem absurdly anxious trash think selfish grasping two things may anything trash eyes told silver watch though worth cent thing left us father may laugh mother turned suddenly porfiry knew turned hurriedly razumihin carefully making voice tremble watch lost would despair know women bit mean quite contrary shouted razumihin distressed right,xxbos serious man refuse submit idle whims giddy woman duties son making sacrifice realise agreed perhaps weary life nothing matters may xxunk matter shall resent refuse et enfin le ridicule say club xxunk say perhaps nothing come thing say beats everything really one say je suis un un xxunk un man pushed wall time sort capricious complacency something frivolous playful could seen midst plaintive exclamations evening drank much chapter iii sins others week passed position begun grow complicated may mention passing suffered great deal unhappy week scarcely left side affianced friend capacity intimate confidant weighed upon feeling shame though saw one week sat indoors alone even ashamed much confided vexed,xxbos telling remarkable turn given probable result case dexterity famous lawyer old lady right would obliged pay enormous sum adverse side ingenious attorney said pg listened respect attempted interrupt remarks cut short alone knew true facts although nekhludoff arrived late long wait caused failure one judges appear chapter vi presiding justice arrived early tall stout man long grayish side whiskers married like wife led dissolute life interfere morning question received note swiss governess lived house summer passing way south st petersburg wrote would town three six clock p wait hotel xxunk therefore anxious end day sitting six clock might meet red haired clara vasilievna entering private chamber locking door behind produced lower shelf book case two dumb bells made twenty motions upward forward sidewise downward three times lowered holding bells head nothing refreshes one cold water bath exercise thought feeling left hand fourth finger gold ring xxunk right arm go two movements exercises went every day court opened door rattled one attempting open judge quickly replaced dumb bells opened door beg pardon said one members court wearing gold eye glasses medium height high shoulders frowning countenance entered xxunk nikitich late said newcomer air displeasure pg yes said presiding judge donning robes always late shame said member sat angrily lighted cigarette member court punctilious man morning unpleasant encounter wife caused spending monthly allowance month asked sum money advance refused\n",
              "y: CategoryList\n",
              "7,3,0,0,4\n",
              "Path: .;\n",
              "\n",
              "Test: None, model=SequentialRNN(\n",
              "  (0): MultiBatchEncoder(\n",
              "    (module): AWD_LSTM(\n",
              "      (encoder): Embedding(38488, 400, padding_idx=1)\n",
              "      (encoder_dp): EmbeddingDropout(\n",
              "        (emb): Embedding(38488, 400, padding_idx=1)\n",
              "      )\n",
              "      (rnns): ModuleList(\n",
              "        (0): WeightDropout(\n",
              "          (module): LSTM(400, 1152, batch_first=True)\n",
              "        )\n",
              "        (1): WeightDropout(\n",
              "          (module): LSTM(1152, 1152, batch_first=True)\n",
              "        )\n",
              "        (2): WeightDropout(\n",
              "          (module): LSTM(1152, 400, batch_first=True)\n",
              "        )\n",
              "      )\n",
              "      (input_dp): RNNDropout()\n",
              "      (hidden_dps): ModuleList(\n",
              "        (0): RNNDropout()\n",
              "        (1): RNNDropout()\n",
              "        (2): RNNDropout()\n",
              "      )\n",
              "    )\n",
              "  )\n",
              "  (1): PoolingLinearClassifier(\n",
              "    (layers): Sequential(\n",
              "      (0): BatchNorm1d(1200, eps=1e-05, momentum=0.1, affine=True, track_running_stats=True)\n",
              "      (1): Dropout(p=0.27999999999999997, inplace=False)\n",
              "      (2): Linear(in_features=1200, out_features=50, bias=True)\n",
              "      (3): ReLU(inplace=True)\n",
              "      (4): BatchNorm1d(50, eps=1e-05, momentum=0.1, affine=True, track_running_stats=True)\n",
              "      (5): Dropout(p=0.1, inplace=False)\n",
              "      (6): Linear(in_features=50, out_features=10, bias=True)\n",
              "    )\n",
              "  )\n",
              "), opt_func=functools.partial(<class 'torch.optim.adam.Adam'>, betas=(0.9, 0.99)), loss_func=FlattenedLoss of CrossEntropyLoss(), metrics=[<function accuracy at 0x7f06cd36f9d8>], true_wd=True, bn_wd=True, wd=0.01, train_bn=True, path=PosixPath('.'), model_dir='models', callback_fns=[functools.partial(<class 'fastai.basic_train.Recorder'>, add_time=True, silent=False)], callbacks=[...], layer_groups=[Sequential(\n",
              "  (0): Embedding(38488, 400, padding_idx=1)\n",
              "  (1): EmbeddingDropout(\n",
              "    (emb): Embedding(38488, 400, padding_idx=1)\n",
              "  )\n",
              "), Sequential(\n",
              "  (0): WeightDropout(\n",
              "    (module): LSTM(400, 1152, batch_first=True)\n",
              "  )\n",
              "  (1): RNNDropout()\n",
              "), Sequential(\n",
              "  (0): WeightDropout(\n",
              "    (module): LSTM(1152, 1152, batch_first=True)\n",
              "  )\n",
              "  (1): RNNDropout()\n",
              "), Sequential(\n",
              "  (0): WeightDropout(\n",
              "    (module): LSTM(1152, 400, batch_first=True)\n",
              "  )\n",
              "  (1): RNNDropout()\n",
              "), Sequential(\n",
              "  (0): PoolingLinearClassifier(\n",
              "    (layers): Sequential(\n",
              "      (0): BatchNorm1d(1200, eps=1e-05, momentum=0.1, affine=True, track_running_stats=True)\n",
              "      (1): Dropout(p=0.27999999999999997, inplace=False)\n",
              "      (2): Linear(in_features=1200, out_features=50, bias=True)\n",
              "      (3): ReLU(inplace=True)\n",
              "      (4): BatchNorm1d(50, eps=1e-05, momentum=0.1, affine=True, track_running_stats=True)\n",
              "      (5): Dropout(p=0.1, inplace=False)\n",
              "      (6): Linear(in_features=50, out_features=10, bias=True)\n",
              "    )\n",
              "  )\n",
              ")], add_time=True, silent=False)\n",
              "alpha: 2.0\n",
              "beta: 1.0], layer_groups=[Sequential(\n",
              "  (0): Embedding(38488, 400, padding_idx=1)\n",
              "  (1): EmbeddingDropout(\n",
              "    (emb): Embedding(38488, 400, padding_idx=1)\n",
              "  )\n",
              "), Sequential(\n",
              "  (0): WeightDropout(\n",
              "    (module): LSTM(400, 1152, batch_first=True)\n",
              "  )\n",
              "  (1): RNNDropout()\n",
              "), Sequential(\n",
              "  (0): WeightDropout(\n",
              "    (module): LSTM(1152, 1152, batch_first=True)\n",
              "  )\n",
              "  (1): RNNDropout()\n",
              "), Sequential(\n",
              "  (0): WeightDropout(\n",
              "    (module): LSTM(1152, 400, batch_first=True)\n",
              "  )\n",
              "  (1): RNNDropout()\n",
              "), Sequential(\n",
              "  (0): PoolingLinearClassifier(\n",
              "    (layers): Sequential(\n",
              "      (0): BatchNorm1d(1200, eps=1e-05, momentum=0.1, affine=True, track_running_stats=True)\n",
              "      (1): Dropout(p=0.27999999999999997, inplace=False)\n",
              "      (2): Linear(in_features=1200, out_features=50, bias=True)\n",
              "      (3): ReLU(inplace=True)\n",
              "      (4): BatchNorm1d(50, eps=1e-05, momentum=0.1, affine=True, track_running_stats=True)\n",
              "      (5): Dropout(p=0.1, inplace=False)\n",
              "      (6): Linear(in_features=50, out_features=10, bias=True)\n",
              "    )\n",
              "  )\n",
              ")], add_time=True, silent=False)"
            ]
          },
          "metadata": {
            "tags": []
          },
          "execution_count": 57
        }
      ]
    },
    {
      "cell_type": "code",
      "metadata": {
        "id": "TZO2JH11L7tS",
        "colab_type": "code",
        "colab": {
          "base_uri": "https://localhost:8080/",
          "height": 78
        },
        "outputId": "569c24c4-062b-4177-b717-0b3e455b2763"
      },
      "source": [
        "learn.fit_one_cycle(1, 1e-2)"
      ],
      "execution_count": 58,
      "outputs": [
        {
          "output_type": "display_data",
          "data": {
            "text/html": [
              "<table border=\"1\" class=\"dataframe\">\n",
              "  <thead>\n",
              "    <tr style=\"text-align: left;\">\n",
              "      <th>epoch</th>\n",
              "      <th>train_loss</th>\n",
              "      <th>valid_loss</th>\n",
              "      <th>accuracy</th>\n",
              "      <th>time</th>\n",
              "    </tr>\n",
              "  </thead>\n",
              "  <tbody>\n",
              "    <tr>\n",
              "      <td>0</td>\n",
              "      <td>0.987413</td>\n",
              "      <td>0.658253</td>\n",
              "      <td>0.786473</td>\n",
              "      <td>01:05</td>\n",
              "    </tr>\n",
              "  </tbody>\n",
              "</table>"
            ],
            "text/plain": [
              "<IPython.core.display.HTML object>"
            ]
          },
          "metadata": {
            "tags": []
          }
        }
      ]
    },
    {
      "cell_type": "code",
      "metadata": {
        "id": "Pq_wk4fv9nuK",
        "colab_type": "code",
        "colab": {}
      },
      "source": [
        "learn.save_encoder('txt_classifier_whoseLine_small')"
      ],
      "execution_count": 59,
      "outputs": []
    },
    {
      "cell_type": "code",
      "metadata": {
        "id": "zvXamnMq2NlL",
        "colab_type": "code",
        "colab": {
          "base_uri": "https://localhost:8080/",
          "height": 378
        },
        "outputId": "b3a7115c-46ef-44ff-85fa-01d36821f919"
      },
      "source": [
        "# get predictions\n",
        "preds, targets = learn.get_preds()\n",
        "\n",
        "predictions = np.argmax(preds, axis = 1)\n",
        "pd.crosstab(predictions, targets)"
      ],
      "execution_count": 60,
      "outputs": [
        {
          "output_type": "display_data",
          "data": {
            "text/html": [
              ""
            ],
            "text/plain": [
              "<IPython.core.display.HTML object>"
            ]
          },
          "metadata": {
            "tags": []
          }
        },
        {
          "output_type": "execute_result",
          "data": {
            "text/html": [
              "<div>\n",
              "<style scoped>\n",
              "    .dataframe tbody tr th:only-of-type {\n",
              "        vertical-align: middle;\n",
              "    }\n",
              "\n",
              "    .dataframe tbody tr th {\n",
              "        vertical-align: top;\n",
              "    }\n",
              "\n",
              "    .dataframe thead th {\n",
              "        text-align: right;\n",
              "    }\n",
              "</style>\n",
              "<table border=\"1\" class=\"dataframe\">\n",
              "  <thead>\n",
              "    <tr style=\"text-align: right;\">\n",
              "      <th>col_0</th>\n",
              "      <th>0</th>\n",
              "      <th>1</th>\n",
              "      <th>2</th>\n",
              "      <th>3</th>\n",
              "      <th>4</th>\n",
              "      <th>5</th>\n",
              "      <th>6</th>\n",
              "      <th>7</th>\n",
              "      <th>8</th>\n",
              "      <th>9</th>\n",
              "    </tr>\n",
              "    <tr>\n",
              "      <th>row_0</th>\n",
              "      <th></th>\n",
              "      <th></th>\n",
              "      <th></th>\n",
              "      <th></th>\n",
              "      <th></th>\n",
              "      <th></th>\n",
              "      <th></th>\n",
              "      <th></th>\n",
              "      <th></th>\n",
              "      <th></th>\n",
              "    </tr>\n",
              "  </thead>\n",
              "  <tbody>\n",
              "    <tr>\n",
              "      <th>0</th>\n",
              "      <td>257</td>\n",
              "      <td>0</td>\n",
              "      <td>14</td>\n",
              "      <td>1</td>\n",
              "      <td>34</td>\n",
              "      <td>33</td>\n",
              "      <td>0</td>\n",
              "      <td>9</td>\n",
              "      <td>6</td>\n",
              "      <td>7</td>\n",
              "    </tr>\n",
              "    <tr>\n",
              "      <th>1</th>\n",
              "      <td>0</td>\n",
              "      <td>70</td>\n",
              "      <td>0</td>\n",
              "      <td>0</td>\n",
              "      <td>1</td>\n",
              "      <td>0</td>\n",
              "      <td>1</td>\n",
              "      <td>11</td>\n",
              "      <td>0</td>\n",
              "      <td>1</td>\n",
              "    </tr>\n",
              "    <tr>\n",
              "      <th>2</th>\n",
              "      <td>0</td>\n",
              "      <td>0</td>\n",
              "      <td>238</td>\n",
              "      <td>1</td>\n",
              "      <td>2</td>\n",
              "      <td>29</td>\n",
              "      <td>0</td>\n",
              "      <td>2</td>\n",
              "      <td>7</td>\n",
              "      <td>3</td>\n",
              "    </tr>\n",
              "    <tr>\n",
              "      <th>3</th>\n",
              "      <td>0</td>\n",
              "      <td>0</td>\n",
              "      <td>1</td>\n",
              "      <td>184</td>\n",
              "      <td>2</td>\n",
              "      <td>5</td>\n",
              "      <td>0</td>\n",
              "      <td>0</td>\n",
              "      <td>0</td>\n",
              "      <td>2</td>\n",
              "    </tr>\n",
              "    <tr>\n",
              "      <th>4</th>\n",
              "      <td>20</td>\n",
              "      <td>0</td>\n",
              "      <td>4</td>\n",
              "      <td>1</td>\n",
              "      <td>244</td>\n",
              "      <td>10</td>\n",
              "      <td>0</td>\n",
              "      <td>3</td>\n",
              "      <td>0</td>\n",
              "      <td>9</td>\n",
              "    </tr>\n",
              "    <tr>\n",
              "      <th>5</th>\n",
              "      <td>2</td>\n",
              "      <td>4</td>\n",
              "      <td>19</td>\n",
              "      <td>3</td>\n",
              "      <td>3</td>\n",
              "      <td>179</td>\n",
              "      <td>0</td>\n",
              "      <td>4</td>\n",
              "      <td>7</td>\n",
              "      <td>11</td>\n",
              "    </tr>\n",
              "    <tr>\n",
              "      <th>6</th>\n",
              "      <td>8</td>\n",
              "      <td>2</td>\n",
              "      <td>1</td>\n",
              "      <td>0</td>\n",
              "      <td>2</td>\n",
              "      <td>0</td>\n",
              "      <td>107</td>\n",
              "      <td>9</td>\n",
              "      <td>1</td>\n",
              "      <td>16</td>\n",
              "    </tr>\n",
              "    <tr>\n",
              "      <th>7</th>\n",
              "      <td>4</td>\n",
              "      <td>17</td>\n",
              "      <td>1</td>\n",
              "      <td>0</td>\n",
              "      <td>6</td>\n",
              "      <td>8</td>\n",
              "      <td>3</td>\n",
              "      <td>114</td>\n",
              "      <td>0</td>\n",
              "      <td>4</td>\n",
              "    </tr>\n",
              "    <tr>\n",
              "      <th>8</th>\n",
              "      <td>0</td>\n",
              "      <td>0</td>\n",
              "      <td>21</td>\n",
              "      <td>0</td>\n",
              "      <td>0</td>\n",
              "      <td>15</td>\n",
              "      <td>0</td>\n",
              "      <td>1</td>\n",
              "      <td>116</td>\n",
              "      <td>0</td>\n",
              "    </tr>\n",
              "    <tr>\n",
              "      <th>9</th>\n",
              "      <td>9</td>\n",
              "      <td>0</td>\n",
              "      <td>1</td>\n",
              "      <td>7</td>\n",
              "      <td>6</td>\n",
              "      <td>21</td>\n",
              "      <td>2</td>\n",
              "      <td>5</td>\n",
              "      <td>0</td>\n",
              "      <td>119</td>\n",
              "    </tr>\n",
              "  </tbody>\n",
              "</table>\n",
              "</div>"
            ],
            "text/plain": [
              "col_0    0   1    2    3    4    5    6    7    8    9\n",
              "row_0                                                 \n",
              "0      257   0   14    1   34   33    0    9    6    7\n",
              "1        0  70    0    0    1    0    1   11    0    1\n",
              "2        0   0  238    1    2   29    0    2    7    3\n",
              "3        0   0    1  184    2    5    0    0    0    2\n",
              "4       20   0    4    1  244   10    0    3    0    9\n",
              "5        2   4   19    3    3  179    0    4    7   11\n",
              "6        8   2    1    0    2    0  107    9    1   16\n",
              "7        4  17    1    0    6    8    3  114    0    4\n",
              "8        0   0   21    0    0   15    0    1  116    0\n",
              "9        9   0    1    7    6   21    2    5    0  119"
            ]
          },
          "metadata": {
            "tags": []
          },
          "execution_count": 60
        }
      ]
    },
    {
      "cell_type": "code",
      "metadata": {
        "id": "RntWOfqXCmVd",
        "colab_type": "code",
        "colab": {
          "base_uri": "https://localhost:8080/",
          "height": 254
        },
        "outputId": "6dfdf8d7-fe2d-4c46-94ab-b45542b2fd7a"
      },
      "source": [
        "precision, recall, fscore, support = score(targets, predictions, labels = [0,1,2,3,4,5,6,7,8,9])\n",
        "results1 = pd.concat((pd.Series([0,1,2,3,4,5,6,7,8,9]), pd.Series(precision), pd.Series(recall), pd.Series(fscore), pd.Series(support)), axis=1, join = 'outer')\n",
        "results1.columns=('label','precision', 'recall', 'fscore', 'support')\n",
        "print('Results','\\n','*'*50,'\\n',round(results1,2))"
      ],
      "execution_count": 61,
      "outputs": [
        {
          "output_type": "stream",
          "text": [
            "Results \n",
            " ************************************************** \n",
            "    label  precision  recall  fscore  support\n",
            "0      0       0.71    0.86    0.78      300\n",
            "1      1       0.83    0.75    0.79       93\n",
            "2      2       0.84    0.79    0.82      300\n",
            "3      3       0.95    0.93    0.94      197\n",
            "4      4       0.84    0.81    0.83      300\n",
            "5      5       0.77    0.60    0.67      300\n",
            "6      6       0.73    0.95    0.83      113\n",
            "7      7       0.73    0.72    0.72      158\n",
            "8      8       0.76    0.85    0.80      137\n",
            "9      9       0.70    0.69    0.70      172\n"
          ],
          "name": "stdout"
        }
      ]
    }
  ]
}