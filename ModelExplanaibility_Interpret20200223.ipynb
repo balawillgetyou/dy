{
  "nbformat": 4,
  "nbformat_minor": 0,
  "metadata": {
    "colab": {
      "name": "ModelExplanaibility_Interpret20200223.ipynb",
      "provenance": [],
      "authorship_tag": "ABX9TyMiwjCtUzjbRdcSIE9sjZaF",
      "include_colab_link": true
    },
    "kernelspec": {
      "name": "python3",
      "display_name": "Python 3"
    },
    "widgets": {
      "application/vnd.jupyter.widget-state+json": {
        "e36106902684458c91ab808a35eeb678": {
          "model_module": "@jupyter-widgets/controls",
          "model_name": "HBoxModel",
          "state": {
            "_view_name": "HBoxView",
            "_dom_classes": [],
            "_model_name": "HBoxModel",
            "_view_module": "@jupyter-widgets/controls",
            "_model_module_version": "1.5.0",
            "_view_count": null,
            "_view_module_version": "1.5.0",
            "box_style": "",
            "layout": "IPY_MODEL_e862bf958336470cb5c688747f2dee21",
            "_model_module": "@jupyter-widgets/controls",
            "children": [
              "IPY_MODEL_99557dc94bae4ef8a2c1082766d7a7ef",
              "IPY_MODEL_95f093567b9248c392589ab94a227668"
            ]
          }
        },
        "e862bf958336470cb5c688747f2dee21": {
          "model_module": "@jupyter-widgets/base",
          "model_name": "LayoutModel",
          "state": {
            "_view_name": "LayoutView",
            "grid_template_rows": null,
            "right": null,
            "justify_content": null,
            "_view_module": "@jupyter-widgets/base",
            "overflow": null,
            "_model_module_version": "1.2.0",
            "_view_count": null,
            "flex_flow": null,
            "width": null,
            "min_width": null,
            "border": null,
            "align_items": null,
            "bottom": null,
            "_model_module": "@jupyter-widgets/base",
            "top": null,
            "grid_column": null,
            "overflow_y": null,
            "overflow_x": null,
            "grid_auto_flow": null,
            "grid_area": null,
            "grid_template_columns": null,
            "flex": null,
            "_model_name": "LayoutModel",
            "justify_items": null,
            "grid_row": null,
            "max_height": null,
            "align_content": null,
            "visibility": null,
            "align_self": null,
            "height": null,
            "min_height": null,
            "padding": null,
            "grid_auto_rows": null,
            "grid_gap": null,
            "max_width": null,
            "order": null,
            "_view_module_version": "1.2.0",
            "grid_template_areas": null,
            "object_position": null,
            "object_fit": null,
            "grid_auto_columns": null,
            "margin": null,
            "display": null,
            "left": null
          }
        },
        "99557dc94bae4ef8a2c1082766d7a7ef": {
          "model_module": "@jupyter-widgets/controls",
          "model_name": "IntProgressModel",
          "state": {
            "_view_name": "ProgressView",
            "style": "IPY_MODEL_41c7cc7ac57e41dab8715aca3bd4ff8c",
            "_dom_classes": [],
            "description": "",
            "_model_name": "IntProgressModel",
            "bar_style": "success",
            "max": 455,
            "_view_module": "@jupyter-widgets/controls",
            "_model_module_version": "1.5.0",
            "value": 455,
            "_view_count": null,
            "_view_module_version": "1.5.0",
            "orientation": "horizontal",
            "min": 0,
            "description_tooltip": null,
            "_model_module": "@jupyter-widgets/controls",
            "layout": "IPY_MODEL_2fda0a6db466421f8bddb3f9e1375eab"
          }
        },
        "95f093567b9248c392589ab94a227668": {
          "model_module": "@jupyter-widgets/controls",
          "model_name": "HTMLModel",
          "state": {
            "_view_name": "HTMLView",
            "style": "IPY_MODEL_b6f644dfb03e4dbb9e471f717f484c04",
            "_dom_classes": [],
            "description": "",
            "_model_name": "HTMLModel",
            "placeholder": "​",
            "_view_module": "@jupyter-widgets/controls",
            "_model_module_version": "1.5.0",
            "value": "100% 455/455 [04:21&lt;00:00,  1.75it/s]",
            "_view_count": null,
            "_view_module_version": "1.5.0",
            "description_tooltip": null,
            "_model_module": "@jupyter-widgets/controls",
            "layout": "IPY_MODEL_5c6376084ae54502958f3e8ce1e837e1"
          }
        },
        "41c7cc7ac57e41dab8715aca3bd4ff8c": {
          "model_module": "@jupyter-widgets/controls",
          "model_name": "ProgressStyleModel",
          "state": {
            "_view_name": "StyleView",
            "_model_name": "ProgressStyleModel",
            "description_width": "",
            "_view_module": "@jupyter-widgets/base",
            "_model_module_version": "1.5.0",
            "_view_count": null,
            "_view_module_version": "1.2.0",
            "bar_color": null,
            "_model_module": "@jupyter-widgets/controls"
          }
        },
        "2fda0a6db466421f8bddb3f9e1375eab": {
          "model_module": "@jupyter-widgets/base",
          "model_name": "LayoutModel",
          "state": {
            "_view_name": "LayoutView",
            "grid_template_rows": null,
            "right": null,
            "justify_content": null,
            "_view_module": "@jupyter-widgets/base",
            "overflow": null,
            "_model_module_version": "1.2.0",
            "_view_count": null,
            "flex_flow": null,
            "width": null,
            "min_width": null,
            "border": null,
            "align_items": null,
            "bottom": null,
            "_model_module": "@jupyter-widgets/base",
            "top": null,
            "grid_column": null,
            "overflow_y": null,
            "overflow_x": null,
            "grid_auto_flow": null,
            "grid_area": null,
            "grid_template_columns": null,
            "flex": null,
            "_model_name": "LayoutModel",
            "justify_items": null,
            "grid_row": null,
            "max_height": null,
            "align_content": null,
            "visibility": null,
            "align_self": null,
            "height": null,
            "min_height": null,
            "padding": null,
            "grid_auto_rows": null,
            "grid_gap": null,
            "max_width": null,
            "order": null,
            "_view_module_version": "1.2.0",
            "grid_template_areas": null,
            "object_position": null,
            "object_fit": null,
            "grid_auto_columns": null,
            "margin": null,
            "display": null,
            "left": null
          }
        },
        "b6f644dfb03e4dbb9e471f717f484c04": {
          "model_module": "@jupyter-widgets/controls",
          "model_name": "DescriptionStyleModel",
          "state": {
            "_view_name": "StyleView",
            "_model_name": "DescriptionStyleModel",
            "description_width": "",
            "_view_module": "@jupyter-widgets/base",
            "_model_module_version": "1.5.0",
            "_view_count": null,
            "_view_module_version": "1.2.0",
            "_model_module": "@jupyter-widgets/controls"
          }
        },
        "5c6376084ae54502958f3e8ce1e837e1": {
          "model_module": "@jupyter-widgets/base",
          "model_name": "LayoutModel",
          "state": {
            "_view_name": "LayoutView",
            "grid_template_rows": null,
            "right": null,
            "justify_content": null,
            "_view_module": "@jupyter-widgets/base",
            "overflow": null,
            "_model_module_version": "1.2.0",
            "_view_count": null,
            "flex_flow": null,
            "width": null,
            "min_width": null,
            "border": null,
            "align_items": null,
            "bottom": null,
            "_model_module": "@jupyter-widgets/base",
            "top": null,
            "grid_column": null,
            "overflow_y": null,
            "overflow_x": null,
            "grid_auto_flow": null,
            "grid_area": null,
            "grid_template_columns": null,
            "flex": null,
            "_model_name": "LayoutModel",
            "justify_items": null,
            "grid_row": null,
            "max_height": null,
            "align_content": null,
            "visibility": null,
            "align_self": null,
            "height": null,
            "min_height": null,
            "padding": null,
            "grid_auto_rows": null,
            "grid_gap": null,
            "max_width": null,
            "order": null,
            "_view_module_version": "1.2.0",
            "grid_template_areas": null,
            "object_position": null,
            "object_fit": null,
            "grid_auto_columns": null,
            "margin": null,
            "display": null,
            "left": null
          }
        },
        "d78ca13523b34d0da7caee387a236781": {
          "model_module": "@jupyter-widgets/controls",
          "model_name": "HBoxModel",
          "state": {
            "_view_name": "HBoxView",
            "_dom_classes": [],
            "_model_name": "HBoxModel",
            "_view_module": "@jupyter-widgets/controls",
            "_model_module_version": "1.5.0",
            "_view_count": null,
            "_view_module_version": "1.5.0",
            "box_style": "",
            "layout": "IPY_MODEL_aef6a433b0fd449896697c65903067d0",
            "_model_module": "@jupyter-widgets/controls",
            "children": [
              "IPY_MODEL_8292f78f14604d739ed81adf1a1611d2",
              "IPY_MODEL_ddb35171fba349d09147ac77cc046ae5"
            ]
          }
        },
        "aef6a433b0fd449896697c65903067d0": {
          "model_module": "@jupyter-widgets/base",
          "model_name": "LayoutModel",
          "state": {
            "_view_name": "LayoutView",
            "grid_template_rows": null,
            "right": null,
            "justify_content": null,
            "_view_module": "@jupyter-widgets/base",
            "overflow": null,
            "_model_module_version": "1.2.0",
            "_view_count": null,
            "flex_flow": null,
            "width": null,
            "min_width": null,
            "border": null,
            "align_items": null,
            "bottom": null,
            "_model_module": "@jupyter-widgets/base",
            "top": null,
            "grid_column": null,
            "overflow_y": null,
            "overflow_x": null,
            "grid_auto_flow": null,
            "grid_area": null,
            "grid_template_columns": null,
            "flex": null,
            "_model_name": "LayoutModel",
            "justify_items": null,
            "grid_row": null,
            "max_height": null,
            "align_content": null,
            "visibility": null,
            "align_self": null,
            "height": null,
            "min_height": null,
            "padding": null,
            "grid_auto_rows": null,
            "grid_gap": null,
            "max_width": null,
            "order": null,
            "_view_module_version": "1.2.0",
            "grid_template_areas": null,
            "object_position": null,
            "object_fit": null,
            "grid_auto_columns": null,
            "margin": null,
            "display": null,
            "left": null
          }
        },
        "8292f78f14604d739ed81adf1a1611d2": {
          "model_module": "@jupyter-widgets/controls",
          "model_name": "IntProgressModel",
          "state": {
            "_view_name": "ProgressView",
            "style": "IPY_MODEL_2c407efec6f748ff94c6bb5e846b9c1d",
            "_dom_classes": [],
            "description": "",
            "_model_name": "IntProgressModel",
            "bar_style": "success",
            "max": 1,
            "_view_module": "@jupyter-widgets/controls",
            "_model_module_version": "1.5.0",
            "value": 1,
            "_view_count": null,
            "_view_module_version": "1.5.0",
            "orientation": "horizontal",
            "min": 0,
            "description_tooltip": null,
            "_model_module": "@jupyter-widgets/controls",
            "layout": "IPY_MODEL_df618583390344e5a63f4df89065e894"
          }
        },
        "ddb35171fba349d09147ac77cc046ae5": {
          "model_module": "@jupyter-widgets/controls",
          "model_name": "HTMLModel",
          "state": {
            "_view_name": "HTMLView",
            "style": "IPY_MODEL_95672731eeb04929b02ac5fc66af116d",
            "_dom_classes": [],
            "description": "",
            "_model_name": "HTMLModel",
            "placeholder": "​",
            "_view_module": "@jupyter-widgets/controls",
            "_model_module_version": "1.5.0",
            "value": "100% 1/1 [00:00&lt;00:00,  1.73it/s]",
            "_view_count": null,
            "_view_module_version": "1.5.0",
            "description_tooltip": null,
            "_model_module": "@jupyter-widgets/controls",
            "layout": "IPY_MODEL_aade6c9c55c74cb9b570d44568120d6d"
          }
        },
        "2c407efec6f748ff94c6bb5e846b9c1d": {
          "model_module": "@jupyter-widgets/controls",
          "model_name": "ProgressStyleModel",
          "state": {
            "_view_name": "StyleView",
            "_model_name": "ProgressStyleModel",
            "description_width": "",
            "_view_module": "@jupyter-widgets/base",
            "_model_module_version": "1.5.0",
            "_view_count": null,
            "_view_module_version": "1.2.0",
            "bar_color": null,
            "_model_module": "@jupyter-widgets/controls"
          }
        },
        "df618583390344e5a63f4df89065e894": {
          "model_module": "@jupyter-widgets/base",
          "model_name": "LayoutModel",
          "state": {
            "_view_name": "LayoutView",
            "grid_template_rows": null,
            "right": null,
            "justify_content": null,
            "_view_module": "@jupyter-widgets/base",
            "overflow": null,
            "_model_module_version": "1.2.0",
            "_view_count": null,
            "flex_flow": null,
            "width": null,
            "min_width": null,
            "border": null,
            "align_items": null,
            "bottom": null,
            "_model_module": "@jupyter-widgets/base",
            "top": null,
            "grid_column": null,
            "overflow_y": null,
            "overflow_x": null,
            "grid_auto_flow": null,
            "grid_area": null,
            "grid_template_columns": null,
            "flex": null,
            "_model_name": "LayoutModel",
            "justify_items": null,
            "grid_row": null,
            "max_height": null,
            "align_content": null,
            "visibility": null,
            "align_self": null,
            "height": null,
            "min_height": null,
            "padding": null,
            "grid_auto_rows": null,
            "grid_gap": null,
            "max_width": null,
            "order": null,
            "_view_module_version": "1.2.0",
            "grid_template_areas": null,
            "object_position": null,
            "object_fit": null,
            "grid_auto_columns": null,
            "margin": null,
            "display": null,
            "left": null
          }
        },
        "95672731eeb04929b02ac5fc66af116d": {
          "model_module": "@jupyter-widgets/controls",
          "model_name": "DescriptionStyleModel",
          "state": {
            "_view_name": "StyleView",
            "_model_name": "DescriptionStyleModel",
            "description_width": "",
            "_view_module": "@jupyter-widgets/base",
            "_model_module_version": "1.5.0",
            "_view_count": null,
            "_view_module_version": "1.2.0",
            "_model_module": "@jupyter-widgets/controls"
          }
        },
        "aade6c9c55c74cb9b570d44568120d6d": {
          "model_module": "@jupyter-widgets/base",
          "model_name": "LayoutModel",
          "state": {
            "_view_name": "LayoutView",
            "grid_template_rows": null,
            "right": null,
            "justify_content": null,
            "_view_module": "@jupyter-widgets/base",
            "overflow": null,
            "_model_module_version": "1.2.0",
            "_view_count": null,
            "flex_flow": null,
            "width": null,
            "min_width": null,
            "border": null,
            "align_items": null,
            "bottom": null,
            "_model_module": "@jupyter-widgets/base",
            "top": null,
            "grid_column": null,
            "overflow_y": null,
            "overflow_x": null,
            "grid_auto_flow": null,
            "grid_area": null,
            "grid_template_columns": null,
            "flex": null,
            "_model_name": "LayoutModel",
            "justify_items": null,
            "grid_row": null,
            "max_height": null,
            "align_content": null,
            "visibility": null,
            "align_self": null,
            "height": null,
            "min_height": null,
            "padding": null,
            "grid_auto_rows": null,
            "grid_gap": null,
            "max_width": null,
            "order": null,
            "_view_module_version": "1.2.0",
            "grid_template_areas": null,
            "object_position": null,
            "object_fit": null,
            "grid_auto_columns": null,
            "margin": null,
            "display": null,
            "left": null
          }
        },
        "fcf83dc4926a4d7abb85859d0248aef7": {
          "model_module": "@jupyter-widgets/controls",
          "model_name": "HBoxModel",
          "state": {
            "_view_name": "HBoxView",
            "_dom_classes": [],
            "_model_name": "HBoxModel",
            "_view_module": "@jupyter-widgets/controls",
            "_model_module_version": "1.5.0",
            "_view_count": null,
            "_view_module_version": "1.5.0",
            "box_style": "",
            "layout": "IPY_MODEL_fe6bdc6aa44d4aca89b178bcc552f680",
            "_model_module": "@jupyter-widgets/controls",
            "children": [
              "IPY_MODEL_bf9d82ab7f7348599cec42b7fe376579",
              "IPY_MODEL_400806e38d284cdb8539b7abd68309ad"
            ]
          }
        },
        "fe6bdc6aa44d4aca89b178bcc552f680": {
          "model_module": "@jupyter-widgets/base",
          "model_name": "LayoutModel",
          "state": {
            "_view_name": "LayoutView",
            "grid_template_rows": null,
            "right": null,
            "justify_content": null,
            "_view_module": "@jupyter-widgets/base",
            "overflow": null,
            "_model_module_version": "1.2.0",
            "_view_count": null,
            "flex_flow": null,
            "width": null,
            "min_width": null,
            "border": null,
            "align_items": null,
            "bottom": null,
            "_model_module": "@jupyter-widgets/base",
            "top": null,
            "grid_column": null,
            "overflow_y": null,
            "overflow_x": null,
            "grid_auto_flow": null,
            "grid_area": null,
            "grid_template_columns": null,
            "flex": null,
            "_model_name": "LayoutModel",
            "justify_items": null,
            "grid_row": null,
            "max_height": null,
            "align_content": null,
            "visibility": null,
            "align_self": null,
            "height": null,
            "min_height": null,
            "padding": null,
            "grid_auto_rows": null,
            "grid_gap": null,
            "max_width": null,
            "order": null,
            "_view_module_version": "1.2.0",
            "grid_template_areas": null,
            "object_position": null,
            "object_fit": null,
            "grid_auto_columns": null,
            "margin": null,
            "display": null,
            "left": null
          }
        },
        "bf9d82ab7f7348599cec42b7fe376579": {
          "model_module": "@jupyter-widgets/controls",
          "model_name": "IntProgressModel",
          "state": {
            "_view_name": "ProgressView",
            "style": "IPY_MODEL_704b1c18897b4dcbab6c4e8bbbab166b",
            "_dom_classes": [],
            "description": "",
            "_model_name": "IntProgressModel",
            "bar_style": "success",
            "max": 1,
            "_view_module": "@jupyter-widgets/controls",
            "_model_module_version": "1.5.0",
            "value": 1,
            "_view_count": null,
            "_view_module_version": "1.5.0",
            "orientation": "horizontal",
            "min": 0,
            "description_tooltip": null,
            "_model_module": "@jupyter-widgets/controls",
            "layout": "IPY_MODEL_56815f330ddd49bb82e4054a567d3430"
          }
        },
        "400806e38d284cdb8539b7abd68309ad": {
          "model_module": "@jupyter-widgets/controls",
          "model_name": "HTMLModel",
          "state": {
            "_view_name": "HTMLView",
            "style": "IPY_MODEL_a0b6514d6566460394d4baec6b9d408a",
            "_dom_classes": [],
            "description": "",
            "_model_name": "HTMLModel",
            "placeholder": "​",
            "_view_module": "@jupyter-widgets/controls",
            "_model_module_version": "1.5.0",
            "value": "100% 1/1 [00:00&lt;00:00,  1.71it/s]",
            "_view_count": null,
            "_view_module_version": "1.5.0",
            "description_tooltip": null,
            "_model_module": "@jupyter-widgets/controls",
            "layout": "IPY_MODEL_cd7ac8e3000545479721107418135367"
          }
        },
        "704b1c18897b4dcbab6c4e8bbbab166b": {
          "model_module": "@jupyter-widgets/controls",
          "model_name": "ProgressStyleModel",
          "state": {
            "_view_name": "StyleView",
            "_model_name": "ProgressStyleModel",
            "description_width": "",
            "_view_module": "@jupyter-widgets/base",
            "_model_module_version": "1.5.0",
            "_view_count": null,
            "_view_module_version": "1.2.0",
            "bar_color": null,
            "_model_module": "@jupyter-widgets/controls"
          }
        },
        "56815f330ddd49bb82e4054a567d3430": {
          "model_module": "@jupyter-widgets/base",
          "model_name": "LayoutModel",
          "state": {
            "_view_name": "LayoutView",
            "grid_template_rows": null,
            "right": null,
            "justify_content": null,
            "_view_module": "@jupyter-widgets/base",
            "overflow": null,
            "_model_module_version": "1.2.0",
            "_view_count": null,
            "flex_flow": null,
            "width": null,
            "min_width": null,
            "border": null,
            "align_items": null,
            "bottom": null,
            "_model_module": "@jupyter-widgets/base",
            "top": null,
            "grid_column": null,
            "overflow_y": null,
            "overflow_x": null,
            "grid_auto_flow": null,
            "grid_area": null,
            "grid_template_columns": null,
            "flex": null,
            "_model_name": "LayoutModel",
            "justify_items": null,
            "grid_row": null,
            "max_height": null,
            "align_content": null,
            "visibility": null,
            "align_self": null,
            "height": null,
            "min_height": null,
            "padding": null,
            "grid_auto_rows": null,
            "grid_gap": null,
            "max_width": null,
            "order": null,
            "_view_module_version": "1.2.0",
            "grid_template_areas": null,
            "object_position": null,
            "object_fit": null,
            "grid_auto_columns": null,
            "margin": null,
            "display": null,
            "left": null
          }
        },
        "a0b6514d6566460394d4baec6b9d408a": {
          "model_module": "@jupyter-widgets/controls",
          "model_name": "DescriptionStyleModel",
          "state": {
            "_view_name": "StyleView",
            "_model_name": "DescriptionStyleModel",
            "description_width": "",
            "_view_module": "@jupyter-widgets/base",
            "_model_module_version": "1.5.0",
            "_view_count": null,
            "_view_module_version": "1.2.0",
            "_model_module": "@jupyter-widgets/controls"
          }
        },
        "cd7ac8e3000545479721107418135367": {
          "model_module": "@jupyter-widgets/base",
          "model_name": "LayoutModel",
          "state": {
            "_view_name": "LayoutView",
            "grid_template_rows": null,
            "right": null,
            "justify_content": null,
            "_view_module": "@jupyter-widgets/base",
            "overflow": null,
            "_model_module_version": "1.2.0",
            "_view_count": null,
            "flex_flow": null,
            "width": null,
            "min_width": null,
            "border": null,
            "align_items": null,
            "bottom": null,
            "_model_module": "@jupyter-widgets/base",
            "top": null,
            "grid_column": null,
            "overflow_y": null,
            "overflow_x": null,
            "grid_auto_flow": null,
            "grid_area": null,
            "grid_template_columns": null,
            "flex": null,
            "_model_name": "LayoutModel",
            "justify_items": null,
            "grid_row": null,
            "max_height": null,
            "align_content": null,
            "visibility": null,
            "align_self": null,
            "height": null,
            "min_height": null,
            "padding": null,
            "grid_auto_rows": null,
            "grid_gap": null,
            "max_width": null,
            "order": null,
            "_view_module_version": "1.2.0",
            "grid_template_areas": null,
            "object_position": null,
            "object_fit": null,
            "grid_auto_columns": null,
            "margin": null,
            "display": null,
            "left": null
          }
        }
      }
    }
  },
  "cells": [
    {
      "cell_type": "markdown",
      "metadata": {
        "id": "view-in-github",
        "colab_type": "text"
      },
      "source": [
        "<a href=\"https://colab.research.google.com/github/balawillgetyou/dy/blob/master/ModelExplanaibility_Interpret20200223.ipynb\" target=\"_parent\"><img src=\"https://colab.research.google.com/assets/colab-badge.svg\" alt=\"Open In Colab\"/></a>"
      ]
    },
    {
      "cell_type": "markdown",
      "metadata": {
        "id": "CmjdK-z0N39O",
        "colab_type": "text"
      },
      "source": [
        "We use the interpretability package of the Azure Machine Learning Python SDK to understand why a model made its predictions for individual observations (local explanations). This package can also produce feature importance for the model (global explanations)."
      ]
    },
    {
      "cell_type": "code",
      "metadata": {
        "id": "6qrHne-u7V5F",
        "colab_type": "code",
        "colab": {}
      },
      "source": [
        "pip install azureml-sdk\n",
        "pip install azureml-interpret\n",
        "\n",
        "import warnings\n",
        "warnings.filterwarnings('ignore')"
      ],
      "execution_count": 0,
      "outputs": []
    },
    {
      "cell_type": "code",
      "metadata": {
        "id": "wos8O9aD6eN3",
        "colab_type": "code",
        "colab": {}
      },
      "source": [
        "# load breast cancer dataset, a well-known small dataset that comes with scikit-learn\n",
        "from sklearn.datasets import load_breast_cancer\n",
        "from sklearn import svm\n",
        "from sklearn.model_selection import train_test_split\n",
        "breast_cancer_data = load_breast_cancer()\n",
        "classes = breast_cancer_data.target_names.tolist()\n",
        "\n",
        "# split data into train and test\n",
        "from sklearn.model_selection import train_test_split\n",
        "x_train, x_test, y_train, y_test = train_test_split(breast_cancer_data.data,            \n",
        "                                                    breast_cancer_data.target,  \n",
        "                                                    test_size=0.2,\n",
        "                                                    random_state=0)\n",
        "clf = svm.SVC(gamma=0.001, C=100., probability=True)\n",
        "model = clf.fit(x_train, y_train)"
      ],
      "execution_count": 0,
      "outputs": []
    },
    {
      "cell_type": "code",
      "metadata": {
        "id": "5zchxTm3GQZ5",
        "colab_type": "code",
        "outputId": "e014f0a0-eb34-41d9-ceb1-21c38b5d79b7",
        "colab": {
          "base_uri": "https://localhost:8080/",
          "height": 235
        }
      },
      "source": [
        "print('These are the labels in the breast cancer dataset', '\\n', classes)\n",
        "print('These are the features in the breast cancer dataset :', '\\n', breast_cancer_data.feature_names)"
      ],
      "execution_count": 11,
      "outputs": [
        {
          "output_type": "stream",
          "text": [
            "These are the labels in the breast cancer dataset \n",
            " ['malignant', 'benign']\n",
            "These are the features in the breast cancer dataset : \n",
            " ['mean radius' 'mean texture' 'mean perimeter' 'mean area'\n",
            " 'mean smoothness' 'mean compactness' 'mean concavity'\n",
            " 'mean concave points' 'mean symmetry' 'mean fractal dimension'\n",
            " 'radius error' 'texture error' 'perimeter error' 'area error'\n",
            " 'smoothness error' 'compactness error' 'concavity error'\n",
            " 'concave points error' 'symmetry error' 'fractal dimension error'\n",
            " 'worst radius' 'worst texture' 'worst perimeter' 'worst area'\n",
            " 'worst smoothness' 'worst compactness' 'worst concavity'\n",
            " 'worst concave points' 'worst symmetry' 'worst fractal dimension']\n"
          ],
          "name": "stdout"
        }
      ]
    },
    {
      "cell_type": "code",
      "metadata": {
        "id": "uLxU1hhB7x5I",
        "colab_type": "code",
        "colab": {}
      },
      "source": [
        "#TabularExplainer is a wrapper for SHAP\n",
        "from interpret.ext.blackbox import TabularExplainer\n",
        "\n",
        "# \"features\" and \"classes\" fields are optional\n",
        "explainer = TabularExplainer(model, \n",
        "                             x_train, \n",
        "                             features=breast_cancer_data.feature_names, \n",
        "                             classes=classes)"
      ],
      "execution_count": 0,
      "outputs": []
    },
    {
      "cell_type": "code",
      "metadata": {
        "id": "nKdBCXr679A1",
        "colab_type": "code",
        "colab": {
          "base_uri": "https://localhost:8080/",
          "height": 613,
          "referenced_widgets": [
            "e36106902684458c91ab808a35eeb678",
            "e862bf958336470cb5c688747f2dee21",
            "99557dc94bae4ef8a2c1082766d7a7ef",
            "95f093567b9248c392589ab94a227668",
            "41c7cc7ac57e41dab8715aca3bd4ff8c",
            "2fda0a6db466421f8bddb3f9e1375eab",
            "b6f644dfb03e4dbb9e471f717f484c04",
            "5c6376084ae54502958f3e8ce1e837e1"
          ]
        },
        "outputId": "56dac0dd-c879-4db4-f98f-af25abd1e12b"
      },
      "source": [
        "# This provides feature importance across all the observations in a given dataset in sorted order of importance, with importance values\n",
        "global_explanation = explainer.explain_global(x_train)\n",
        "\n",
        "sorted_global_importance_values = global_explanation.get_ranked_global_values()\n",
        "sorted_global_importance_names = global_explanation.get_ranked_global_names()\n",
        "dict(zip(sorted_global_importance_names, sorted_global_importance_values))"
      ],
      "execution_count": 12,
      "outputs": [
        {
          "output_type": "display_data",
          "data": {
            "application/vnd.jupyter.widget-view+json": {
              "model_id": "e36106902684458c91ab808a35eeb678",
              "version_minor": 0,
              "version_major": 2
            },
            "text/plain": [
              "HBox(children=(IntProgress(value=0, max=455), HTML(value='')))"
            ]
          },
          "metadata": {
            "tags": []
          }
        },
        {
          "output_type": "stream",
          "text": [
            "\n"
          ],
          "name": "stdout"
        },
        {
          "output_type": "execute_result",
          "data": {
            "text/plain": [
              "{'area error': 0.043814437624615066,\n",
              " 'compactness error': 0.0006282321618886724,\n",
              " 'concave points error': 0.0006271786251183598,\n",
              " 'concavity error': 0.0005989626101042306,\n",
              " 'fractal dimension error': 0.0006256656631654055,\n",
              " 'mean area': 0.0902336612866102,\n",
              " 'mean compactness': 0.0006812267148136712,\n",
              " 'mean concave points': 0.0007338528815766646,\n",
              " 'mean concavity': 0.0005858642551401746,\n",
              " 'mean fractal dimension': 0.0006878066573047346,\n",
              " 'mean perimeter': 0.06544750653198986,\n",
              " 'mean radius': 0.0011602798634139347,\n",
              " 'mean smoothness': 0.0005753093743510319,\n",
              " 'mean symmetry': 0.0006781118046351257,\n",
              " 'mean texture': 0.0008290164646017652,\n",
              " 'perimeter error': 0.0008015254400993534,\n",
              " 'radius error': 0.0007144972919556728,\n",
              " 'smoothness error': 0.0006563992100773597,\n",
              " 'symmetry error': 0.0007172813284230385,\n",
              " 'texture error': 0.0005979691022141256,\n",
              " 'worst area': 0.12203088876772909,\n",
              " 'worst compactness': 0.0006263388206721814,\n",
              " 'worst concave points': 0.0007921989579662981,\n",
              " 'worst concavity': 0.0005941849028951639,\n",
              " 'worst fractal dimension': 0.0004486766521368303,\n",
              " 'worst perimeter': 0.08864732775723082,\n",
              " 'worst radius': 0.0014715944263560517,\n",
              " 'worst smoothness': 0.0006710622137051111,\n",
              " 'worst symmetry': 0.000681437281489077,\n",
              " 'worst texture': 0.012179330668079783}"
            ]
          },
          "metadata": {
            "tags": []
          },
          "execution_count": 12
        }
      ]
    },
    {
      "cell_type": "markdown",
      "metadata": {
        "id": "irdtznv8Tkxg",
        "colab_type": "text"
      },
      "source": [
        "Why was an observation predicted as benign? This local explanation shows the clear difference in support for the malignant v/s benign classes, by feature in the model."
      ]
    },
    {
      "cell_type": "code",
      "metadata": {
        "id": "8NgGKyZhKeSX",
        "colab_type": "code",
        "outputId": "83143b7d-9103-47f8-c804-4509beb21068",
        "colab": {
          "base_uri": "https://localhost:8080/",
          "height": 1000,
          "referenced_widgets": [
            "d78ca13523b34d0da7caee387a236781",
            "aef6a433b0fd449896697c65903067d0",
            "8292f78f14604d739ed81adf1a1611d2",
            "ddb35171fba349d09147ac77cc046ae5",
            "2c407efec6f748ff94c6bb5e846b9c1d",
            "df618583390344e5a63f4df89065e894",
            "95672731eeb04929b02ac5fc66af116d",
            "aade6c9c55c74cb9b570d44568120d6d"
          ]
        }
      },
      "source": [
        "labels = classes\n",
        "X_test = x_test\n",
        "tab_explainer = explainer\n",
        "\n",
        "\n",
        "# Picking an observation to predict and explain\n",
        "X_explain = X_test[9:10]\n",
        "\n",
        "# Get predictions\n",
        "predictions = model.predict(X_explain)\n",
        "\n",
        "# Get local explanations\n",
        "local_tab_explanation = tab_explainer.explain_local(X_explain)\n",
        "\n",
        "# Get feature names and importance for each possible label\n",
        "local_tab_features = local_tab_explanation.get_ranked_local_names()\n",
        "local_tab_importance = local_tab_explanation.get_ranked_local_values()\n",
        "\n",
        "for l in range(len(local_tab_features)):\n",
        "    print('Support for', labels[l])\n",
        "    label = local_tab_features[l]\n",
        "    for o in range(len(label)):\n",
        "        print(\"\\tObservation\", o + 1)\n",
        "        feature_list = label[o]\n",
        "        total_support = 0\n",
        "        for f in range(len(feature_list)):\n",
        "            print(\"\\t\\t\", feature_list[f], ':', local_tab_importance[l][o][f])\n",
        "            total_support += local_tab_importance[l][o][f]\n",
        "        print(\"\\t\\t ----------\\n\\t\\t Total:\", total_support, \"Prediction:\", labels[predictions[o]])"
      ],
      "execution_count": 22,
      "outputs": [
        {
          "output_type": "display_data",
          "data": {
            "application/vnd.jupyter.widget-view+json": {
              "model_id": "d78ca13523b34d0da7caee387a236781",
              "version_minor": 0,
              "version_major": 2
            },
            "text/plain": [
              "HBox(children=(IntProgress(value=0, max=1), HTML(value='')))"
            ]
          },
          "metadata": {
            "tags": []
          }
        },
        {
          "output_type": "stream",
          "text": [
            "Support for malignant\n",
            "\tObservation 1\n",
            "\t\t worst fractal dimension : 0.0\n",
            "\t\t concavity error : 0.0\n",
            "\t\t mean texture : 0.0\n",
            "\t\t mean smoothness : 0.0\n",
            "\t\t mean compactness : 0.0\n",
            "\t\t mean concavity : 0.0\n",
            "\t\t mean concave points : 0.0\n",
            "\t\t mean symmetry : 0.0\n",
            "\t\t mean fractal dimension : 0.0\n",
            "\t\t texture error : 0.0\n",
            "\t\t perimeter error : 0.0\n",
            "\t\t worst symmetry : 0.0\n",
            "\t\t compactness error : 0.0\n",
            "\t\t smoothness error : 0.0\n",
            "\t\t symmetry error : 0.0\n",
            "\t\t fractal dimension error : 0.0\n",
            "\t\t worst radius : 0.0\n",
            "\t\t worst smoothness : 0.0\n",
            "\t\t worst compactness : 0.0\n",
            "\t\t worst concavity : 0.0\n",
            "\t\t worst concave points : 0.0\n",
            "\t\t mean radius : 0.0\n",
            "\t\t radius error : -0.005893898197237124\n",
            "\t\t concave points error : -0.0064490847024228914\n",
            "\t\t worst texture : -0.01898206466039562\n",
            "\t\t area error : -0.03477485528966803\n",
            "\t\t mean area : -0.03525150503279448\n",
            "\t\t worst area : -0.04320197799290498\n",
            "\t\t mean perimeter : -0.07386858834265941\n",
            "\t\t worst perimeter : -0.10596999721881284\n",
            "\t\t ----------\n",
            "\t\t Total: -0.32439197143689535 Prediction: benign\n",
            "Support for benign\n",
            "\tObservation 1\n",
            "\t\t worst perimeter : 0.10596999721881284\n",
            "\t\t mean perimeter : 0.0738685883426594\n",
            "\t\t worst area : 0.04320197799290515\n",
            "\t\t mean area : 0.03525150503279455\n",
            "\t\t area error : 0.03477485528966803\n",
            "\t\t worst texture : 0.01898206466039562\n",
            "\t\t concave points error : 0.0064490847024228914\n",
            "\t\t radius error : 0.005893898197237124\n",
            "\t\t mean smoothness : 0.0\n",
            "\t\t mean texture : 0.0\n",
            "\t\t texture error : 0.0\n",
            "\t\t mean compactness : 0.0\n",
            "\t\t mean concavity : 0.0\n",
            "\t\t mean concave points : 0.0\n",
            "\t\t mean symmetry : 0.0\n",
            "\t\t mean fractal dimension : 0.0\n",
            "\t\t worst fractal dimension : 0.0\n",
            "\t\t smoothness error : 0.0\n",
            "\t\t perimeter error : 0.0\n",
            "\t\t worst symmetry : 0.0\n",
            "\t\t compactness error : 0.0\n",
            "\t\t concavity error : 0.0\n",
            "\t\t symmetry error : 0.0\n",
            "\t\t fractal dimension error : 0.0\n",
            "\t\t worst radius : 0.0\n",
            "\t\t worst smoothness : 0.0\n",
            "\t\t worst compactness : 0.0\n",
            "\t\t worst concavity : 0.0\n",
            "\t\t worst concave points : 0.0\n",
            "\t\t mean radius : 0.0\n",
            "\t\t ----------\n",
            "\t\t Total: 0.32439197143689563 Prediction: benign\n"
          ],
          "name": "stdout"
        }
      ]
    },
    {
      "cell_type": "markdown",
      "metadata": {
        "id": "aqh57mckT9BC",
        "colab_type": "text"
      },
      "source": [
        "Similarly, this example shows why another observation was marked as malignant."
      ]
    },
    {
      "cell_type": "code",
      "metadata": {
        "id": "iKo4AkgWS_K_",
        "colab_type": "code",
        "colab": {
          "base_uri": "https://localhost:8080/",
          "height": 1000,
          "referenced_widgets": [
            "fcf83dc4926a4d7abb85859d0248aef7",
            "fe6bdc6aa44d4aca89b178bcc552f680",
            "bf9d82ab7f7348599cec42b7fe376579",
            "400806e38d284cdb8539b7abd68309ad",
            "704b1c18897b4dcbab6c4e8bbbab166b",
            "56815f330ddd49bb82e4054a567d3430",
            "a0b6514d6566460394d4baec6b9d408a",
            "cd7ac8e3000545479721107418135367"
          ]
        },
        "outputId": "6a901503-afbf-4445-c153-ed342889b3a3"
      },
      "source": [
        "labels = classes\n",
        "X_test = x_test\n",
        "tab_explainer = explainer\n",
        "\n",
        "\n",
        "# Picking an observation to predict and explain\n",
        "X_explain = X_test[10:11]\n",
        "\n",
        "# Get predictions\n",
        "predictions = model.predict(X_explain)\n",
        "\n",
        "# Get local explanations\n",
        "local_tab_explanation = tab_explainer.explain_local(X_explain)\n",
        "\n",
        "# Get feature names and importance for each possible label\n",
        "local_tab_features = local_tab_explanation.get_ranked_local_names()\n",
        "local_tab_importance = local_tab_explanation.get_ranked_local_values()\n",
        "\n",
        "for l in range(len(local_tab_features)):\n",
        "    print('Support for', labels[l])\n",
        "    label = local_tab_features[l]\n",
        "    for o in range(len(label)):\n",
        "        print(\"\\tObservation\", o + 1)\n",
        "        feature_list = label[o]\n",
        "        total_support = 0\n",
        "        for f in range(len(feature_list)):\n",
        "            print(\"\\t\\t\", feature_list[f], ':', local_tab_importance[l][o][f])\n",
        "            total_support += local_tab_importance[l][o][f]\n",
        "        print(\"\\t\\t ----------\\n\\t\\t Total:\", total_support, \"Prediction:\", labels[predictions[o]])"
      ],
      "execution_count": 23,
      "outputs": [
        {
          "output_type": "display_data",
          "data": {
            "application/vnd.jupyter.widget-view+json": {
              "model_id": "fcf83dc4926a4d7abb85859d0248aef7",
              "version_minor": 0,
              "version_major": 2
            },
            "text/plain": [
              "HBox(children=(IntProgress(value=0, max=1), HTML(value='')))"
            ]
          },
          "metadata": {
            "tags": []
          }
        },
        {
          "output_type": "stream",
          "text": [
            "Support for malignant\n",
            "\tObservation 1\n",
            "\t\t area error : 0.22988056389531608\n",
            "\t\t worst area : 0.17270476815664704\n",
            "\t\t worst perimeter : 0.07968193405302809\n",
            "\t\t mean perimeter : 0.044044282732817096\n",
            "\t\t mean texture : 0.014912476014857838\n",
            "\t\t worst smoothness : 0.008197031747257999\n",
            "\t\t concave points error : 0.006007558220564299\n",
            "\t\t radius error : 0.002792821604301901\n",
            "\t\t mean symmetry : 0.0\n",
            "\t\t texture error : 0.0\n",
            "\t\t mean fractal dimension : 0.0\n",
            "\t\t worst fractal dimension : 0.0\n",
            "\t\t mean concave points : 0.0\n",
            "\t\t mean concavity : 0.0\n",
            "\t\t perimeter error : 0.0\n",
            "\t\t mean smoothness : 0.0\n",
            "\t\t mean compactness : 0.0\n",
            "\t\t smoothness error : 0.0\n",
            "\t\t worst symmetry : 0.0\n",
            "\t\t compactness error : 0.0\n",
            "\t\t concavity error : 0.0\n",
            "\t\t symmetry error : 0.0\n",
            "\t\t fractal dimension error : 0.0\n",
            "\t\t worst radius : 0.0\n",
            "\t\t worst compactness : 0.0\n",
            "\t\t worst concavity : 0.0\n",
            "\t\t worst concave points : 0.0\n",
            "\t\t mean radius : 0.0\n",
            "\t\t worst texture : -0.024772812615167714\n",
            "\t\t mean area : -0.04162892819564071\n",
            "\t\t ----------\n",
            "\t\t Total: 0.49181969561398187 Prediction: malignant\n",
            "Support for benign\n",
            "\tObservation 1\n",
            "\t\t mean area : 0.04162892819564071\n",
            "\t\t worst texture : 0.02477281261516763\n",
            "\t\t worst fractal dimension : 0.0\n",
            "\t\t compactness error : 0.0\n",
            "\t\t mean smoothness : 0.0\n",
            "\t\t mean compactness : 0.0\n",
            "\t\t mean concavity : 0.0\n",
            "\t\t mean concave points : 0.0\n",
            "\t\t mean symmetry : 0.0\n",
            "\t\t mean fractal dimension : 0.0\n",
            "\t\t texture error : 0.0\n",
            "\t\t perimeter error : 0.0\n",
            "\t\t worst symmetry : 0.0\n",
            "\t\t smoothness error : 0.0\n",
            "\t\t concavity error : 0.0\n",
            "\t\t symmetry error : 0.0\n",
            "\t\t fractal dimension error : 0.0\n",
            "\t\t worst radius : 0.0\n",
            "\t\t worst compactness : 0.0\n",
            "\t\t worst concavity : 0.0\n",
            "\t\t worst concave points : 0.0\n",
            "\t\t mean radius : 0.0\n",
            "\t\t radius error : -0.0027928216043019982\n",
            "\t\t concave points error : -0.006007558220564292\n",
            "\t\t worst smoothness : -0.008197031747257999\n",
            "\t\t mean texture : -0.014912476014857852\n",
            "\t\t mean perimeter : -0.044044282732817165\n",
            "\t\t worst perimeter : -0.07968193405302802\n",
            "\t\t worst area : -0.17270476815664682\n",
            "\t\t area error : -0.22988056389531603\n",
            "\t\t ----------\n",
            "\t\t Total: -0.4918196956139818 Prediction: malignant\n"
          ],
          "name": "stdout"
        }
      ]
    }
  ]
}